{
  "nbformat": 4,
  "nbformat_minor": 0,
  "metadata": {
    "colab": {
      "provenance": [],
      "authorship_tag": "ABX9TyODxXP9kBCod2SGacX/q+N6",
      "include_colab_link": true
    },
    "kernelspec": {
      "name": "python3",
      "display_name": "Python 3"
    },
    "language_info": {
      "name": "python"
    }
  },
  "cells": [
    {
      "cell_type": "markdown",
      "metadata": {
        "id": "view-in-github",
        "colab_type": "text"
      },
      "source": [
        "<a href=\"https://colab.research.google.com/github/Superkid0714/ML-DL_practice/blob/main/%EC%8A%A4%ED%8C%B8_%EB%A9%94%EC%9D%BC_%EB%B6%84%EB%A5%98%EA%B8%B0_(Spam_Detection)_%EC%97%B0%EC%8A%B5.ipynb\" target=\"_parent\"><img src=\"https://colab.research.google.com/assets/colab-badge.svg\" alt=\"Open In Colab\"/></a>"
      ]
    },
    {
      "cell_type": "code",
      "metadata": {
        "id": "LUHqY_HCBXbe"
      },
      "source": [
        "# 배열\n",
        "import numpy as np\n",
        "\n",
        "# 데이터 분석\n",
        "import pandas as pd"
      ],
      "execution_count": null,
      "outputs": []
    },
    {
      "cell_type": "code",
      "source": [
        "# Pandas option 정의\n",
        "pd.set_option( 'display.max_columns', 20 )\n",
        "pd.set_option( 'display.max_colwidth', 20 )\n",
        "pd.set_option( 'display.unicode.east_asian_width', True )"
      ],
      "metadata": {
        "id": "ueW_zBbsC1Ec"
      },
      "execution_count": null,
      "outputs": []
    },
    {
      "cell_type": "code",
      "source": [
        "# 시각화\n",
        "import matplotlib.pyplot as plt\n",
        "import seaborn as sns"
      ],
      "metadata": {
        "id": "sigX2TCdC3w4"
      },
      "execution_count": null,
      "outputs": []
    },
    {
      "cell_type": "code",
      "source": [
        "# Jupyter note상에 그래프 결과 포함 매직 명령\n",
        "%matplotlib inline\n",
        "\n",
        "# Matplotlib 기본 글꼴 정의\n",
        "plt.rc('font', size=14)\n",
        "plt.rc('axes', labelsize=14, titlesize=14)\n",
        "plt.rc('legend', fontsize=14)\n",
        "plt.rc('xtick', labelsize=10)\n",
        "plt.rc('ytick', labelsize=10)"
      ],
      "metadata": {
        "id": "7eZSfSAWCttp"
      },
      "execution_count": null,
      "outputs": []
    },
    {
      "cell_type": "code",
      "source": [
        "import sys\n",
        "\n",
        "# 노트북이 코랩에서 실행 중인지 체크합니다.\n",
        "if 'google.colab' in sys.modules:\n",
        "    !echo 'debconf debconf/frontend select Noninteractive' | debconf-set-selections\n",
        "\n",
        "    # 나눔 폰트를 설치합니다.\n",
        "    !sudo apt-get -qq -y install fonts-nanum\n",
        "    import matplotlib.font_manager as fm\n",
        "    font_files = fm.findSystemFonts(fontpaths=['/usr/share/fonts/truetype/nanum'])\n",
        "    for fpath in font_files:\n",
        "        fm.fontManager.addfont(fpath)\n",
        "\n",
        "#     # 나눔바른고딕 폰트로 설정합니다.\n",
        "    import matplotlib.pyplot as plt\n",
        "    plt.rc('font', family='NanumBarunGothic')\n",
        "\n",
        "#     # 마이너스 기호 표시 오류 수정\n",
        "    import matplotlib\n",
        "    matplotlib.rcParams['axes.unicode_minus'] = False"
      ],
      "metadata": {
        "id": "KIgznkF5Dd4S"
      },
      "execution_count": null,
      "outputs": []
    },
    {
      "cell_type": "code",
      "source": [
        "# 경고 문제 출력 제한\n",
        "import warnings\n",
        "\n",
        "warnings.filterwarnings( 'ignore' )"
      ],
      "metadata": {
        "id": "7qgQpdtgCwHF"
      },
      "execution_count": null,
      "outputs": []
    },
    {
      "cell_type": "code",
      "source": [
        "# Tensorflow\n",
        "import tensorflow as tf\n",
        "\n",
        "tf.__version__"
      ],
      "metadata": {
        "colab": {
          "base_uri": "https://localhost:8080/",
          "height": 36
        },
        "id": "BwTdSE44NZAb",
        "outputId": "d9b8ebec-e155-423f-92c5-17790fd501d0"
      },
      "execution_count": null,
      "outputs": [
        {
          "output_type": "execute_result",
          "data": {
            "text/plain": [
              "'2.15.0'"
            ],
            "application/vnd.google.colaboratory.intrinsic+json": {
              "type": "string"
            }
          },
          "metadata": {},
          "execution_count": 115
        }
      ]
    },
    {
      "cell_type": "code",
      "metadata": {
        "id": "8BZ0m9oOgoqy"
      },
      "source": [
        "# Tensorflow Sequential model\n",
        "from tensorflow.keras.models import Sequential, Model, load_model\n",
        "\n",
        "from tensorflow.keras.layers import Dense, Input, Concatenate\n",
        "from tensorflow.keras.layers import Flatten, Dropout, BatchNormalization\n",
        "from tensorflow.keras.layers import Conv2D, MaxPooling2D, Conv2DTranspose\n",
        "from tensorflow.keras.layers import Rescaling, Embedding\n",
        "from tensorflow.keras.layers import SimpleRNN, LSTM, GRU, Bidirectional\n",
        "\n",
        "from tensorflow.keras import optimizers, regularizers\n",
        "\n",
        "from tensorflow.keras.callbacks import EarlyStopping, ModelCheckpoint, TensorBoard\n",
        "\n",
        "from tensorflow.keras.utils import plot_model, to_categorical"
      ],
      "execution_count": null,
      "outputs": []
    },
    {
      "cell_type": "code",
      "source": [
        "# 데이터 분리를 위한 함수\n",
        "from sklearn.model_selection import train_test_split"
      ],
      "metadata": {
        "id": "Y06XKfwWVa-E"
      },
      "execution_count": null,
      "outputs": []
    },
    {
      "cell_type": "code",
      "execution_count": null,
      "metadata": {
        "id": "NeO7RXhad5EE"
      },
      "outputs": [],
      "source": [
        "def disp_training( history ):\n",
        "    accuracy = history.history[\"accuracy\"]\n",
        "    val_accuracy = history.history[\"val_accuracy\"]\n",
        "    loss = history.history[\"loss\"]\n",
        "    val_loss = history.history[\"val_loss\"]\n",
        "    epochs = range( 1, len( accuracy ) + 1 )\n",
        "\n",
        "    plt.title( '훈련 및 검증 정확도' )\n",
        "    plt.plot( epochs, history.history[ 'accuracy' ], label = 'accuracy' )\n",
        "    plt.plot( epochs, history.history[ 'val_accuracy' ], label = 'val_accuracy' )\n",
        "    plt.grid()\n",
        "    plt.legend()\n",
        "    plt.xlabel( 'Epochs' )\n",
        "\n",
        "    plt.figure()\n",
        "    plt.title( '훈련 및 검증 오차' )\n",
        "\n",
        "    plt.plot( epochs, history.history[ 'loss' ], label = 'loss' )\n",
        "    plt.plot( epochs, history.history[ 'val_loss' ], label = 'val_loss' )\n",
        "    plt.grid()\n",
        "    plt.legend()\n",
        "    plt.xlabel( 'Epochs' )\n",
        "\n",
        "    plt.show()"
      ]
    },
    {
      "cell_type": "code",
      "source": [
        "def disp_loss( history ):\n",
        "    loss = history.history[\"loss\"]\n",
        "    val_loss = history.history[\"val_loss\"]\n",
        "    epochs = range( 1, len( loss ) + 1 )\n",
        "\n",
        "    plt.title( '훈련 및 검증 오차' )\n",
        "\n",
        "    plt.plot( epochs, history.history[ 'loss' ], label = 'loss' )\n",
        "    plt.plot( epochs, history.history[ 'val_loss' ], label = 'val_loss' )\n",
        "    plt.grid()\n",
        "    plt.legend()\n",
        "    plt.xlabel( 'Epochs' )\n",
        "\n",
        "    plt.show()"
      ],
      "metadata": {
        "id": "vcabEL0r38QN"
      },
      "execution_count": null,
      "outputs": []
    },
    {
      "cell_type": "markdown",
      "source": [
        "# 스팸 메일 분류기( Spam Detection )\n",
        "\n",
        "* 데이터 출처 : https://www.kaggle.com/datasets/uciml/sms-spam-collection-dataset"
      ],
      "metadata": {
        "id": "xMbugyA6eQzr"
      }
    },
    {
      "cell_type": "code",
      "source": [
        "from tensorflow.keras.preprocessing.text import Tokenizer\n",
        "from tensorflow.keras.preprocessing.sequence import pad_sequences"
      ],
      "metadata": {
        "id": "ducT3gNCeXsu"
      },
      "execution_count": null,
      "outputs": []
    },
    {
      "cell_type": "markdown",
      "source": [
        "## 데이터 준비 / 데이터 이해 / 데이터 전처리"
      ],
      "metadata": {
        "id": "iyLHhCoOellD"
      }
    },
    {
      "cell_type": "code",
      "source": [
        "data = pd.read_csv( 'spam.csv', encoding = 'latin1' )\n",
        "data.head()"
      ],
      "metadata": {
        "colab": {
          "base_uri": "https://localhost:8080/",
          "height": 206
        },
        "id": "IfLISphZengd",
        "outputId": "a66d5a68-3072-4f7a-f17f-3be4e4a75094"
      },
      "execution_count": null,
      "outputs": [
        {
          "output_type": "execute_result",
          "data": {
            "text/plain": [
              "     v1                   v2 Unnamed: 2 Unnamed: 3 Unnamed: 4\n",
              "0   ham  Go until jurong ...        NaN        NaN        NaN\n",
              "1   ham  Ok lar... Joking...        NaN        NaN        NaN\n",
              "2  spam  Free entry in 2 ...        NaN        NaN        NaN\n",
              "3   ham  U dun say so ear...        NaN        NaN        NaN\n",
              "4   ham  Nah I don't thin...        NaN        NaN        NaN"
            ],
            "text/html": [
              "\n",
              "  <div id=\"df-8fdb6ce3-bd56-456a-bb43-1b7048e4b4d4\" class=\"colab-df-container\">\n",
              "    <div>\n",
              "<style scoped>\n",
              "    .dataframe tbody tr th:only-of-type {\n",
              "        vertical-align: middle;\n",
              "    }\n",
              "\n",
              "    .dataframe tbody tr th {\n",
              "        vertical-align: top;\n",
              "    }\n",
              "\n",
              "    .dataframe thead th {\n",
              "        text-align: right;\n",
              "    }\n",
              "</style>\n",
              "<table border=\"1\" class=\"dataframe\">\n",
              "  <thead>\n",
              "    <tr style=\"text-align: right;\">\n",
              "      <th></th>\n",
              "      <th>v1</th>\n",
              "      <th>v2</th>\n",
              "      <th>Unnamed: 2</th>\n",
              "      <th>Unnamed: 3</th>\n",
              "      <th>Unnamed: 4</th>\n",
              "    </tr>\n",
              "  </thead>\n",
              "  <tbody>\n",
              "    <tr>\n",
              "      <th>0</th>\n",
              "      <td>ham</td>\n",
              "      <td>Go until jurong ...</td>\n",
              "      <td>NaN</td>\n",
              "      <td>NaN</td>\n",
              "      <td>NaN</td>\n",
              "    </tr>\n",
              "    <tr>\n",
              "      <th>1</th>\n",
              "      <td>ham</td>\n",
              "      <td>Ok lar... Joking...</td>\n",
              "      <td>NaN</td>\n",
              "      <td>NaN</td>\n",
              "      <td>NaN</td>\n",
              "    </tr>\n",
              "    <tr>\n",
              "      <th>2</th>\n",
              "      <td>spam</td>\n",
              "      <td>Free entry in 2 ...</td>\n",
              "      <td>NaN</td>\n",
              "      <td>NaN</td>\n",
              "      <td>NaN</td>\n",
              "    </tr>\n",
              "    <tr>\n",
              "      <th>3</th>\n",
              "      <td>ham</td>\n",
              "      <td>U dun say so ear...</td>\n",
              "      <td>NaN</td>\n",
              "      <td>NaN</td>\n",
              "      <td>NaN</td>\n",
              "    </tr>\n",
              "    <tr>\n",
              "      <th>4</th>\n",
              "      <td>ham</td>\n",
              "      <td>Nah I don't thin...</td>\n",
              "      <td>NaN</td>\n",
              "      <td>NaN</td>\n",
              "      <td>NaN</td>\n",
              "    </tr>\n",
              "  </tbody>\n",
              "</table>\n",
              "</div>\n",
              "    <div class=\"colab-df-buttons\">\n",
              "\n",
              "  <div class=\"colab-df-container\">\n",
              "    <button class=\"colab-df-convert\" onclick=\"convertToInteractive('df-8fdb6ce3-bd56-456a-bb43-1b7048e4b4d4')\"\n",
              "            title=\"Convert this dataframe to an interactive table.\"\n",
              "            style=\"display:none;\">\n",
              "\n",
              "  <svg xmlns=\"http://www.w3.org/2000/svg\" height=\"24px\" viewBox=\"0 -960 960 960\">\n",
              "    <path d=\"M120-120v-720h720v720H120Zm60-500h600v-160H180v160Zm220 220h160v-160H400v160Zm0 220h160v-160H400v160ZM180-400h160v-160H180v160Zm440 0h160v-160H620v160ZM180-180h160v-160H180v160Zm440 0h160v-160H620v160Z\"/>\n",
              "  </svg>\n",
              "    </button>\n",
              "\n",
              "  <style>\n",
              "    .colab-df-container {\n",
              "      display:flex;\n",
              "      gap: 12px;\n",
              "    }\n",
              "\n",
              "    .colab-df-convert {\n",
              "      background-color: #E8F0FE;\n",
              "      border: none;\n",
              "      border-radius: 50%;\n",
              "      cursor: pointer;\n",
              "      display: none;\n",
              "      fill: #1967D2;\n",
              "      height: 32px;\n",
              "      padding: 0 0 0 0;\n",
              "      width: 32px;\n",
              "    }\n",
              "\n",
              "    .colab-df-convert:hover {\n",
              "      background-color: #E2EBFA;\n",
              "      box-shadow: 0px 1px 2px rgba(60, 64, 67, 0.3), 0px 1px 3px 1px rgba(60, 64, 67, 0.15);\n",
              "      fill: #174EA6;\n",
              "    }\n",
              "\n",
              "    .colab-df-buttons div {\n",
              "      margin-bottom: 4px;\n",
              "    }\n",
              "\n",
              "    [theme=dark] .colab-df-convert {\n",
              "      background-color: #3B4455;\n",
              "      fill: #D2E3FC;\n",
              "    }\n",
              "\n",
              "    [theme=dark] .colab-df-convert:hover {\n",
              "      background-color: #434B5C;\n",
              "      box-shadow: 0px 1px 3px 1px rgba(0, 0, 0, 0.15);\n",
              "      filter: drop-shadow(0px 1px 2px rgba(0, 0, 0, 0.3));\n",
              "      fill: #FFFFFF;\n",
              "    }\n",
              "  </style>\n",
              "\n",
              "    <script>\n",
              "      const buttonEl =\n",
              "        document.querySelector('#df-8fdb6ce3-bd56-456a-bb43-1b7048e4b4d4 button.colab-df-convert');\n",
              "      buttonEl.style.display =\n",
              "        google.colab.kernel.accessAllowed ? 'block' : 'none';\n",
              "\n",
              "      async function convertToInteractive(key) {\n",
              "        const element = document.querySelector('#df-8fdb6ce3-bd56-456a-bb43-1b7048e4b4d4');\n",
              "        const dataTable =\n",
              "          await google.colab.kernel.invokeFunction('convertToInteractive',\n",
              "                                                    [key], {});\n",
              "        if (!dataTable) return;\n",
              "\n",
              "        const docLinkHtml = 'Like what you see? Visit the ' +\n",
              "          '<a target=\"_blank\" href=https://colab.research.google.com/notebooks/data_table.ipynb>data table notebook</a>'\n",
              "          + ' to learn more about interactive tables.';\n",
              "        element.innerHTML = '';\n",
              "        dataTable['output_type'] = 'display_data';\n",
              "        await google.colab.output.renderOutput(dataTable, element);\n",
              "        const docLink = document.createElement('div');\n",
              "        docLink.innerHTML = docLinkHtml;\n",
              "        element.appendChild(docLink);\n",
              "      }\n",
              "    </script>\n",
              "  </div>\n",
              "\n",
              "\n",
              "<div id=\"df-dd235307-bf25-466c-b023-dac25a1252dc\">\n",
              "  <button class=\"colab-df-quickchart\" onclick=\"quickchart('df-dd235307-bf25-466c-b023-dac25a1252dc')\"\n",
              "            title=\"Suggest charts\"\n",
              "            style=\"display:none;\">\n",
              "\n",
              "<svg xmlns=\"http://www.w3.org/2000/svg\" height=\"24px\"viewBox=\"0 0 24 24\"\n",
              "     width=\"24px\">\n",
              "    <g>\n",
              "        <path d=\"M19 3H5c-1.1 0-2 .9-2 2v14c0 1.1.9 2 2 2h14c1.1 0 2-.9 2-2V5c0-1.1-.9-2-2-2zM9 17H7v-7h2v7zm4 0h-2V7h2v10zm4 0h-2v-4h2v4z\"/>\n",
              "    </g>\n",
              "</svg>\n",
              "  </button>\n",
              "\n",
              "<style>\n",
              "  .colab-df-quickchart {\n",
              "      --bg-color: #E8F0FE;\n",
              "      --fill-color: #1967D2;\n",
              "      --hover-bg-color: #E2EBFA;\n",
              "      --hover-fill-color: #174EA6;\n",
              "      --disabled-fill-color: #AAA;\n",
              "      --disabled-bg-color: #DDD;\n",
              "  }\n",
              "\n",
              "  [theme=dark] .colab-df-quickchart {\n",
              "      --bg-color: #3B4455;\n",
              "      --fill-color: #D2E3FC;\n",
              "      --hover-bg-color: #434B5C;\n",
              "      --hover-fill-color: #FFFFFF;\n",
              "      --disabled-bg-color: #3B4455;\n",
              "      --disabled-fill-color: #666;\n",
              "  }\n",
              "\n",
              "  .colab-df-quickchart {\n",
              "    background-color: var(--bg-color);\n",
              "    border: none;\n",
              "    border-radius: 50%;\n",
              "    cursor: pointer;\n",
              "    display: none;\n",
              "    fill: var(--fill-color);\n",
              "    height: 32px;\n",
              "    padding: 0;\n",
              "    width: 32px;\n",
              "  }\n",
              "\n",
              "  .colab-df-quickchart:hover {\n",
              "    background-color: var(--hover-bg-color);\n",
              "    box-shadow: 0 1px 2px rgba(60, 64, 67, 0.3), 0 1px 3px 1px rgba(60, 64, 67, 0.15);\n",
              "    fill: var(--button-hover-fill-color);\n",
              "  }\n",
              "\n",
              "  .colab-df-quickchart-complete:disabled,\n",
              "  .colab-df-quickchart-complete:disabled:hover {\n",
              "    background-color: var(--disabled-bg-color);\n",
              "    fill: var(--disabled-fill-color);\n",
              "    box-shadow: none;\n",
              "  }\n",
              "\n",
              "  .colab-df-spinner {\n",
              "    border: 2px solid var(--fill-color);\n",
              "    border-color: transparent;\n",
              "    border-bottom-color: var(--fill-color);\n",
              "    animation:\n",
              "      spin 1s steps(1) infinite;\n",
              "  }\n",
              "\n",
              "  @keyframes spin {\n",
              "    0% {\n",
              "      border-color: transparent;\n",
              "      border-bottom-color: var(--fill-color);\n",
              "      border-left-color: var(--fill-color);\n",
              "    }\n",
              "    20% {\n",
              "      border-color: transparent;\n",
              "      border-left-color: var(--fill-color);\n",
              "      border-top-color: var(--fill-color);\n",
              "    }\n",
              "    30% {\n",
              "      border-color: transparent;\n",
              "      border-left-color: var(--fill-color);\n",
              "      border-top-color: var(--fill-color);\n",
              "      border-right-color: var(--fill-color);\n",
              "    }\n",
              "    40% {\n",
              "      border-color: transparent;\n",
              "      border-right-color: var(--fill-color);\n",
              "      border-top-color: var(--fill-color);\n",
              "    }\n",
              "    60% {\n",
              "      border-color: transparent;\n",
              "      border-right-color: var(--fill-color);\n",
              "    }\n",
              "    80% {\n",
              "      border-color: transparent;\n",
              "      border-right-color: var(--fill-color);\n",
              "      border-bottom-color: var(--fill-color);\n",
              "    }\n",
              "    90% {\n",
              "      border-color: transparent;\n",
              "      border-bottom-color: var(--fill-color);\n",
              "    }\n",
              "  }\n",
              "</style>\n",
              "\n",
              "  <script>\n",
              "    async function quickchart(key) {\n",
              "      const quickchartButtonEl =\n",
              "        document.querySelector('#' + key + ' button');\n",
              "      quickchartButtonEl.disabled = true;  // To prevent multiple clicks.\n",
              "      quickchartButtonEl.classList.add('colab-df-spinner');\n",
              "      try {\n",
              "        const charts = await google.colab.kernel.invokeFunction(\n",
              "            'suggestCharts', [key], {});\n",
              "      } catch (error) {\n",
              "        console.error('Error during call to suggestCharts:', error);\n",
              "      }\n",
              "      quickchartButtonEl.classList.remove('colab-df-spinner');\n",
              "      quickchartButtonEl.classList.add('colab-df-quickchart-complete');\n",
              "    }\n",
              "    (() => {\n",
              "      let quickchartButtonEl =\n",
              "        document.querySelector('#df-dd235307-bf25-466c-b023-dac25a1252dc button');\n",
              "      quickchartButtonEl.style.display =\n",
              "        google.colab.kernel.accessAllowed ? 'block' : 'none';\n",
              "    })();\n",
              "  </script>\n",
              "</div>\n",
              "\n",
              "    </div>\n",
              "  </div>\n"
            ],
            "application/vnd.google.colaboratory.intrinsic+json": {
              "type": "dataframe",
              "variable_name": "data",
              "summary": "{\n  \"name\": \"data\",\n  \"rows\": 5572,\n  \"fields\": [\n    {\n      \"column\": \"v1\",\n      \"properties\": {\n        \"dtype\": \"category\",\n        \"num_unique_values\": 2,\n        \"samples\": [\n          \"spam\",\n          \"ham\"\n        ],\n        \"semantic_type\": \"\",\n        \"description\": \"\"\n      }\n    },\n    {\n      \"column\": \"v2\",\n      \"properties\": {\n        \"dtype\": \"string\",\n        \"num_unique_values\": 5169,\n        \"samples\": [\n          \"Did u download the fring app?\",\n          \"Pass dis to all ur contacts n see wat u get! Red;i'm in luv wid u. Blue;u put a smile on my face. Purple;u r realy hot. Pink;u r so swt. Orange;i thnk i lyk u. Green;i realy wana go out wid u. Yelow;i wnt u bck. Black;i'm jealous of u. Brown;i miss you Nw plz giv me one color\"\n        ],\n        \"semantic_type\": \"\",\n        \"description\": \"\"\n      }\n    },\n    {\n      \"column\": \"Unnamed: 2\",\n      \"properties\": {\n        \"dtype\": \"category\",\n        \"num_unique_values\": 43,\n        \"samples\": [\n          \" GOD said\",\n          \" SHE SHUDVETOLD U. DID URGRAN KNOW?NEWAY\"\n        ],\n        \"semantic_type\": \"\",\n        \"description\": \"\"\n      }\n    },\n    {\n      \"column\": \"Unnamed: 3\",\n      \"properties\": {\n        \"dtype\": \"category\",\n        \"num_unique_values\": 10,\n        \"samples\": [\n          \" \\\\\\\"OH No! COMPETITION\\\\\\\". Who knew\",\n          \" why to miss them\"\n        ],\n        \"semantic_type\": \"\",\n        \"description\": \"\"\n      }\n    },\n    {\n      \"column\": \"Unnamed: 4\",\n      \"properties\": {\n        \"dtype\": \"category\",\n        \"num_unique_values\": 5,\n        \"samples\": [\n          \"GNT:-)\\\"\",\n          \" one day these two will become FREINDS FOREVER!\\\"\"\n        ],\n        \"semantic_type\": \"\",\n        \"description\": \"\"\n      }\n    }\n  ]\n}"
            }
          },
          "metadata": {},
          "execution_count": 121
        }
      ]
    },
    {
      "cell_type": "code",
      "source": [
        "data.info()"
      ],
      "metadata": {
        "colab": {
          "base_uri": "https://localhost:8080/"
        },
        "id": "UD585O9Ge2I3",
        "outputId": "1d34b2e5-4778-4c78-a764-2cc95e5761a7"
      },
      "execution_count": null,
      "outputs": [
        {
          "output_type": "stream",
          "name": "stdout",
          "text": [
            "<class 'pandas.core.frame.DataFrame'>\n",
            "RangeIndex: 5572 entries, 0 to 5571\n",
            "Data columns (total 5 columns):\n",
            " #   Column      Non-Null Count  Dtype \n",
            "---  ------      --------------  ----- \n",
            " 0   v1          5572 non-null   object\n",
            " 1   v2          5572 non-null   object\n",
            " 2   Unnamed: 2  50 non-null     object\n",
            " 3   Unnamed: 3  12 non-null     object\n",
            " 4   Unnamed: 4  6 non-null      object\n",
            "dtypes: object(5)\n",
            "memory usage: 217.8+ KB\n"
          ]
        }
      ]
    },
    {
      "cell_type": "markdown",
      "source": [
        "* 불필요한 변수 삭제"
      ],
      "metadata": {
        "id": "ZX1L737YgBEZ"
      }
    },
    {
      "cell_type": "code",
      "source": [
        "data.drop( [ 'Unnamed: 2', 'Unnamed: 3', 'Unnamed: 4' ],\n",
        "                  axis = 1, inplace = True )"
      ],
      "metadata": {
        "id": "ouFZZINUfchR"
      },
      "execution_count": null,
      "outputs": []
    },
    {
      "cell_type": "code",
      "source": [
        "data.head()"
      ],
      "metadata": {
        "colab": {
          "base_uri": "https://localhost:8080/",
          "height": 206
        },
        "id": "M3TFIz9rf3Dh",
        "outputId": "d45babd2-5251-4746-e047-4ad66e174625"
      },
      "execution_count": null,
      "outputs": [
        {
          "output_type": "execute_result",
          "data": {
            "text/plain": [
              "     v1                   v2\n",
              "0   ham  Go until jurong ...\n",
              "1   ham  Ok lar... Joking...\n",
              "2  spam  Free entry in 2 ...\n",
              "3   ham  U dun say so ear...\n",
              "4   ham  Nah I don't thin..."
            ],
            "text/html": [
              "\n",
              "  <div id=\"df-40ef1114-72f5-4ecd-bc0c-82bc4d545378\" class=\"colab-df-container\">\n",
              "    <div>\n",
              "<style scoped>\n",
              "    .dataframe tbody tr th:only-of-type {\n",
              "        vertical-align: middle;\n",
              "    }\n",
              "\n",
              "    .dataframe tbody tr th {\n",
              "        vertical-align: top;\n",
              "    }\n",
              "\n",
              "    .dataframe thead th {\n",
              "        text-align: right;\n",
              "    }\n",
              "</style>\n",
              "<table border=\"1\" class=\"dataframe\">\n",
              "  <thead>\n",
              "    <tr style=\"text-align: right;\">\n",
              "      <th></th>\n",
              "      <th>v1</th>\n",
              "      <th>v2</th>\n",
              "    </tr>\n",
              "  </thead>\n",
              "  <tbody>\n",
              "    <tr>\n",
              "      <th>0</th>\n",
              "      <td>ham</td>\n",
              "      <td>Go until jurong ...</td>\n",
              "    </tr>\n",
              "    <tr>\n",
              "      <th>1</th>\n",
              "      <td>ham</td>\n",
              "      <td>Ok lar... Joking...</td>\n",
              "    </tr>\n",
              "    <tr>\n",
              "      <th>2</th>\n",
              "      <td>spam</td>\n",
              "      <td>Free entry in 2 ...</td>\n",
              "    </tr>\n",
              "    <tr>\n",
              "      <th>3</th>\n",
              "      <td>ham</td>\n",
              "      <td>U dun say so ear...</td>\n",
              "    </tr>\n",
              "    <tr>\n",
              "      <th>4</th>\n",
              "      <td>ham</td>\n",
              "      <td>Nah I don't thin...</td>\n",
              "    </tr>\n",
              "  </tbody>\n",
              "</table>\n",
              "</div>\n",
              "    <div class=\"colab-df-buttons\">\n",
              "\n",
              "  <div class=\"colab-df-container\">\n",
              "    <button class=\"colab-df-convert\" onclick=\"convertToInteractive('df-40ef1114-72f5-4ecd-bc0c-82bc4d545378')\"\n",
              "            title=\"Convert this dataframe to an interactive table.\"\n",
              "            style=\"display:none;\">\n",
              "\n",
              "  <svg xmlns=\"http://www.w3.org/2000/svg\" height=\"24px\" viewBox=\"0 -960 960 960\">\n",
              "    <path d=\"M120-120v-720h720v720H120Zm60-500h600v-160H180v160Zm220 220h160v-160H400v160Zm0 220h160v-160H400v160ZM180-400h160v-160H180v160Zm440 0h160v-160H620v160ZM180-180h160v-160H180v160Zm440 0h160v-160H620v160Z\"/>\n",
              "  </svg>\n",
              "    </button>\n",
              "\n",
              "  <style>\n",
              "    .colab-df-container {\n",
              "      display:flex;\n",
              "      gap: 12px;\n",
              "    }\n",
              "\n",
              "    .colab-df-convert {\n",
              "      background-color: #E8F0FE;\n",
              "      border: none;\n",
              "      border-radius: 50%;\n",
              "      cursor: pointer;\n",
              "      display: none;\n",
              "      fill: #1967D2;\n",
              "      height: 32px;\n",
              "      padding: 0 0 0 0;\n",
              "      width: 32px;\n",
              "    }\n",
              "\n",
              "    .colab-df-convert:hover {\n",
              "      background-color: #E2EBFA;\n",
              "      box-shadow: 0px 1px 2px rgba(60, 64, 67, 0.3), 0px 1px 3px 1px rgba(60, 64, 67, 0.15);\n",
              "      fill: #174EA6;\n",
              "    }\n",
              "\n",
              "    .colab-df-buttons div {\n",
              "      margin-bottom: 4px;\n",
              "    }\n",
              "\n",
              "    [theme=dark] .colab-df-convert {\n",
              "      background-color: #3B4455;\n",
              "      fill: #D2E3FC;\n",
              "    }\n",
              "\n",
              "    [theme=dark] .colab-df-convert:hover {\n",
              "      background-color: #434B5C;\n",
              "      box-shadow: 0px 1px 3px 1px rgba(0, 0, 0, 0.15);\n",
              "      filter: drop-shadow(0px 1px 2px rgba(0, 0, 0, 0.3));\n",
              "      fill: #FFFFFF;\n",
              "    }\n",
              "  </style>\n",
              "\n",
              "    <script>\n",
              "      const buttonEl =\n",
              "        document.querySelector('#df-40ef1114-72f5-4ecd-bc0c-82bc4d545378 button.colab-df-convert');\n",
              "      buttonEl.style.display =\n",
              "        google.colab.kernel.accessAllowed ? 'block' : 'none';\n",
              "\n",
              "      async function convertToInteractive(key) {\n",
              "        const element = document.querySelector('#df-40ef1114-72f5-4ecd-bc0c-82bc4d545378');\n",
              "        const dataTable =\n",
              "          await google.colab.kernel.invokeFunction('convertToInteractive',\n",
              "                                                    [key], {});\n",
              "        if (!dataTable) return;\n",
              "\n",
              "        const docLinkHtml = 'Like what you see? Visit the ' +\n",
              "          '<a target=\"_blank\" href=https://colab.research.google.com/notebooks/data_table.ipynb>data table notebook</a>'\n",
              "          + ' to learn more about interactive tables.';\n",
              "        element.innerHTML = '';\n",
              "        dataTable['output_type'] = 'display_data';\n",
              "        await google.colab.output.renderOutput(dataTable, element);\n",
              "        const docLink = document.createElement('div');\n",
              "        docLink.innerHTML = docLinkHtml;\n",
              "        element.appendChild(docLink);\n",
              "      }\n",
              "    </script>\n",
              "  </div>\n",
              "\n",
              "\n",
              "<div id=\"df-82bb870e-1eab-44ca-9dc0-e2027ba458d5\">\n",
              "  <button class=\"colab-df-quickchart\" onclick=\"quickchart('df-82bb870e-1eab-44ca-9dc0-e2027ba458d5')\"\n",
              "            title=\"Suggest charts\"\n",
              "            style=\"display:none;\">\n",
              "\n",
              "<svg xmlns=\"http://www.w3.org/2000/svg\" height=\"24px\"viewBox=\"0 0 24 24\"\n",
              "     width=\"24px\">\n",
              "    <g>\n",
              "        <path d=\"M19 3H5c-1.1 0-2 .9-2 2v14c0 1.1.9 2 2 2h14c1.1 0 2-.9 2-2V5c0-1.1-.9-2-2-2zM9 17H7v-7h2v7zm4 0h-2V7h2v10zm4 0h-2v-4h2v4z\"/>\n",
              "    </g>\n",
              "</svg>\n",
              "  </button>\n",
              "\n",
              "<style>\n",
              "  .colab-df-quickchart {\n",
              "      --bg-color: #E8F0FE;\n",
              "      --fill-color: #1967D2;\n",
              "      --hover-bg-color: #E2EBFA;\n",
              "      --hover-fill-color: #174EA6;\n",
              "      --disabled-fill-color: #AAA;\n",
              "      --disabled-bg-color: #DDD;\n",
              "  }\n",
              "\n",
              "  [theme=dark] .colab-df-quickchart {\n",
              "      --bg-color: #3B4455;\n",
              "      --fill-color: #D2E3FC;\n",
              "      --hover-bg-color: #434B5C;\n",
              "      --hover-fill-color: #FFFFFF;\n",
              "      --disabled-bg-color: #3B4455;\n",
              "      --disabled-fill-color: #666;\n",
              "  }\n",
              "\n",
              "  .colab-df-quickchart {\n",
              "    background-color: var(--bg-color);\n",
              "    border: none;\n",
              "    border-radius: 50%;\n",
              "    cursor: pointer;\n",
              "    display: none;\n",
              "    fill: var(--fill-color);\n",
              "    height: 32px;\n",
              "    padding: 0;\n",
              "    width: 32px;\n",
              "  }\n",
              "\n",
              "  .colab-df-quickchart:hover {\n",
              "    background-color: var(--hover-bg-color);\n",
              "    box-shadow: 0 1px 2px rgba(60, 64, 67, 0.3), 0 1px 3px 1px rgba(60, 64, 67, 0.15);\n",
              "    fill: var(--button-hover-fill-color);\n",
              "  }\n",
              "\n",
              "  .colab-df-quickchart-complete:disabled,\n",
              "  .colab-df-quickchart-complete:disabled:hover {\n",
              "    background-color: var(--disabled-bg-color);\n",
              "    fill: var(--disabled-fill-color);\n",
              "    box-shadow: none;\n",
              "  }\n",
              "\n",
              "  .colab-df-spinner {\n",
              "    border: 2px solid var(--fill-color);\n",
              "    border-color: transparent;\n",
              "    border-bottom-color: var(--fill-color);\n",
              "    animation:\n",
              "      spin 1s steps(1) infinite;\n",
              "  }\n",
              "\n",
              "  @keyframes spin {\n",
              "    0% {\n",
              "      border-color: transparent;\n",
              "      border-bottom-color: var(--fill-color);\n",
              "      border-left-color: var(--fill-color);\n",
              "    }\n",
              "    20% {\n",
              "      border-color: transparent;\n",
              "      border-left-color: var(--fill-color);\n",
              "      border-top-color: var(--fill-color);\n",
              "    }\n",
              "    30% {\n",
              "      border-color: transparent;\n",
              "      border-left-color: var(--fill-color);\n",
              "      border-top-color: var(--fill-color);\n",
              "      border-right-color: var(--fill-color);\n",
              "    }\n",
              "    40% {\n",
              "      border-color: transparent;\n",
              "      border-right-color: var(--fill-color);\n",
              "      border-top-color: var(--fill-color);\n",
              "    }\n",
              "    60% {\n",
              "      border-color: transparent;\n",
              "      border-right-color: var(--fill-color);\n",
              "    }\n",
              "    80% {\n",
              "      border-color: transparent;\n",
              "      border-right-color: var(--fill-color);\n",
              "      border-bottom-color: var(--fill-color);\n",
              "    }\n",
              "    90% {\n",
              "      border-color: transparent;\n",
              "      border-bottom-color: var(--fill-color);\n",
              "    }\n",
              "  }\n",
              "</style>\n",
              "\n",
              "  <script>\n",
              "    async function quickchart(key) {\n",
              "      const quickchartButtonEl =\n",
              "        document.querySelector('#' + key + ' button');\n",
              "      quickchartButtonEl.disabled = true;  // To prevent multiple clicks.\n",
              "      quickchartButtonEl.classList.add('colab-df-spinner');\n",
              "      try {\n",
              "        const charts = await google.colab.kernel.invokeFunction(\n",
              "            'suggestCharts', [key], {});\n",
              "      } catch (error) {\n",
              "        console.error('Error during call to suggestCharts:', error);\n",
              "      }\n",
              "      quickchartButtonEl.classList.remove('colab-df-spinner');\n",
              "      quickchartButtonEl.classList.add('colab-df-quickchart-complete');\n",
              "    }\n",
              "    (() => {\n",
              "      let quickchartButtonEl =\n",
              "        document.querySelector('#df-82bb870e-1eab-44ca-9dc0-e2027ba458d5 button');\n",
              "      quickchartButtonEl.style.display =\n",
              "        google.colab.kernel.accessAllowed ? 'block' : 'none';\n",
              "    })();\n",
              "  </script>\n",
              "</div>\n",
              "\n",
              "    </div>\n",
              "  </div>\n"
            ],
            "application/vnd.google.colaboratory.intrinsic+json": {
              "type": "dataframe",
              "variable_name": "data",
              "summary": "{\n  \"name\": \"data\",\n  \"rows\": 5572,\n  \"fields\": [\n    {\n      \"column\": \"v1\",\n      \"properties\": {\n        \"dtype\": \"category\",\n        \"num_unique_values\": 2,\n        \"samples\": [\n          \"spam\",\n          \"ham\"\n        ],\n        \"semantic_type\": \"\",\n        \"description\": \"\"\n      }\n    },\n    {\n      \"column\": \"v2\",\n      \"properties\": {\n        \"dtype\": \"string\",\n        \"num_unique_values\": 5169,\n        \"samples\": [\n          \"Did u download the fring app?\",\n          \"Pass dis to all ur contacts n see wat u get! Red;i'm in luv wid u. Blue;u put a smile on my face. Purple;u r realy hot. Pink;u r so swt. Orange;i thnk i lyk u. Green;i realy wana go out wid u. Yelow;i wnt u bck. Black;i'm jealous of u. Brown;i miss you Nw plz giv me one color\"\n        ],\n        \"semantic_type\": \"\",\n        \"description\": \"\"\n      }\n    }\n  ]\n}"
            }
          },
          "metadata": {},
          "execution_count": 124
        }
      ]
    },
    {
      "cell_type": "markdown",
      "source": [
        "* v1 변수 내용을 0, 1로 변경\n",
        "    * ham : 0\n",
        "    * spam : 1"
      ],
      "metadata": {
        "id": "zmQpO3j2gW6U"
      }
    },
    {
      "cell_type": "code",
      "source": [
        "data[ 'v1' ].unique()"
      ],
      "metadata": {
        "colab": {
          "base_uri": "https://localhost:8080/"
        },
        "id": "YYfz7i1igtS3",
        "outputId": "b6747d6a-7e23-41de-f397-ce9a635a61eb"
      },
      "execution_count": null,
      "outputs": [
        {
          "output_type": "execute_result",
          "data": {
            "text/plain": [
              "array(['ham', 'spam'], dtype=object)"
            ]
          },
          "metadata": {},
          "execution_count": 125
        }
      ]
    },
    {
      "cell_type": "code",
      "source": [
        "data[ 'v1' ] = data[ 'v1' ].replace( [ 'ham', 'spam' ], [ 0, 1 ] )\n",
        "\n",
        "data[ 'v1' ].unique()"
      ],
      "metadata": {
        "colab": {
          "base_uri": "https://localhost:8080/"
        },
        "id": "6lN_oBJCf4Q5",
        "outputId": "7f22344a-cce8-4e43-f2ba-f82bb7254b02"
      },
      "execution_count": null,
      "outputs": [
        {
          "output_type": "execute_result",
          "data": {
            "text/plain": [
              "array([0, 1])"
            ]
          },
          "metadata": {},
          "execution_count": 126
        }
      ]
    },
    {
      "cell_type": "code",
      "source": [
        "data.info()"
      ],
      "metadata": {
        "colab": {
          "base_uri": "https://localhost:8080/"
        },
        "id": "qr5BL13XgwcW",
        "outputId": "4bc484bd-1bdb-48d5-98f6-b182c80f45bd"
      },
      "execution_count": null,
      "outputs": [
        {
          "output_type": "stream",
          "name": "stdout",
          "text": [
            "<class 'pandas.core.frame.DataFrame'>\n",
            "RangeIndex: 5572 entries, 0 to 5571\n",
            "Data columns (total 2 columns):\n",
            " #   Column  Non-Null Count  Dtype \n",
            "---  ------  --------------  ----- \n",
            " 0   v1      5572 non-null   int64 \n",
            " 1   v2      5572 non-null   object\n",
            "dtypes: int64(1), object(1)\n",
            "memory usage: 87.2+ KB\n"
          ]
        }
      ]
    },
    {
      "cell_type": "markdown",
      "source": [
        "* 결측치 확인"
      ],
      "metadata": {
        "id": "iqtvAiUTh110"
      }
    },
    {
      "cell_type": "code",
      "source": [
        "data.isnull().sum()"
      ],
      "metadata": {
        "colab": {
          "base_uri": "https://localhost:8080/"
        },
        "id": "K73C_v-whs1d",
        "outputId": "f1433fdc-6230-40f3-fda8-89bb4ba10bae"
      },
      "execution_count": null,
      "outputs": [
        {
          "output_type": "execute_result",
          "data": {
            "text/plain": [
              "v1    0\n",
              "v2    0\n",
              "dtype: int64"
            ]
          },
          "metadata": {},
          "execution_count": 128
        }
      ]
    },
    {
      "cell_type": "code",
      "source": [
        "data.isnull().values.any()"
      ],
      "metadata": {
        "colab": {
          "base_uri": "https://localhost:8080/"
        },
        "id": "j4okXHbdh7YS",
        "outputId": "6eb35d96-fb87-4c2b-85e1-42fe2d7fffc3"
      },
      "execution_count": null,
      "outputs": [
        {
          "output_type": "execute_result",
          "data": {
            "text/plain": [
              "False"
            ]
          },
          "metadata": {},
          "execution_count": 129
        }
      ]
    },
    {
      "cell_type": "code",
      "source": [
        "data.isnull().mean()"
      ],
      "metadata": {
        "colab": {
          "base_uri": "https://localhost:8080/"
        },
        "id": "rGstvuK9h-qa",
        "outputId": "ad999e2c-4ba5-4587-8cbd-9d17123eb775"
      },
      "execution_count": null,
      "outputs": [
        {
          "output_type": "execute_result",
          "data": {
            "text/plain": [
              "v1    0.0\n",
              "v2    0.0\n",
              "dtype: float64"
            ]
          },
          "metadata": {},
          "execution_count": 130
        }
      ]
    },
    {
      "cell_type": "markdown",
      "source": [
        "* 중복 데이터 확인"
      ],
      "metadata": {
        "id": "YNNTJKE9jMBU"
      }
    },
    {
      "cell_type": "code",
      "source": [
        "data[ 'v2' ].count()    # v2 변수 총 데이터 수"
      ],
      "metadata": {
        "colab": {
          "base_uri": "https://localhost:8080/"
        },
        "id": "3AXg5JygjXQz",
        "outputId": "9a479aef-37bf-4a7d-e2a1-5f8ffaa06c3f"
      },
      "execution_count": null,
      "outputs": [
        {
          "output_type": "execute_result",
          "data": {
            "text/plain": [
              "5572"
            ]
          },
          "metadata": {},
          "execution_count": 131
        }
      ]
    },
    {
      "cell_type": "code",
      "source": [
        "data[ 'v2' ].nunique()  # v2 변수 중복 제거 데이터 수"
      ],
      "metadata": {
        "colab": {
          "base_uri": "https://localhost:8080/"
        },
        "id": "_An9d3U3iIVI",
        "outputId": "85e2fc87-86fb-44d6-9e47-ad6bf111b2c1"
      },
      "execution_count": null,
      "outputs": [
        {
          "output_type": "execute_result",
          "data": {
            "text/plain": [
              "5169"
            ]
          },
          "metadata": {},
          "execution_count": 132
        }
      ]
    },
    {
      "cell_type": "code",
      "source": [
        "print( f\"중복 데이터 수 : {data[ 'v2' ].count()  - data[ 'v2' ].nunique()}\" )"
      ],
      "metadata": {
        "colab": {
          "base_uri": "https://localhost:8080/"
        },
        "id": "Z9uVdj4GjTME",
        "outputId": "de4e945a-6d77-411a-add5-3106e0b3facf"
      },
      "execution_count": null,
      "outputs": [
        {
          "output_type": "stream",
          "name": "stdout",
          "text": [
            "중복 데이터 수 : 403\n"
          ]
        }
      ]
    },
    {
      "cell_type": "code",
      "source": [
        "data.drop_duplicates( subset = [ 'v2' ], inplace = True )\n",
        "\n",
        "print( f\"중복 제거 후 샘플 수 : {data[ 'v2' ].count()}\" )"
      ],
      "metadata": {
        "colab": {
          "base_uri": "https://localhost:8080/"
        },
        "id": "-yhDCRujjzow",
        "outputId": "f7542309-8c1f-4b1b-e006-639470b7e89d"
      },
      "execution_count": null,
      "outputs": [
        {
          "output_type": "stream",
          "name": "stdout",
          "text": [
            "중복 제거 후 샘플 수 : 5169\n"
          ]
        }
      ]
    },
    {
      "cell_type": "markdown",
      "source": [
        "* 데이터 이해"
      ],
      "metadata": {
        "id": "Q9RYON7nk__P"
      }
    },
    {
      "cell_type": "code",
      "source": [
        "print( f\"v1 변수 데이터 분포 : {data[ 'v1' ].value_counts()}\" )\n",
        "data[ 'v1' ].value_counts().plot( kind = 'bar' )"
      ],
      "metadata": {
        "colab": {
          "base_uri": "https://localhost:8080/",
          "height": 543
        },
        "id": "mxNRNK8Ik2dW",
        "outputId": "fed642bf-84ff-48ad-f529-106bddca7bef"
      },
      "execution_count": null,
      "outputs": [
        {
          "output_type": "stream",
          "name": "stdout",
          "text": [
            "v1 변수 데이터 분포 : v1\n",
            "0    4516\n",
            "1     653\n",
            "Name: count, dtype: int64\n"
          ]
        },
        {
          "output_type": "execute_result",
          "data": {
            "text/plain": [
              "<Axes: xlabel='v1'>"
            ]
          },
          "metadata": {},
          "execution_count": 135
        },
        {
          "output_type": "display_data",
          "data": {
            "text/plain": [
              "<Figure size 640x480 with 1 Axes>"
            ],
            "image/png": "[encoded data removed]"
          },
          "metadata": {}
        }
      ]
    },
    {
      "cell_type": "code",
      "source": [
        "print( f'정상 메일 비율 : {round( data[ \"v1\" ].value_counts()[ 0 ] / len( data) * 100, 3 )}%' )\n",
        "print( f'스팸 메일 비율 : {round( data[ \"v1\" ].value_counts()[ 1 ] / len( data) * 100, 3 )}%' )"
      ],
      "metadata": {
        "colab": {
          "base_uri": "https://localhost:8080/"
        },
        "id": "AFhGxZxElOs1",
        "outputId": "5c37e49c-6a58-428f-bb08-326dc882b4bc"
      },
      "execution_count": null,
      "outputs": [
        {
          "output_type": "stream",
          "name": "stdout",
          "text": [
            "정상 메일 비율 : 87.367%\n",
            "스팸 메일 비율 : 12.633%\n"
          ]
        }
      ]
    },
    {
      "cell_type": "markdown",
      "source": [
        "* 입력 데이터 / 정답 데이터 분리"
      ],
      "metadata": {
        "id": "qMCiTCzWmrcB"
      }
    },
    {
      "cell_type": "code",
      "source": [
        "X_data = data[ 'v2' ]\n",
        "y_data = data[ 'v1' ]"
      ],
      "metadata": {
        "id": "gJ_QGnFMmBsV"
      },
      "execution_count": null,
      "outputs": []
    },
    {
      "cell_type": "code",
      "source": [
        "print( f\"입력 데이터( 메일 본문 ) 수 : {len( X_data )}\" )\n",
        "print( f\"정답 데이터( 스팸 유무 ) 수 : {len( y_data )}\" )"
      ],
      "metadata": {
        "colab": {
          "base_uri": "https://localhost:8080/"
        },
        "id": "ZI1_9zDTm2VO",
        "outputId": "ede22109-98d7-4268-93ec-a344fbe64619"
      },
      "execution_count": null,
      "outputs": [
        {
          "output_type": "stream",
          "name": "stdout",
          "text": [
            "입력 데이터( 메일 본문 ) 수 : 5169\n",
            "정답 데이터( 스팸 유무 ) 수 : 5169\n"
          ]
        }
      ]
    },
    {
      "cell_type": "markdown",
      "source": [
        "* 훈련 / 테스트 데이터 분리"
      ],
      "metadata": {
        "id": "pno3X6jenNg-"
      }
    },
    {
      "cell_type": "code",
      "source": [
        "# stratify = y_data : y_data 분포 비율에 따른 데이터 분리\n",
        "X_train, X_test, y_train, y_test = train_test_split(\n",
        "    X_data, y_data, test_size = 0.2, random_state = 42,\n",
        "    stratify = y_data\n",
        ")"
      ],
      "metadata": {
        "id": "i2BsxFSonDVm"
      },
      "execution_count": null,
      "outputs": []
    },
    {
      "cell_type": "code",
      "source": [
        "print( f'훈련 메일 비율 : {round( y_train.value_counts()[ 0 ] / len( y_train ) * 100, 3 )}%' )\n",
        "print( f'훈련 스팸 비율 : {round( y_train.value_counts()[ 1 ] / len( y_train ) * 100, 3 )}%' )"
      ],
      "metadata": {
        "colab": {
          "base_uri": "https://localhost:8080/"
        },
        "id": "KY8-9tKSnhzQ",
        "outputId": "1f210098-972a-4b96-eb41-a79be5f0b543"
      },
      "execution_count": null,
      "outputs": [
        {
          "output_type": "stream",
          "name": "stdout",
          "text": [
            "훈련 메일 비율 : 87.376%\n",
            "훈련 스팸 비율 : 12.624%\n"
          ]
        }
      ]
    },
    {
      "cell_type": "code",
      "source": [
        "print( f'테스트 메일 비율 : {round( y_test.value_counts()[ 0 ] / len( y_test ) * 100, 3 )}%' )\n",
        "print( f'테스트 스팸 비율 : {round( y_test.value_counts()[ 1 ] / len( y_test ) * 100, 3 )}%' )"
      ],
      "metadata": {
        "colab": {
          "base_uri": "https://localhost:8080/"
        },
        "id": "zrfTWKUWn8dH",
        "outputId": "4b9cbe68-2e21-4a99-82d4-ec4af8aa80e2"
      },
      "execution_count": null,
      "outputs": [
        {
          "output_type": "stream",
          "name": "stdout",
          "text": [
            "테스트 메일 비율 : 87.331%\n",
            "테스트 스팸 비율 : 12.669%\n"
          ]
        }
      ]
    },
    {
      "cell_type": "markdown",
      "source": [
        "### 텍스트 처리"
      ],
      "metadata": {
        "id": "8SA35YxLopgt"
      }
    },
    {
      "cell_type": "code",
      "source": [
        "tokenizer = Tokenizer()\n",
        "tokenizer.fit_on_texts( X_train )\n",
        "\n",
        "# 훈련 입력 데이터 토큰화\n",
        "X_train_encoded = tokenizer.texts_to_sequences( X_train )\n",
        "print( X_train_encoded[ :5 ] )"
      ],
      "metadata": {
        "colab": {
          "base_uri": "https://localhost:8080/"
        },
        "id": "lWaanciAoEN1",
        "outputId": "3838ad8f-cf55-4d13-cff1-6c0d5df54ae3"
      },
      "execution_count": null,
      "outputs": [
        {
          "output_type": "stream",
          "name": "stdout",
          "text": [
            "[[281, 23, 44, 60, 3, 469, 107, 3487, 7, 3488, 180], [556, 23, 218, 752, 316], [12, 854, 583, 61, 24, 397, 2, 16, 1160, 30, 3, 67, 1160, 74, 65], [127, 37, 619, 620, 621, 17, 113, 62, 3489, 12, 142, 925, 4, 3490, 15, 3491, 855, 8, 38, 4, 3492, 201, 60, 1018, 33, 3, 55], [3493, 1335, 22, 2318]]\n"
          ]
        }
      ]
    },
    {
      "cell_type": "code",
      "source": [
        "# 단어 집합\n",
        "word_to_index = tokenizer.word_index\n",
        "print( word_to_index.items())"
      ],
      "metadata": {
        "colab": {
          "base_uri": "https://localhost:8080/"
        },
        "id": "b9F016CFtL2e",
        "outputId": "61669016-d7b2-485b-8c20-28c2204dde13"
      },
      "execution_count": null,
      "outputs": [
        {
          "output_type": "stream",
          "name": "stdout",
          "text": [
            "dict_items([('i', 1), ('to', 2), ('you', 3), ('a', 4), ('the', 5), ('u', 6), ('and', 7), ('in', 8), ('is', 9), ('me', 10), ('for', 11), ('my', 12), ('your', 13), ('it', 14), ('of', 15), ('have', 16), ('2', 17), ('that', 18), ('call', 19), ('on', 20), ('are', 21), ('now', 22), ('so', 23), ('not', 24), ('but', 25), ('can', 26), (\"i'm\", 27), ('or', 28), ('at', 29), ('do', 30), ('get', 31), ('will', 32), ('if', 33), ('we', 34), ('be', 35), ('just', 36), ('ur', 37), ('with', 38), ('no', 39), ('this', 40), ('up', 41), ('gt', 42), ('lt', 43), ('how', 44), ('when', 45), ('ok', 46), ('4', 47), ('from', 48), ('out', 49), ('go', 50), ('what', 51), ('all', 52), ('free', 53), ('know', 54), ('like', 55), ('got', 56), ('then', 57), ('good', 58), ('time', 59), ('come', 60), ('was', 61), ('am', 62), ('he', 63), ('its', 64), ('day', 65), ('there', 66), ('want', 67), ('text', 68), ('only', 69), ('love', 70), ('going', 71), ('send', 72), ('lor', 73), ('one', 74), ('by', 75), ('home', 76), ('as', 77), ('need', 78), ('still', 79), ('txt', 80), ('see', 81), ('about', 82), ('r', 83), ('stop', 84), ('our', 85), ('da', 86), (\"i'll\", 87), ('take', 88), ('reply', 89), ('think', 90), ('sorry', 91), ('back', 92), ('today', 93), ('hi', 94), ('new', 95), ('n', 96), ('any', 97), ('she', 98), ('k', 99), ('tell', 100), ('here', 101), ('dont', 102), ('please', 103), ('oh', 104), ('mobile', 105), (\"don't\", 106), ('been', 107), ('ì', 108), ('her', 109), ('they', 110), ('did', 111), ('well', 112), ('much', 113), ('phone', 114), ('week', 115), ('night', 116), ('too', 117), ('hey', 118), ('an', 119), ('him', 120), ('more', 121), ('great', 122), ('happy', 123), ('some', 124), ('wat', 125), ('dear', 126), ('hope', 127), ('1', 128), ('where', 129), (\"it's\", 130), ('make', 131), ('c', 132), ('give', 133), ('pls', 134), ('yeah', 135), ('has', 136), ('msg', 137), ('had', 138), ('e', 139), ('later', 140), ('already', 141), ('way', 142), ('after', 143), ('claim', 144), ('yes', 145), ('number', 146), ('www', 147), ('doing', 148), ('meet', 149), ('should', 150), ('said', 151), ('who', 152), ('work', 153), ('tomorrow', 154), ('really', 155), ('right', 156), ('why', 157), ('prize', 158), ('cash', 159), ('im', 160), ('3', 161), ('ask', 162), ('lol', 163), ('b', 164), ('say', 165), ('anything', 166), ('find', 167), ('cos', 168), ('sure', 169), ('also', 170), (\"i've\", 171), ('miss', 172), ('message', 173), ('every', 174), ('them', 175), ('babe', 176), ('very', 177), ('thanks', 178), ('something', 179), ('before', 180), ('let', 181), ('wait', 182), ('care', 183), ('over', 184), ('keep', 185), ('contact', 186), ('next', 187), ('sent', 188), ('last', 189), ('first', 190), ('buy', 191), ('us', 192), ('win', 193), ('life', 194), ('d', 195), ('com', 196), ('were', 197), ('off', 198), ('won', 199), ('would', 200), ('tonight', 201), ('s', 202), ('morning', 203), ('amp', 204), ('again', 205), ('t', 206), ('thing', 207), ('uk', 208), ('his', 209), ('min', 210), ('money', 211), ('around', 212), ('which', 213), ('haha', 214), ('could', 215), ('pick', 216), ('gonna', 217), ('late', 218), ('soon', 219), ('down', 220), ('dun', 221), ('urgent', 222), ('ya', 223), ('many', 224), ('yet', 225), ('feel', 226), (\"that's\", 227), ('wan', 228), ('cant', 229), (\"you're\", 230), ('ìï', 231), ('150p', 232), ('sleep', 233), ('chat', 234), ('even', 235), ('someone', 236), ('5', 237), ('getting', 238), ('per', 239), ('same', 240), ('always', 241), ('nokia', 242), ('place', 243), ('help', 244), ('friend', 245), ('other', 246), ('done', 247), ('try', 248), ('leave', 249), ('50', 250), ('told', 251), ('went', 252), ('nice', 253), ('thk', 254), ('service', 255), ('things', 256), ('sms', 257), ('v', 258), ('coming', 259), ('year', 260), ('fine', 261), ('customer', 262), ('co', 263), ('yup', 264), ('class', 265), ('tone', 266), ('talk', 267), (\"can't\", 268), ('gud', 269), ('ill', 270), (\"didn't\", 271), ('mins', 272), ('stuff', 273), ('use', 274), ('waiting', 275), ('trying', 276), ('18', 277), ('hello', 278), ('thought', 279), ('half', 280), ('cool', 281), ('having', 282), ('wk', 283), ('6', 284), ('16', 285), ('best', 286), ('account', 287), ('jus', 288), ('friends', 289), ('finish', 290), ('may', 291), ('thats', 292), ('y', 293), ('lar', 294), ('never', 295), ('wish', 296), ('than', 297), ('end', 298), ('check', 299), ('line', 300), ('meeting', 301), ('eat', 302), ('lunch', 303), ('guess', 304), ('enjoy', 305), ('long', 306), ('house', 307), ('smile', 308), ('people', 309), ('few', 310), ('ah', 311), ('ready', 312), ('bit', 313), ('month', 314), ('guaranteed', 315), ('dinner', 316), ('video', 317), ('being', 318), ('å£1', 319), ('live', 320), ('holiday', 321), ('car', 322), ('probably', 323), ('big', 324), ('liao', 325), ('x', 326), ('another', 327), ('draw', 328), ('luv', 329), ('7', 330), ('does', 331), ('dat', 332), ('shows', 333), ('better', 334), ('quite', 335), ('person', 336), ('yo', 337), ('early', 338), ('might', 339), ('days', 340), ('anyway', 341), ('guys', 342), ('remember', 343), ('shit', 344), ('name', 345), ('thanx', 346), ('chance', 347), ('left', 348), ('weekend', 349), ('job', 350), ('den', 351), ('room', 352), ('dunno', 353), ('cs', 354), ('special', 355), ('xxx', 356), ('thank', 357), ('shall', 358), ('nothing', 359), ('shopping', 360), ('problem', 361), ('bad', 362), ('heart', 363), ('word', 364), ('until', 365), ('sir', 366), ('wanna', 367), ('real', 368), ('didnt', 369), ('mind', 370), ('look', 371), ('sweet', 372), ('cost', 373), ('god', 374), ('man', 375), ('box', 376), ('face', 377), ('offer', 378), ('guy', 379), ('okay', 380), ('hear', 381), ('play', 382), ('little', 383), ('bed', 384), ('speak', 385), ('once', 386), ('code', 387), ('wot', 388), ('awarded', 389), ('sat', 390), ('working', 391), ('fuck', 392), ('start', 393), (\"how's\", 394), ('into', 395), ('must', 396), ('able', 397), ('latest', 398), ('hour', 399), ('join', 400), (\"he's\", 401), ('texts', 402), ('g', 403), ('bus', 404), ('10', 405), ('abt', 406), ('those', 407), ('forgot', 408), ('reach', 409), ('ll', 410), ('goes', 411), ('fun', 412), ('watching', 413), ('000', 414), ('boy', 415), ('lot', 416), ('princess', 417), ('po', 418), ('150ppm', 419), ('aight', 420), ('birthday', 421), ('girl', 422), ('å£1000', 423), ('bring', 424), ('juz', 425), ('ringtone', 426), ('network', 427), ('wont', 428), ('tmr', 429), ('looking', 430), ('stay', 431), ('afternoon', 432), ('tv', 433), ('baby', 434), ('mail', 435), (\"haven't\", 436), ('receive', 437), ('rate', 438), ('office', 439), ('ever', 440), ('put', 441), ('2nd', 442), ('watch', 443), ('minutes', 444), ('1st', 445), ('leh', 446), ('maybe', 447), ('since', 448), ('camera', 449), ('says', 450), ('plus', 451), ('part', 452), ('school', 453), ('kiss', 454), ('town', 455), ('though', 456), ('wanted', 457), ('pa', 458), ('asked', 459), ('dad', 460), ('while', 461), ('most', 462), (\"there's\", 463), ('price', 464), ('times', 465), ('actually', 466), ('enough', 467), ('show', 468), ('havent', 469), ('dude', 470), ('years', 471), ('9', 472), ('between', 473), ('two', 474), ('called', 475), ('wake', 476), ('sexy', 477), ('alright', 478), ('dis', 479), ('apply', 480), ('m', 481), ('til', 482), ('pay', 483), ('everything', 484), ('bt', 485), ('landline', 486), ('away', 487), ('attempt', 488), ('because', 489), ('plan', 490), ('wif', 491), ('details', 492), ('missed', 493), ('else', 494), ('8', 495), ('tones', 496), (\"won't\", 497), ('gift', 498), ('messages', 499), ('food', 500), ('oso', 501), ('together', 502), ('goin', 503), ('trip', 504), ('shop', 505), ('ard', 506), ('yesterday', 507), ('saw', 508), ('xmas', 509), ('nite', 510), ('easy', 511), ('saying', 512), ('calls', 513), ('busy', 514), ('10p', 515), ('making', 516), ('family', 517), ('update', 518), ('world', 519), ('came', 520), ('makes', 521), ('true', 522), ('means', 523), ('selected', 524), ('evening', 525), ('important', 526), ('orange', 527), ('de', 528), ('500', 529), ('lei', 530), ('sch', 531), ('aft', 532), ('entry', 533), ('mob', 534), ('missing', 535), ('collect', 536), ('wants', 537), ('change', 538), (\"we're\", 539), ('hours', 540), ('points', 541), ('worry', 542), ('http', 543), ('id', 544), ('hair', 545), ('colour', 546), ('haf', 547), ('walk', 548), ('tried', 549), ('online', 550), ('thinking', 551), ('feeling', 552), ('order', 553), ('award', 554), (\"what's\", 555), ('huh', 556), ('whatever', 557), ('set', 558), ('gr8', 559), ('gd', 560), ('cause', 561), ('second', 562), ('game', 563), ('driving', 564), ('started', 565), ('chikku', 566), ('rite', 567), ('yours', 568), ('pain', 569), ('private', 570), ('sad', 571), ('these', 572), ('drive', 573), ('re', 574), ('beautiful', 575), ('ring', 576), ('date', 577), ('charge', 578), ('collection', 579), ('yourself', 580), ('hav', 581), ('made', 582), ('wife', 583), ('noe', 584), (\"we'll\", 585), ('music', 586), ('net', 587), ('leaving', 588), ('loving', 589), ('believe', 590), ('tomo', 591), ('games', 592), ('content', 593), ('taking', 594), ('todays', 595), ('statement', 596), ('break', 597), ('bonus', 598), ('sounds', 599), ('lesson', 600), ('club', 601), ('750', 602), ('run', 603), ('mean', 604), ('without', 605), ('happen', 606), ('question', 607), ('book', 608), ('w', 609), ('email', 610), ('nt', 611), ('anytime', 612), ('address', 613), ('plz', 614), ('neva', 615), ('pounds', 616), ('tho', 617), (\"she's\", 618), ('head', 619), (\"doesn't\", 620), ('hurt', 621), ('don', 622), ('forget', 623), ('everyone', 624), ('news', 625), ('hot', 626), ('weekly', 627), ('decimal', 628), ('pic', 629), ('outside', 630), ('answer', 631), ('brother', 632), ('lets', 633), ('words', 634), ('needs', 635), ('identifier', 636), ('expires', 637), ('top', 638), ('national', 639), ('drink', 640), ('å£100', 641), ('old', 642), ('carlos', 643), ('nope', 644), ('final', 645), ('08000930705', 646), ('tot', 647), ('lots', 648), ('bored', 649), ('open', 650), ('awesome', 651), ('finished', 652), ('sae', 653), ('xx', 654), ('girls', 655), ('services', 656), ('delivery', 657), ('minute', 658), ('valid', 659), ('86688', 660), ('college', 661), ('sis', 662), ('pub', 663), ('calling', 664), ('unsubscribe', 665), ('friendship', 666), ('company', 667), ('luck', 668), ('decided', 669), ('auction', 670), ('sister', 671), ('simple', 672), ('both', 673), ('took', 674), ('coz', 675), ('either', 676), ('mine', 677), ('ha', 678), ('test', 679), ('area', 680), ('freemsg', 681), ('bout', 682), ('03', 683), ('camcorder', 684), ('christmas', 685), ('takes', 686), ('wil', 687), ('poly', 688), ('await', 689), ('lucky', 690), ('gone', 691), ('å£500', 692), ('vouchers', 693), ('smth', 694), ('row', 695), ('oredi', 696), ('movie', 697), ('sleeping', 698), ('telling', 699), ('info', 700), ('party', 701), ('smiling', 702), ('seeing', 703), ('choose', 704), ('credit', 705), (\"c's\", 706), ('frnd', 707), ('goodmorning', 708), ('drop', 709), ('wonderful', 710), ('okie', 711), ('unlimited', 712), ('hard', 713), ('kind', 714), ('2003', 715), ('un', 716), ('darlin', 717), ('touch', 718), (\"i'd\", 719), ('post', 720), ('till', 721), ('card', 722), ('eve', 723), ('alone', 724), ('msgs', 725), ('meant', 726), ('å£2000', 727), ('caller', 728), ('mah', 729), ('comes', 730), ('fast', 731), ('mu', 732), ('course', 733), ('sending', 734), ('fucking', 735), ('å£5000', 736), ('mayb', 737), ('hungry', 738), ('100', 739), ('project', 740), (\"you'll\", 741), ('almost', 742), ('couple', 743), ('friday', 744), ('å£2', 745), ('8007', 746), ('full', 747), ('pretty', 748), ('sun', 749), ('yr', 750), ('snow', 751), ('fr', 752), ('monday', 753), ('treat', 754), ('happened', 755), ('pics', 756), ('supposed', 757), ('far', 758), ('hows', 759), ('wit', 760), ('wrong', 761), ('talking', 762), ('listen', 763), ('grins', 764), ('mate', 765), ('visit', 766), ('sea', 767), ('800', 768), ('redeemed', 769), ('mum', 770), ('kate', 771), ('support', 772), ('hmmm', 773), ('11', 774), ('found', 775), ('point', 776), ('abiola', 777), ('rental', 778), ('available', 779), ('wow', 780), ('light', 781), ('o', 782), ('cum', 783), ('india', 784), ('yar', 785), ('used', 786), ('worth', 787), ('lose', 788), ('close', 789), ('age', 790), ('dreams', 791), ('weeks', 792), ('opt', 793), ('suite342', 794), ('2lands', 795), ('prob', 796), ('finally', 797), ('å£3', 798), ('hee', 799), ('direct', 800), ('dogging', 801), ('st', 802), ('confirm', 803), ('b4', 804), (\"you've\", 805), ('anyone', 806), ('difficult', 807), ('gets', 808), ('winner', 809), ('congrats', 810), ('wid', 811), ('hold', 812), ('jay', 813), ('double', 814), ('numbers', 815), ('pobox', 816), ('lovely', 817), ('ac', 818), ('crazy', 819), ('tired', 820), ('charged', 821), ('voucher', 822), ('figure', 823), ('hmm', 824), ('earlier', 825), ('bank', 826), ('reason', 827), ('balance', 828), ('04', 829), ('asap', 830), ('gotta', 831), ('whats', 832), ('\\x89û', 833), ('side', 834), ('case', 835), ('usf', 836), ('pm', 837), ('ltd', 838), ('loads', 839), ('type', 840), ('congratulations', 841), ('seen', 842), ('ago', 843), ('hit', 844), ('cut', 845), ('smoke', 846), ('eh', 847), ('mom', 848), ('currently', 849), ('wen', 850), ('picking', 851), ('land', 852), ('12hrs', 853), ('ex', 854), ('staying', 855), ('study', 856), ('information', 857), ('met', 858), ('each', 859), ('fact', 860), ('å£250', 861), ('custcare', 862), ('loved', 863), ('thinks', 864), ('boytoy', 865), ('txts', 866), ('saturday', 867), ('sunday', 868), ('mr', 869), ('muz', 870), ('mates', 871), ('pray', 872), ('pass', 873), ('search', 874), ('th', 875), ('doesnt', 876), ('read', 877), ('20', 878), ('12', 879), ('whenever', 880), ('gym', 881), ('log', 882), ('orchard', 883), ('computer', 884), ('plans', 885), ('catch', 886), ('rest', 887), ('heard', 888), ('shower', 889), ('weed', 890), ('wonder', 891), ('offers', 892), ('bath', 893), ('gave', 894), ('å£10', 895), ('fantastic', 896), ('surprise', 897), ('etc', 898), ('bathe', 899), ('fancy', 900), ('87066', 901), ('paper', 902), ('different', 903), ('knw', 904), ('na', 905), ('lost', 906), ('woke', 907), (\"''\", 908), ('invited', 909), ('rock', 910), ('angry', 911), ('sort', 912), ('player', 913), ('crave', 914), ('months', 915), ('asking', 916), ('ass', 917), ('0800', 918), ('welcome', 919), ('somebody', 920), ('swing', 921), ('savamob', 922), ('worried', 923), ('wap', 924), ('through', 925), ('planning', 926), ('park', 927), ('2nite', 928), ('nyt', 929), ('reading', 930), ('tampa', 931), ('txting', 932), ('water', 933), ('whole', 934), ('phones', 935), ('extra', 936), ('song', 937), ('frnds', 938), ('ones', 939), ('less', 940), ('kinda', 941), ('reward', 942), ('hiya', 943), ('mm', 944), ('sell', 945), ('match', 946), ('rates', 947), ('glad', 948), ('å£200', 949), ('store', 950), ('06', 951), ('dating', 952), ('ive', 953), ('felt', 954), ('questions', 955), ('doin', 956), ('men', 957), ('stupid', 958), ('mrt', 959), ('spend', 960), ('tel', 961), ('yep', 962), ('aha', 963), ('wishing', 964), ('sex', 965), ('exam', 966), ('secret', 967), ('rs', 968), ('cancel', 969), ('small', 970), ('red', 971), ('correct', 972), ('em', 973), ('immediately', 974), ('quiz', 975), ('complimentary', 976), ('england', 977), ('eg', 978), ('lect', 979), ('studying', 980), ('ugh', 981), ('unless', 982), ('promise', 983), ('laptop', 984), ('08000839402', 985), ('02', 986), ('mobileupd8', 987), ('starting', 988), ('operator', 989), ('comp', 990), ('somewhere', 991), ('sometimes', 992), (\"wasn't\", 993), ('xy', 994), ('wkly', 995), ('tonite', 996), ('itself', 997), ('fone', 998), ('daddy', 999), ('medical', 1000), ('die', 1001), ('laugh', 1002), ('black', 1003), ('chennai', 1004), ('hoping', 1005), ('lazy', 1006), ('fri', 1007), ('move', 1008), ('reached', 1009), ('voice', 1010), ('gas', 1011), ('poor', 1012), ('myself', 1013), ('w1j6hl', 1014), ('least', 1015), ('understand', 1016), ('march', 1017), ('round', 1018), ('cd', 1019), ('eatin', 1020), ('safe', 1021), ('excellent', 1022), ('spent', 1023), ('torch', 1024), ('near', 1025), ('usual', 1026), ('nobody', 1027), ('8th', 1028), ('south', 1029), ('pete', 1030), ('gay', 1031), ('08712460324', 1032), ('terms', 1033), ('sound', 1034), ('excuse', 1035), (\"isn't\", 1036), ('bcoz', 1037), ('gettin', 1038), ('hospital', 1039), ('sitting', 1040), ('story', 1041), ('download', 1042), ('longer', 1043), ('dog', 1044), ('inc', 1045), ('ipod', 1046), ('energy', 1047), ('across', 1048), ('fixed', 1049), ('ending', 1050), ('å£350', 1051), ('starts', 1052), ('credits', 1053), ('age16', 1054), ('umma', 1055), ('players', 1056), ('wine', 1057), ('past', 1058), ('possible', 1059), ('access', 1060), ('moment', 1061), ('mistake', 1062), ('dead', 1063), ('oops', 1064), ('single', 1065), ('bak', 1066), ('150', 1067), ('mobiles', 1068), ('remove', 1069), ('std', 1070), ('happening', 1071), ('yest', 1072), ('cheers', 1073), ('mother', 1074), ('film', 1075), ('omg', 1076), ('mark', 1077), ('sign', 1078), ('thinkin', 1079), ('slow', 1080), ('booked', 1081), ('kb', 1082), ('lessons', 1083), ('blue', 1084), ('library', 1085), ('yrs', 1086), ('yoga', 1087), ('ice', 1088), ('warm', 1089), ('stand', 1090), ('din', 1091), ('user', 1092), ('slave', 1093), ('checking', 1094), ('mon', 1095), ('noon', 1096), ('ni8', 1097), ('complete', 1098), ('2day', 1099), ('strong', 1100), ('ans', 1101), ('especially', 1102), ('omw', 1103), (\"wat's\", 1104), ('uncle', 1105), ('pizza', 1106), ('drugs', 1107), ('via', 1108), ('liked', 1109), ('link', 1110), ('izzit', 1111), (\"'\", 1112), ('merry', 1113), ('call2optout', 1114), ('bid', 1115), ('flirt', 1116), ('discount', 1117), ('4u', 1118), ('truth', 1119), ('planned', 1120), ('slowly', 1121), ('interested', 1122), ('replying', 1123), ('rply', 1124), ('rain', 1125), ('darren', 1126), ('others', 1127), ('ho', 1128), ('honey', 1129), ('ts', 1130), ('deal', 1131), ('add', 1132), ('rakhesh', 1133), ('workin', 1134), ('trust', 1135), ('depends', 1136), ('tc', 1137), ('bslvyl', 1138), ('giving', 1139), ('bb', 1140), ('quick', 1141), ('hg', 1142), ('however', 1143), ('00', 1144), ('reaching', 1145), ('goodnight', 1146), ('wana', 1147), ('buying', 1148), ('changed', 1149), ('ten', 1150), ('nah', 1151), (\"god's\", 1152), ('road', 1153), ('sick', 1154), ('insurance', 1155), ('save', 1156), ('semester', 1157), ('ldn', 1158), ('nigeria', 1159), ('kids', 1160), ('cancer', 1161), ('hurts', 1162), ('bother', 1163), ('kept', 1164), ('weight', 1165), ('random', 1166), ('50p', 1167), ('idea', 1168), (\"uk's\", 1169), ('forwarded', 1170), ('knows', 1171), ('pleasure', 1172), ('awake', 1173), (\"t's\", 1174), ('tht', 1175), ('urself', 1176), ('cell', 1177), ('fat', 1178), ('law', 1179), ('app', 1180), ('bold', 1181), ('p', 1182), ('train', 1183), ('against', 1184), ('lemme', 1185), ('j', 1186), ('joined', 1187), ('personal', 1188), ('thru', 1189), ('08712300220', 1190), ('standard', 1191), ('alrite', 1192), ('vl', 1193), ('valued', 1194), ('2004', 1195), ('problems', 1196), ('gee', 1197), ('cinema', 1198), ('pc', 1199), ('naughty', 1200), ('training', 1201), ('sport', 1202), ('parents', 1203), ('11mths', 1204), ('sofa', 1205), ('track', 1206), ('nights', 1207), ('hotel', 1208), ('raining', 1209), ('happiness', 1210), ('registered', 1211), ('enter', 1212), ('door', 1213), ('meh', 1214), ('del', 1215), ('none', 1216), ('f', 1217), ('waste', 1218), ('arrive', 1219), ('wed', 1220), ('dream', 1221), ('forever', 1222), ('yay', 1223), ('power', 1224), (\"where's\", 1225), ('short', 1226), ('cute', 1227), ('08718720201', 1228), ('quality', 1229), ('comin', 1230), ('pix', 1231), ('o2', 1232), ('onto', 1233), ('tuesday', 1234), ('boss', 1235), ('87077', 1236), ('motorola', 1237), ('ends', 1238), ('cine', 1239), ('al', 1240), ('moan', 1241), ('fault', 1242), ('joking', 1243), ('frens', 1244), ('tea', 1245), ('fingers', 1246), ('damn', 1247), ('street', 1248), ('behind', 1249), ('joke', 1250), ('situation', 1251), ('forward', 1252), ('getzed', 1253), ('press', 1254), ('copy', 1255), ('weekends', 1256), ('biz', 1257), ('turns', 1258), ('within', 1259), ('ldew', 1260), ('ge', 1261), ('cup', 1262), ('bag', 1263), ('wondering', 1264), ('25', 1265), ('specially', 1266), ('knew', 1267), ('l8r', 1268), ('ave', 1269), ('paid', 1270), ('five', 1271), ('decide', 1272), ('space', 1273), ('askd', 1274), ('london', 1275), ('become', 1276), ('seems', 1277), ('tickets', 1278), ('future', 1279), ('surely', 1280), ('qatar', 1281), ('ar', 1282), ('facebook', 1283), ('nxt', 1284), ('click', 1285), ('valentine', 1286), ('normal', 1287), ('blood', 1288), ('don\\x89û÷t', 1289), ('ladies', 1290), ('feels', 1291), ('ate', 1292), ('sucks', 1293), ('following', 1294), ('cuz', 1295), ('babes', 1296), ('appreciate', 1297), ('eyes', 1298), ('sub', 1299), ('sense', 1300), ('aiyo', 1301), ('recently', 1302), ('using', 1303), ('self', 1304), ('coffee', 1305), ('feb', 1306), ('wiv', 1307), ('num', 1308), ('maximize', 1309), ('midnight', 1310), ('kano', 1311), ('hell', 1312), ('frm', 1313), ('dey', 1314), ('å£800', 1315), ('their', 1316), ('pound', 1317), ('posted', 1318), ('paying', 1319), ('dnt', 1320), ('pilates', 1321), ('bucks', 1322), ('funny', 1323), ('otherwise', 1324), ('yijue', 1325), ('putting', 1326), ('sit', 1327), ('25p', 1328), ('doctor', 1329), ('campus', 1330), ('30', 1331), ('under', 1332), ('write', 1333), ('charity', 1334), ('unsold', 1335), ('tat', 1336), ('exams', 1337), ('aiyah', 1338), ('air', 1339), ('page', 1340), ('laid', 1341), ('locations', 1342), ('ec2a', 1343), ('alex', 1344), ('kick', 1345), ('photo', 1346), ('mths', 1347), ('thnk', 1348), ('city', 1349), ('keeping', 1350), ('loverboy', 1351), ('learn', 1352), ('amazing', 1353), ('intro', 1354), ('worries', 1355), ('voda', 1356), ('quoting', 1357), ('instead', 1358), ('mo', 1359), ('7pm', 1360), (\"u've\", 1361), ('pin', 1362), ('summer', 1363), ('spree', 1364), ('05', 1365), ('model', 1366), ('rent', 1367), ('april', 1368), ('january', 1369), ('inviting', 1370), ('62468', 1371), ('hand', 1372), ('entitled', 1373), ('slept', 1374), ('review', 1375), (\"she'll\", 1376), ('relax', 1377), ('replied', 1378), ('80488', 1379), ('ntt', 1380), ('valentines', 1381), ('father', 1382), ('wear', 1383), ('advice', 1384), ('wednesday', 1385), ('admirer', 1386), ('reveal', 1387), ('ahead', 1388), ('boo', 1389), ('lik', 1390), ('ish', 1391), ('yogasana', 1392), ('looks', 1393), ('mrng', 1394), ('teach', 1395), (\"who's\", 1396), ('timing', 1397), ('mood', 1398), ('group', 1399), ('sunshine', 1400), ('present', 1401), ('barely', 1402), ('rcvd', 1403), ('ringtones', 1404), (\"aren't\", 1405), ('urawinner', 1406), ('awaiting', 1407), ('swt', 1408), ('wet', 1409), ('team', 1410), ('lead', 1411), ('king', 1412), ('high', 1413), ('contract', 1414), ('la', 1415), ('hurry', 1416), ('dint', 1417), ('seriously', 1418), ('entered', 1419), ('arrange', 1420), ('meds', 1421), ('eating', 1422), ('movies', 1423), ('handset', 1424), ('comuk', 1425), ('usually', 1426), ('request', 1427), ('21', 1428), ('notice', 1429), ('activate', 1430), ('totally', 1431), ('jazz', 1432), ('advance', 1433), ('added', 1434), ('except', 1435), ('ta', 1436), ('thatåõs', 1437), ('rose', 1438), ('clean', 1439), ('tear', 1440), ('scared', 1441), ('horny', 1442), ('definitely', 1443), ('holla', 1444), ('polys', 1445), ('shirt', 1446), ('dropped', 1447), ('respect', 1448), ('moms', 1449), ('nvm', 1450), ('gal', 1451), ('loyalty', 1452), ('btw', 1453), ('member', 1454), ('å£400', 1455), ('picked', 1456), ('opinion', 1457), ('loves', 1458), ('drug', 1459), ('tenerife', 1460), ('budget', 1461), ('trouble', 1462), ('brand', 1463), ('bugis', 1464), ('representative', 1465), ('bin', 1466), ('john', 1467), ('italian', 1468), ('internet', 1469), ('loan', 1470), ('weather', 1471), ('tough', 1472), ('during', 1473), ('gals', 1474), ('worse', 1475), ('boring', 1476), ('photos', 1477), ('amount', 1478), ('plenty', 1479), ('cc', 1480), ('sup', 1481), (\"you'd\", 1482), ('happens', 1483), ('deliver', 1484), ('cold', 1485), ('rather', 1486), ('completely', 1487), ('whether', 1488), ('pleased', 1489), ('bye', 1490), ('scream', 1491), ('marry', 1492), ('matches', 1493), ('goto', 1494), ('il', 1495), ('towards', 1496), ('waking', 1497), ('dvd', 1498), ('å£150', 1499), ('weak', 1500), ('salary', 1501), ('anymore', 1502), ('fetch', 1503), ('straight', 1504), ('cheap', 1505), ('lookin', 1506), ('realy', 1507), ('askin', 1508), ('lover', 1509), ('return', 1510), ('flag', 1511), ('reference', 1512), ('fyi', 1513), ('white', 1514), ('own', 1515), ('xchat', 1516), ('password', 1517), ('outta', 1518), ('cars', 1519), ('daily', 1520), ('tt', 1521), ('shortly', 1522), ('boys', 1523), ('village', 1524), ('largest', 1525), ('tyler', 1526), ('hun', 1527), ('ru', 1528), ('dates', 1529), ('evng', 1530), ('1000s', 1531), ('sura', 1532), (\"we've\", 1533), ('1x150p', 1534), ('imagine', 1535), ('whom', 1536), ('jst', 1537), ('truly', 1538), ('checked', 1539), ('hai', 1540), ('police', 1541), ('hr', 1542), ('prepare', 1543), ('cat', 1544), ('laughing', 1545), ('pages', 1546), ('spoken', 1547), ('hands', 1548), ('centre', 1549), ('due', 1550), ('coins', 1551), ('bedroom', 1552), ('10am', 1553), ('250', 1554), ('88039', 1555), ('skilgme', 1556), ('lift', 1557), ('masters', 1558), ('bday', 1559), ('buzz', 1560), ('easier', 1561), ('screaming', 1562), ('3d', 1563), ('works', 1564), (\"he'll\", 1565), ('discuss', 1566), ('mmm', 1567), ('geeee', 1568), ('careful', 1569), ('anybody', 1570), ('created', 1571), ('technical', 1572), ('cbe', 1573), ('armand', 1574), ('si', 1575), ('station', 1576), ('wun', 1577), ('drivin', 1578), ('cha', 1579), ('share', 1580), ('accept', 1581), ('idiot', 1582), ('vary', 1583), ('closer', 1584), ('cud', 1585), (\"they're\", 1586), ('ntwk', 1587), ('434', 1588), ('vote', 1589), ('pissed', 1590), ('partner', 1591), ('followed', 1592), ('waitin', 1593), ('anyways', 1594), (\"hasn't\", 1595), ('idk', 1596), ('leaves', 1597), ('abi', 1598), ('sale', 1599), ('serious', 1600), ('ran', 1601), ('weird', 1602), ('sore', 1603), ('battery', 1604), ('bringing', 1605), ('shuhui', 1606), ('deep', 1607), ('singles', 1608), ('places', 1609), ('stock', 1610), ('records', 1611), ('three', 1612), ('inside', 1613), ('looked', 1614), ('horrible', 1615), ('exactly', 1616), ('matter', 1617), ('died', 1618), ('cal', 1619), ('3510i', 1620), ('300', 1621), (\"mom's\", 1622), ('basically', 1623), ('accidentally', 1624), ('silent', 1625), ('inclusive', 1626), ('login', 1627), ('respond', 1628), ('no1', 1629), ('36504', 1630), ('callertune', 1631), ('bf', 1632), ('isnt', 1633), ('vikky', 1634), ('cross', 1635), (\"shouldn't\", 1636), ('wylie', 1637), ('smokes', 1638), ('system', 1639), (\"u're\", 1640), ('sam', 1641), ('birds', 1642), ('flights', 1643), ('lab', 1644), ('version', 1645), ('pussy', 1646), ('often', 1647), ('belly', 1648), ('sighs', 1649), ('esplanade', 1650), ('er', 1651), ('\\x89ûò', 1652), ('surprised', 1653), ('naked', 1654), ('package', 1655), ('themob', 1656), ('exact', 1657), ('darling', 1658), ('turn', 1659), ('ride', 1660), ('brought', 1661), ('disturb', 1662), ('earth', 1663), ('google', 1664), ('donåõt', 1665), ('hook', 1666), ('lmao', 1667), ('common', 1668), ('cam', 1669), ('opportunity', 1670), ('doc', 1671), ('celebrate', 1672), ('dirty', 1673), ('total', 1674), ('60p', 1675), ('txtauction', 1676), ('fall', 1677), ('fb', 1678), ('iåõm', 1679), ('social', 1680), ('arms', 1681), ('uni', 1682), ('moji', 1683), ('answers', 1684), ('begin', 1685), ('ache', 1686), ('pongal', 1687), ('cds', 1688), ('tncs', 1689), ('paris', 1690), ('wats', 1691), ('sony', 1692), ('86021', 1693), ('announcement', 1694), ('freephone', 1695), ('optout', 1696), ('wearing', 1697), ('hop', 1698), ('running', 1699), ('tells', 1700), ('step', 1701), ('26', 1702), ('sonyericsson', 1703), ('bluetooth', 1704), ('meal', 1705), ('brings', 1706), ('gives', 1707), ('530', 1708), ('dollars', 1709), ('charges', 1710), ('body', 1711), ('ages', 1712), ('clock', 1713), ('boston', 1714), ('afraid', 1715), ('needed', 1716), ('texted', 1717), ('textpod', 1718), ('40gb', 1719), ('process', 1720), ('bill', 1721), ('website', 1722), ('shd', 1723), ('style', 1724), ('role', 1725), ('allah', 1726), ('ad', 1727), ('smiles', 1728), ('drinks', 1729), ('unsub', 1730), ('malaria', 1731), ('aiyar', 1732), ('students', 1733), ('texting', 1734), ('current', 1735), ('season', 1736), ('basic', 1737), ('guide', 1738), ('appointment', 1739), (\"wouldn't\", 1740), ('expensive', 1741), ('grl', 1742), ('fullonsms', 1743), ('ym', 1744), ('indian', 1745), ('regards', 1746), ('sec', 1747), ('hostel', 1748), ('issues', 1749), ('lady', 1750), ('pack', 1751), ('sky', 1752), ('mad', 1753), ('85', 1754), ('85023', 1755), ('key', 1756), ('simply', 1757), ('mp3', 1758), ('competition', 1759), ('super', 1760), ('bud', 1761), ('2mrw', 1762), ('milk', 1763), ('willing', 1764), ('children', 1765), ('vomit', 1766), ('cannot', 1767), ('queen', 1768), ('rem', 1769), ('aint', 1770), ('oz', 1771), ('hw', 1772), ('hopefully', 1773), ('interview', 1774), ('å£4', 1775), ('i\\x89û÷m', 1776), ('convey', 1777), ('iam', 1778), ('english', 1779), ('arcade', 1780), (\"u'll\", 1781), ('ignore', 1782), ('gap', 1783), ('holding', 1784), ('thts', 1785), ('diet', 1786), ('smart', 1787), ('official', 1788), ('blank', 1789), ('fren', 1790), ('yun', 1791), ('zed', 1792), ('romantic', 1793), ('lovable', 1794), ('subscription', 1795), ('sp', 1796), ('hmv', 1797), ('ahmad', 1798), ('ppl', 1799), ('msgrcvdhg', 1800), ('fantasies', 1801), ('pig', 1802), ('throat', 1803), ('answering', 1804), ('euro2004', 1805), ('informed', 1806), ('results', 1807), ('chatting', 1808), ('anythin', 1809), ('suntec', 1810), ('sheets', 1811), ('lonely', 1812), ('9ja', 1813), (\"week's\", 1814), ('requests', 1815), ('wc1n3xx', 1816), ('3lp', 1817), ('cream', 1818), ('dick', 1819), ('upload', 1820), ('wah', 1821), ('def', 1822), ('conditions', 1823), ('receipt', 1824), ('08715705022', 1825), ('directly', 1826), ('calicut', 1827), ('stopped', 1828), ('irritating', 1829), ('hanging', 1830), ('ful', 1831), ('juicy', 1832), ('gossip', 1833), ('walmart', 1834), ('among', 1835), ('se', 1836), ('digital', 1837), ('w1', 1838), ('buns', 1839), ('walking', 1840), ('howz', 1841), ('twelve', 1842), ('aah', 1843), ('mnth', 1844), ('living', 1845), ('winning', 1846), ('keys', 1847), ('exciting', 1848), ('history', 1849), ('3g', 1850), ('ip4', 1851), ('5we', 1852), ('incident', 1853), ('chain', 1854), ('adult', 1855), ('promises', 1856), ('garage', 1857), ('teasing', 1858), ('handle', 1859), (\"when's\", 1860), ('album', 1861), ('kisses', 1862), ('29', 1863), ('0', 1864), ('record', 1865), ('chillin', 1866), ('broke', 1867), ('tscs087147403231winawk', 1868), ('50perwksub', 1869), ('786', 1870), ('unredeemed', 1871), ('revealed', 1872), ('bless', 1873), ('tuition', 1874), ('option', 1875), ('yan', 1876), ('jiu', 1877), ('dare', 1878), ('skype', 1879), ('maid', 1880), ('murderer', 1881), ('murdered', 1882), ('closed', 1883), ('including', 1884), ('87239', 1885), ('center', 1886), ('pop', 1887), ('xuhui', 1888), ('december', 1889), ('tour', 1890), ('sugar', 1891), ('possession', 1892), ('childish', 1893), ('popped', 1894), ('bathing', 1895), ('jamster', 1896), ('vava', 1897), ('networking', 1898), ('escape', 1899), ('wkend', 1900), ('jesus', 1901), ('everybody', 1902), (\"month's\", 1903), ('carry', 1904), ('painful', 1905), ('purchase', 1906), ('essential', 1907), ('comedy', 1908), ('railway', 1909), ('thangam', 1910), ('hate', 1911), ('alert', 1912), ('toa', 1913), ('payoh', 1914), ('teeth', 1915), ('thurs', 1916), ('child', 1917), ('wherever', 1918), ('guilty', 1919), ('shut', 1920), ('chill', 1921), ('shirts', 1922), ('membership', 1923), ('kallis', 1924), ('haiz', 1925), ('shame', 1926), ('hrs', 1927), ('shipping', 1928), ('thursday', 1929), ('diff', 1930), ('selling', 1931), ('seemed', 1932), ('rush', 1933), ('transaction', 1934), ('goal', 1935), ('ended', 1936), ('dresser', 1937), ('boost', 1938), ('university', 1939), ('dry', 1940), ('cleared', 1941), ('birla', 1942), ('soft', 1943), ('alcohol', 1944), ('surfing', 1945), (\"let's\", 1946), ('responding', 1947), ('bought', 1948), ('lifetime', 1949), ('83600', 1950), ('downloads', 1951), ('cheaper', 1952), ('pictures', 1953), ('inform', 1954), ('lil', 1955), ('roommates', 1956), ('wales', 1957), ('hill', 1958), ('rofl', 1959), ('apartment', 1960), ('fix', 1961), ('butt', 1962), ('meetin', 1963), ('raise', 1964), ('alive', 1965), ('settled', 1966), ('6hrs', 1967), ('2go', 1968), ('warner', 1969), ('returns', 1970), ('egg', 1971), ('fifteen', 1972), ('lecture', 1973), ('concert', 1974), ('åð', 1975), ('failed', 1976), ('networks', 1977), ('pple', 1978), ('iscoming', 1979), ('freefone', 1980), ('ideas', 1981), ('07xxxxxxxxx', 1982), ('09066362231', 1983), ('box97n7qp', 1984), ('morn', 1985), ('jess', 1986), ('collecting', 1987), ('settings', 1988), ('remind', 1989), ('08001950382', 1990), ('senthil', 1991), ('yetunde', 1992), ('apologise', 1993), ('flat', 1994), ('pence', 1995), ('fell', 1996), ('elsewhere', 1997), ('newest', 1998), ('addie', 1999), ('art', 2000), ('market', 2001), ('moon', 2002), ('dark', 2003), ('moral', 2004), ('gentle', 2005), ('decision', 2006), (\"dsn't\", 2007), ('logo', 2008), ('eerie', 2009), ('spook', 2010), (\"b'day\", 2011), ('colleagues', 2012), ('cake', 2013), ('term', 2014), (\"today's\", 2015), ('netcollex', 2016), ('tb', 2017), ('list', 2018), ('period', 2019), ('joy', 2020), ('science', 2021), ('booty', 2022), ('pending', 2023), ('cardiff', 2024), ('standing', 2025), ('arsenal', 2026), ('transfer', 2027), ('acc', 2028), ('regular', 2029), ('august', 2030), ('hella', 2031), ('pod', 2032), ('moby', 2033), ('82242', 2034), ('takin', 2035), (\"friend's\", 2036), ('hl', 2037), ('tirupur', 2038), ('09', 2039), ('yummy', 2040), ('24', 2041), ('0871', 2042), ('box95qu', 2043), ('height', 2044), ('letter', 2045), ('whos', 2046), ('boye', 2047), ('81151', 2048), ('4t', 2049), ('wins', 2050), ('wtf', 2051), ('natural', 2052), ('ne', 2053), ('spk', 2054), ('born', 2055), ('randomly', 2056), ('nat', 2057), ('february', 2058), ('selection', 2059), ('members', 2060), ('cuddle', 2061), ('picture', 2062), ('legs', 2063), ('jason', 2064), ('flight', 2065), ('dave', 2066), ('5000', 2067), ('expect', 2068), ('w45wq', 2069), ('norm150p', 2070), ('spoke', 2071), ('title', 2072), ('med', 2073), ('ticket', 2074), ('deleted', 2075), ('generally', 2076), ('bell', 2077), ('books', 2078), ('cover', 2079), ('7250i', 2080), ('w1jhl', 2081), ('include', 2082), ('nap', 2083), ('suggest', 2084), ('attend', 2085), ('imma', 2086), ('asleep', 2087), ('hug', 2088), ('passed', 2089), ('throw', 2090), ('542', 2091), ('08718727870', 2092), ('hip', 2093), ('seem', 2094), ('realize', 2095), ('09066612661', 2096), ('islands', 2097), ('clear', 2098), ('welp', 2099), ('unable', 2100), ('connect', 2101), ('upto', 2102), ('pobox84', 2103), ('beer', 2104), ('shesil', 2105), ('low', 2106), ('1000', 2107), ('outstanding', 2108), ('files', 2109), ('obviously', 2110), ('site', 2111), ('stress', 2112), ('married', 2113), ('transfered', 2114), ('banks', 2115), ('billed', 2116), ('lotr', 2117), ('roads', 2118), ('missin', 2119), ('gona', 2120), ('bigger', 2121), ('q', 2122), ('ron', 2123), ('gautham', 2124), ('issue', 2125), ('prefer', 2126), ('9pm', 2127), ('nyc', 2128), ('playing', 2129), ('impossible', 2130), ('released', 2131), ('jane', 2132), ('okey', 2133), ('miracle', 2134), ('900', 2135), ('08712405020', 2136), ('eight', 2137), ('bottom', 2138), ('roast', 2139), ('soup', 2140), ('atm', 2141), ('tree', 2142), ('received', 2143), ('report', 2144), ('2optout', 2145), ('sorting', 2146), ('follow', 2147), ('instructions', 2148), ('james', 2149), ('oni', 2150), ('gentleman', 2151), ('dignity', 2152), ('regarding', 2153), ('insha', 2154), ('dress', 2155), ('walked', 2156), ('tm', 2157), ('hols', 2158), ('envelope', 2159), ('sooner', 2160), ('anywhere', 2161), ('supervisor', 2162), ('ve', 2163), ('costa', 2164), ('sol', 2165), ('sk38xh', 2166), ('bein', 2167), ('boat', 2168), ('havin', 2169), ('fml', 2170), ('apparently', 2171), ('iouri', 2172), ('germany', 2173), ('fees', 2174), ('callså£1', 2175), ('major', 2176), ('audition', 2177), ('å£900', 2178), ('local', 2179), ('bottle', 2180), ('giv', 2181), ('nan', 2182), ('auto', 2183), ('cafe', 2184), ('practice', 2185), ('gn', 2186), ('rich', 2187), ('onwards', 2188), ('28', 2189), ('provided', 2190), ('seven', 2191), ('blackberry', 2192), ('2moro', 2193), ('2morrow', 2194), ('rd', 2195), ('reminder', 2196), ('postcode', 2197), ('maga', 2198), ('greetings', 2199), ('3030', 2200), ('understanding', 2201), ('jordan', 2202), ('meaning', 2203), ('symbol', 2204), ('4th', 2205), ('response', 2206), ('profit', 2207), ('series', 2208), ('ibiza', 2209), ('score', 2210), ('fighting', 2211), ('constantly', 2212), ('2morow', 2213), ('nw', 2214), ('upset', 2215), ('chinese', 2216), ('oic', 2217), ('headache', 2218), ('shot', 2219), ('theatre', 2220), ('shorter', 2221), ('bloody', 2222), ('csbcm4235wc1n3xx', 2223), ('maxå£7', 2224), ('mid', 2225), ('radio', 2226), ('connection', 2227), (\"ain't\", 2228), ('bowl', 2229), ('monthly', 2230), ('nichols', 2231), ('heavy', 2232), ('appt', 2233), ('fever', 2234), ('country', 2235), ('mono', 2236), ('87131', 2237), ('invite', 2238), (\"did't\", 2239), ('arrested', 2240), ('uks', 2241), ('bloo', 2242), ('marriage', 2243), ('ptbo', 2244), ('urgnt', 2245), ('loss', 2246), ('remembered', 2247), ('character', 2248), ('derek', 2249), ('freezing', 2250), ('challenge', 2251), ('vodafone', 2252), ('original', 2253), ('lives', 2254), ('holder', 2255), ('80062', 2256), (\"blake's\", 2257), ('ref', 2258), ('enjoyed', 2259), ('various', 2260), ('ma', 2261), ('mummy', 2262), ('wishes', 2263), ('claire', 2264), ('showing', 2265), ('82277', 2266), ('fair', 2267), ('aiya', 2268), ('finishes', 2269), ('subscribed', 2270), ('citizen', 2271), (\"couldn't\", 2272), ('ph', 2273), ('wud', 2274), ('suite', 2275), ('returned', 2276), ('travel', 2277), ('moved', 2278), ('lousy', 2279), ('legal', 2280), ('caring', 2281), ('some1', 2282), ('preferably', 2283), ('sports', 2284), ('ure', 2285), ('june', 2286), ('intelligent', 2287), ('cramps', 2288), ('exe', 2289), ('woman', 2290), ('skip', 2291), ('blah', 2292), ('certainly', 2293), ('action', 2294), ('seat', 2295), ('0207', 2296), ('schedule', 2297), ('business', 2298), ('green', 2299), ('str', 2300), ('18yrs', 2301), ('sight', 2302), ('crab', 2303), ('footprints', 2304), ('wer', 2305), ('plane', 2306), ('result', 2307), ('20p', 2308), ('1327', 2309), ('croydon', 2310), ('cr9', 2311), ('5wb', 2312), ('0870', 2313), ('ì©', 2314), ('greet', 2315), ('mode', 2316), ('ubi', 2317), ('gibbs', 2318), ('realise', 2319), ('euro', 2320), ('83222', 2321), ('wa', 2322), ('purse', 2323), ('yelling', 2324), ('force', 2325), ('receiving', 2326), ('divorce', 2327), ('porn', 2328), ('hyde', 2329), ('interest', 2330), ('69696', 2331), ('valuable', 2332), ('purity', 2333), ('sells', 2334), ('mids', 2335), ('300p', 2336), ('bears', 2337), ('08718730666', 2338), ('skyped', 2339), ('kz', 2340), ('given', 2341), ('ultimatum', 2342), ('countin', 2343), ('aburo', 2344), ('belive', 2345), ('scrounge', 2346), ('desert', 2347), ('msging', 2348), ('cared', 2349), ('lies', 2350), ('ikea', 2351), ('heading', 2352), ('hide', 2353), ('distance', 2354), ('nahi', 2355), ('zindgi', 2356), ('wo', 2357), ('jo', 2358), ('83383', 2359), ('creepy', 2360), ('2geva', 2361), ('blow', 2362), ('note', 2363), ('vomiting', 2364), ('dan', 2365), ('86888', 2366), ('subscribe6gbp', 2367), ('3hrs', 2368), ('txtstop', 2369), ('tooo', 2370), (\"'simple'\", 2371), ('dance', 2372), ('river', 2373), ('eye', 2374), ('covers', 2375), ('brief', 2376), ('videophones', 2377), ('videochat', 2378), ('java', 2379), ('dload', 2380), ('noline', 2381), ('rentl', 2382), ('bx420', 2383), ('150pm', 2384), ('women', 2385), ('call09050000327', 2386), ('gotten', 2387), ('exhaust', 2388), ('ordered', 2389), ('anniversary', 2390), ('prey', 2391), ('pen', 2392), ('pandy', 2393), ('island', 2394), ('traffic', 2395), ('tons', 2396), ('kicks', 2397), ('wasted', 2398), ('applebees', 2399), ('hunny', 2400), ('jen', 2401), ('british', 2402), ('hotels', 2403), ('dial', 2404), ('sw73ss', 2405), ('renewal', 2406), ('45239', 2407), ('ls15hb', 2408), ('kaiez', 2409), ('drinkin', 2410), ('delay', 2411), ('lag', 2412), ('reminding', 2413), ('adoring', 2414), ('public', 2415), ('govt', 2416), ('instituitions', 2417), ('licks', 2418), ('goldviking', 2419), ('762', 2420), ('apo', 2421), ('mokka', 2422), ('4eva', 2423), ('imp', 2424), ('di', 2425), ('somethin', 2426), ('08002986906', 2427), ('curious', 2428), ('weirdest', 2429), ('property', 2430), ('flowing', 2431), ('chip', 2432), ('solve', 2433), ('gold', 2434), ('logos', 2435), ('web', 2436), ('wrote', 2437), ('tension', 2438), ('ow', 2439), ('boyfriend', 2440), ('sac', 2441), ('caught', 2442), ('lookatme', 2443), ('experience', 2444), ('blessings', 2445), ('software', 2446), ('urn', 2447), ('beware', 2448), ('hamster', 2449), ('enuff', 2450), ('messaged', 2451), ('10k', 2452), ('trips', 2453), ('clothes', 2454), ('bootydelious', 2455), ('ba', 2456), ('mt', 2457), ('ganesh', 2458), ('diwali', 2459), ('evenings', 2460), ('enemy', 2461), ('sue', 2462), ('89555', 2463), ('textoperator', 2464), ('career', 2465), ('horo', 2466), ('star', 2467), ('speed', 2468), ('ttyl', 2469), ('oil', 2470), ('fave', 2471), ('wind', 2472), ('scary', 2473), ('funeral', 2474), ('sen', 2475), ('kent', 2476), ('vale', 2477), ('management', 2478), ('slice', 2479), ('west', 2480), ('coast', 2481), ('cld', 2482), ('2wks', 2483), ('cheese', 2484), ('buses', 2485), ('taken', 2486), ('trains', 2487), ('we\\x89û÷re', 2488), ('jolly', 2489), ('kadeem', 2490), ('09065171142', 2491), ('stopsms', 2492), ('eighth', 2493), ('count', 2494), ('4mths', 2495), ('mobilesdirect', 2496), ('08000938767', 2497), ('or2stoptxt', 2498), ('messenger', 2499), ('nd', 2500), ('successfully', 2501), ('30ish', 2502), ('desperate', 2503), ('tms', 2504), ('widelive', 2505), ('index', 2506), ('wml', 2507), ('1hr', 2508), ('rays', 2509), ('everyday', 2510), ('canada', 2511), ('goodo', 2512), ('china', 2513), ('kid', 2514), ('parking', 2515), ('tahan', 2516), ('anot', 2517), ('lo', 2518), ('sptv', 2519), ('hockey', 2520), ('usc', 2521), ('edu', 2522), ('secretary', 2523), ('blessing', 2524), ('swatch', 2525), ('sigh', 2526), ('oru', 2527), ('pole', 2528), ('sing', 2529), ('lock', 2530), ('six', 2531), ('url', 2532), ('spanish', 2533), ('desires', 2534), ('telly', 2535), ('bright', 2536), ('denis', 2537), ('forgiven', 2538), ('drms', 2539), ('recd', 2540), ('ben', 2541), ('goals', 2542), ('scotland', 2543), ('4txt', 2544), ('gang', 2545), ('painting', 2546), ('division', 2547), ('jsco', 2548), ('tariffs', 2549), ('callback', 2550), ('effect', 2551), ('lk', 2552), ('tis', 2553), ('inches', 2554), ('breathe', 2555), ('clearing', 2556), ('repair', 2557), ('27', 2558), ('flaked', 2559), ('ranjith', 2560), ('5min', 2561), ('deliveredtomorrow', 2562), ('eaten', 2563), ('staring', 2564), ('ruining', 2565), ('along', 2566), ('teaching', 2567), ('lately', 2568), ('spring', 2569), ('east', 2570), ('selfish', 2571), ('sathya', 2572), ('spending', 2573), ('spoiled', 2574), ('cooking', 2575), ('gudnite', 2576), ('tnc', 2577), (\"mum's\", 2578), ('oranges', 2579), ('upd8', 2580), ('3qxj9', 2581), ('08702840625', 2582), ('9ae', 2583), ('ke', 2584), ('voicemail', 2585), ('norm', 2586), ('wipro', 2587), ('gender', 2588), ('callers', 2589), ('anthony', 2590), ('theory', 2591), ('faster', 2592), ('stayin', 2593), ('\\rham', 2594), ('sweetie', 2595), ('674', 2596), ('steve', 2597), ('easily', 2598), ('forgets', 2599), ('bids', 2600), ('credited', 2601), ('quit', 2602), ('26th', 2603), ('july', 2604), ('moving', 2605), ('caroline', 2606), ('opening', 2607), ('tscs', 2608), ('skillgame', 2609), ('1winaweek', 2610), ('150ppermesssubscription', 2611), ('smoking', 2612), ('indyarocks', 2613), ('held', 2614), ('upstairs', 2615), ('swoop', 2616), ('hardly', 2617), ('oi', 2618), ('4d', 2619), ('closes', 2620), ('recharge', 2621), ('havenåõt', 2622), ('didnåõt', 2623), ('potter', 2624), ('phoenix', 2625), ('harry', 2626), ('readers', 2627), ('lov', 2628), ('setting', 2629), ('filling', 2630), ('manage', 2631), ('didn\\x89û÷t', 2632), ('previous', 2633), ('08000776320', 2634), ('goodnite', 2635), ('tacos', 2636), ('waited', 2637), ('stones', 2638), ('thm', 2639), ('in2', 2640), ('atlast', 2641), ('magical', 2642), ('sorted', 2643), ('evry', 2644), ('halloween', 2645), ('empty', 2646), ('slots', 2647), ('arm', 2648), ('09061213237', 2649), ('177', 2650), ('m227xy', 2651), ('sarasota', 2652), ('cabin', 2653), (\"''ok''\", 2654), ('sed', 2655), ('minuts', 2656), ('latr', 2657), ('kidz', 2658), ('vijay', 2659), ('å£6', 2660), ('filthy', 2661), ('films', 2662), ('bet', 2663), ('08700621170150p', 2664), ('success', 2665), ('spell', 2666), ('rcv', 2667), ('excuses', 2668), ('2morro', 2669), ('heater', 2670), ('creep', 2671), ('minimum', 2672), ('accordingly', 2673), ('repeat', 2674), ('everywhere', 2675), ('floor', 2676), ('windows', 2677), ('infernal', 2678), ('affairs', 2679), ('likely', 2680), ('allowed', 2681), ('push', 2682), ('ebay', 2683), ('clearly', 2684), ('15', 2685), ('combine', 2686), ('specific', 2687), ('mails', 2688), ('doggy', 2689), ('vip', 2690), ('blu', 2691), ('smsco', 2692), ('lib', 2693), ('thread', 2694), ('reckon', 2695), ('pap', 2696), ('80878', 2697), ('parked', 2698), ('sux', 2699), ('80182', 2700), ('08452810073', 2701), ('program', 2702), ('msg150p', 2703), ('2rcv', 2704), ('hlp', 2705), ('08712317606', 2706), ('shore', 2707), ('partnership', 2708), ('runs', 2709), ('phoned', 2710), ('87575', 2711), ('improve', 2712), ('mmmmmm', 2713), ('sha', 2714), ('woot', 2715), ('privacy', 2716), ('listening', 2717), ('dorm', 2718), ('forgotten', 2719), ('872', 2720), ('falls', 2721), ('sum', 2722), ('nokia6650', 2723), ('ctxt', 2724), ('mtmsg', 2725), ('argument', 2726), ('argue', 2727), ('superb', 2728), ('grand', 2729), ('sn', 2730), ('melt', 2731), ('ground', 2732), ('aunt', 2733), ('bc', 2734), ('loyal', 2735), ('customers', 2736), ('09066380611', 2737), ('dai', 2738), ('resume', 2739), ('whenevr', 2740), ('remembr', 2741), ('speechless', 2742), ('ques', 2743), ('suits', 2744), ('ding', 2745), ('vivek', 2746), ('com1win150ppmx3age16', 2747), ('yeh', 2748), ('understood', 2749), ('sake', 2750), ('panic', 2751), ('forms', 2752), ('happend', 2753), ('09061743806', 2754), ('tcs', 2755), ('box326', 2756), ('cw25wx', 2757), ('bec', 2758), ('temple', 2759), ('2u', 2760), ('titles', 2761), ('hospitals', 2762), ('popcorn', 2763), ('kiosk', 2764), ('linerental', 2765), ('suppose', 2766), ('sim', 2767), ('speaking', 2768), ('demand', 2769), ('borrow', 2770), ('proof', 2771), ('allow', 2772), ('nowadays', 2773), ('sticky', 2774), ('normally', 2775), ('usb', 2776), ('base', 2777), ('expecting', 2778), ('recovery', 2779), ('freak', 2780), ('langport', 2781), ('modules', 2782), ('l', 2783), ('87021', 2784), ('vodka', 2785), ('prospects', 2786), ('filled', 2787), (\"there're\", 2788), ('table', 2789), ('flip', 2790), ('fav', 2791), ('donno', 2792), ('neither', 2793), ('hugs', 2794), ('snogs', 2795), (\"guy's\", 2796), ('premier', 2797), ('0578', 2798), ('å£50', 2799), ('chicken', 2800), ('tee', 2801), ('morphine', 2802), ('shoes', 2803), ('easter', 2804), ('telephone', 2805), ('cm', 2806), ('40', 2807), ('thousands', 2808), ('headin', 2809), ('luxury', 2810), ('canary', 2811), ('begging', 2812), ('beg', 2813), ('worlds', 2814), ('m26', 2815), ('3uz', 2816), ('onion', 2817), ('petrol', 2818), ('xxxxx', 2819), ('polyphonic', 2820), ('txtin', 2821), ('4info', 2822), ('mcat', 2823), ('difficulties', 2824), ('several', 2825), ('uh', 2826), ('heads', 2827), ('tiwary', 2828), ('bang', 2829), ('searching', 2830), ('potential', 2831), ('talent', 2832), ('songs', 2833), ('lie', 2834), ('confirmed', 2835), ('fucked', 2836), ('machan', 2837), ('removed', 2838), ('differ', 2839), ('jacket', 2840), ('continue', 2841), ('taunton', 2842), ('hol', 2843), ('cappuccino', 2844), ('stranger', 2845), ('bloke', 2846), (\"'ll\", 2847), ('losing', 2848), ('8am', 2849), ('forum', 2850), ('fear', 2851), ('petey', 2852), ('avent', 2853), ('nit', 2854), ('tues', 2855), ('trade', 2856), ('durban', 2857), ('location', 2858), ('northampton', 2859), ('necessary', 2860), ('potato', 2861), ('tortilla', 2862), ('loans', 2863), ('purpose', 2864), ('tenants', 2865), ('argh', 2866), ('ic', 2867), ('dokey', 2868), ('loud', 2869), ('plaza', 2870), ('700', 2871), ('bedrm', 2872), ('toot', 2873), ('register', 2874), ('loxahatchee', 2875), ('burning', 2876), ('89545', 2877), ('087187262701', 2878), ('50gbp', 2879), ('mtmsg18', 2880), ('i\\x89û÷ll', 2881), ('mahal', 2882), ('69888', 2883), ('managed', 2884), ('neck', 2885), ('killing', 2886), ('bloomberg', 2887), ('shock', 2888), ('smith', 2889), ('sachin', 2890), ('cock', 2891), ('owns', 2892), ('develop', 2893), ('ability', 2894), ('confidence', 2895), ('indicate', 2896), ('accident', 2897), ('interesting', 2898), ('lido', 2899), ('hes', 2900), ('09050090044', 2901), ('toclaim', 2902), ('pobox334', 2903), ('stockport', 2904), ('costå£1', 2905), ('max10mins', 2906), ('88600', 2907), ('unnecessarily', 2908), ('birth', 2909), ('114', 2910), ('14', 2911), ('tcr', 2912), ('solved', 2913), ('brilliant', 2914), ('grace', 2915), ('lotta', 2916), ('blind', 2917), ('electricity', 2918), ('gorgeous', 2919), ('donate', 2920), ('coin', 2921), ('becoz', 2922), ('settle', 2923), ('shld', 2924), ('2p', 2925), ('treated', 2926), ('08', 2927), ('sleepin', 2928), ('poker', 2929), ('taste', 2930), ('08718726270', 2931), ('2waxsto', 2932), ('confuses', 2933), ('attached', 2934), ('89070', 2935), ('acl03530150pm', 2936), ('randy', 2937), ('female', 2938), ('amused', 2939), ('mel', 2940), ('choice', 2941), ('22', 2942), ('engin', 2943), ('arts', 2944), ('cook', 2945), ('refused', 2946), (\"'help'\", 2947), ('miserable', 2948), ('calculation', 2949), ('agalla', 2950), ('massive', 2951), ('yuo', 2952), ('ese', 2953), ('tihs', 2954), ('activities', 2955), ('football', 2956), ('kg', 2957), ('tests', 2958), ('batch', 2959), ('erm', 2960), ('hsbc', 2961), ('gm', 2962), ('hang', 2963), ('meanwhile', 2964), ('09050003091', 2965), ('c52', 2966), ('valid12hrs', 2967), ('mag', 2968), ('lux', 2969), ('ppm', 2970), ('pattern', 2971), ('salam', 2972), ('pride', 2973), ('aunty', 2974), ('aom', 2975), ('lines', 2976), ('hundred', 2977), ('wifi', 2978), ('minmoremobsemspobox45po139wa', 2979), ('california', 2980), ('rule', 2981), ('airport', 2982), ('fire', 2983), ('flame', 2984), ('roger', 2985), ('rec', 2986), ('7ish', 2987), ('restaurant', 2988), ('siva', 2989), ('ruin', 2990), ('thesis', 2991), ('peace', 2992), ('jan', 2993), ('screamed', 2994), ('mumtaz', 2995), ('killed', 2996), (\"mumtaz's\", 2997), ('husband', 2998), ('dearly', 2999), ('frndship', 3000), ('rub', 3001), ('supply', 3002), ('21870000', 3003), ('mailbox', 3004), ('messaging', 3005), ('09056242159', 3006), ('retrieve', 3007), ('distract', 3008), ('relation', 3009), ('iz', 3010), ('nic', 3011), ('buffet', 3012), ('pieces', 3013), ('tablets', 3014), ('handed', 3015), ('kappa', 3016), ('sk3', 3017), ('8wp', 3018), ('sharing', 3019), ('zoe', 3020), ('fantasy', 3021), ('sry', 3022), ('male', 3023), ('fastest', 3024), ('growing', 3025), ('2stop', 3026), ('murder', 3027), ('apps', 3028), ('ear', 3029), ('prolly', 3030), ('ela', 3031), ('quickly', 3032), ('wanting', 3033), (\"'til\", 3034), ('interflora', 3035), ('41685', 3036), ('07', 3037), ('0844', 3038), ('861', 3039), ('prepayment', 3040), ('m263uz', 3041), ('cares', 3042), ('burns', 3043), ('suzy', 3044), ('lower', 3045), ('display', 3046), ('catching', 3047), ('furniture', 3048), ('satisfy', 3049), ('slide', 3050), ('tog', 3051), ('pimples', 3052), ('contacts', 3053), ('twice', 3054), ('ringtoneking', 3055), ('finishing', 3056), ('evn', 3057), ('9t', 3058), ('arun', 3059), ('83355', 3060), ('ibhltd', 3061), ('ldnw15h', 3062), ('mtmsgrcvd18', 3063), ('123', 3064), ('mca', 3065), ('tap', 3066), ('spile', 3067), ('broad', 3068), ('canal', 3069), ('funky', 3070), ('fringe', 3071), ('oooh', 3072), ('jeans', 3073), ('cousin', 3074), ('genius', 3075), ('causing', 3076), ('pie', 3077), ('rhythm', 3078), ('hor', 3079), ('select', 3080), ('benefits', 3081), ('dislikes', 3082), ('assume', 3083), ('terrible', 3084), ('910', 3085), ('middle', 3086), ('dealing', 3087), ('likes', 3088), ('helen', 3089), ('castor', 3090), ('hm', 3091), ('useful', 3092), ('saved', 3093), ('drinking', 3094), ('foreign', 3095), ('stamps', 3096), ('avoid', 3097), ('regret', 3098), ('drove', 3099), ('cochin', 3100), ('american', 3101), ('av', 3102), ('bck', 3103), ('u4', 3104), ('bluff', 3105), ('woken', 3106), ('survey', 3107), ('up4', 3108), ('literally', 3109), ('dubsack', 3110), ('fab', 3111), ('colours', 3112), ('lyfu', 3113), ('lyf', 3114), ('ali', 3115), ('meow', 3116), ('gary', 3117), ('scores', 3118), ('application', 3119), ('schools', 3120), ('research', 3121), ('philosophy', 3122), ('twenty', 3123), ('cleaning', 3124), ('xxxx', 3125), ('strike', 3126), ('flower', 3127), ('grow', 3128), ('avatar', 3129), ('flies', 3130), ('chechi', 3131), ('slap', 3132), ('temp', 3133), ('08718738001', 3134), ('jobs', 3135), ('admin', 3136), ('building', 3137), ('slightly', 3138), ('downloaded', 3139), ('930', 3140), ('doubt', 3141), ('sender', 3142), ('gr8prizes', 3143), ('lick', 3144), ('amy', 3145), ('taylor', 3146), ('3100', 3147), ('rocks', 3148), ('lovers', 3149), ('sept', 3150), ('fuckin', 3151), ('knowing', 3152), ('topic', 3153), ('serving', 3154), ('block', 3155), ('å£5', 3156), ('community', 3157), ('fool', 3158), ('verify', 3159), ('08002888812', 3160), ('lions', 3161), ('lionm', 3162), ('lionp', 3163), ('3gbp', 3164), ('fa', 3165), ('tkts', 3166), ('21st', 3167), ('2005', 3168), ('87121', 3169), ('shoot', 3170), ('tomarrow', 3171), ('dhoni', 3172), ('convinced', 3173), ('dining', 3174), ('asp', 3175), ('staff', 3176), ('nus', 3177), ('spl', 3178), ('whr', 3179), ('fathima', 3180), ('crap', 3181), ('borin', 3182), ('thot', 3183), ('habit', 3184), ('discussed', 3185), ('350', 3186), ('båõday', 3187), ('rude', 3188), ('asks', 3189), ('cashbin', 3190), ('biggest', 3191), ('church', 3192), (\"'t\", 3193), ('flirting', 3194), ('paperwork', 3195), ('nervous', 3196), ('fan', 3197), ('charles', 3198), ('mental', 3199), ('favour', 3200), ('nimya', 3201), ('lst', 3202), ('granite', 3203), ('explosive', 3204), ('nasdaq', 3205), ('cdgt', 3206), ('ms', 3207), ('gpu', 3208), ('61610', 3209), ('08712400602450p', 3210), ('tones2you', 3211), ('gist', 3212), (\"cann't\", 3213), ('inconsiderate', 3214), ('nag', 3215), ('recession', 3216), ('hence', 3217), ('rooms', 3218), ('befor', 3219), ('realized', 3220), ('hon', 3221), ('itåõs', 3222), ('unique', 3223), ('flaky', 3224), ('parent', 3225), ('responsibility', 3226), ('capital', 3227), ('wise', 3228), ('buff', 3229), ('belovd', 3230), ('09058094565', 3231), ('bristol', 3232), ('sends', 3233), ('ned', 3234), ('80086', 3235), ('txttowin', 3236), ('kothi', 3237), ('fill', 3238), ('mac', 3239), ('le', 3240), ('wks', 3241), ('84128', 3242), ('h', 3243), ('gravity', 3244), ('carefully', 3245), ('academic', 3246), ('sum1', 3247), ('gaps', 3248), ('fly', 3249), ('window', 3250), ('exeter', 3251), ('aww', 3252), ('hurting', 3253), ('flash', 3254), ('madam', 3255), ('holy', 3256), ('mall', 3257), ('invest', 3258), ('å£1250', 3259), ('09071512433', 3260), ('050703', 3261), ('callcost', 3262), ('mobilesvary', 3263), ('fills', 3264), ('calm', 3265), ('vid', 3266), ('8552', 3267), (\"1000's\", 3268), ('4fil', 3269), ('wedding', 3270), ('gram', 3271), (\"dat's\", 3272), ('yellow', 3273), ('stylish', 3274), ('spider', 3275), ('wallpaper', 3276), ('weigh', 3277), ('santa', 3278), ('nalla', 3279), ('slip', 3280), ('roommate', 3281), ('125gift', 3282), ('lip', 3283), ('tissco', 3284), ('tayseer', 3285), ('fancies', 3286), ('82468', 3287), ('shining', 3288), ('mostly', 3289), ('gbp', 3290), ('file', 3291), ('lyk', 3292), ('5p', 3293), ('alfie', 3294), (\"moon's\", 3295), ('m8s', 3296), ('nokias', 3297), ('08701417012', 3298), ('addicted', 3299), ('sarcasm', 3300), ('aftr', 3301), ('inch', 3302), ('vth', 3303), ('practical', 3304), ('favourite', 3305), ('booking', 3306), ('driver', 3307), ('bitch', 3308), ('effects', 3309), ('mb', 3310), ('expression', 3311), ('transport', 3312), ('definite', 3313), ('nos', 3314), ('shoppin', 3315), ('printed', 3316), ('replacement', 3317), ('ey', 3318), ('sar', 3319), ('indians', 3320), ('swiss', 3321), ('crore', 3322), ('delhi', 3323), ('politicians', 3324), ('rights', 3325), ('disturbing', 3326), ('mini', 3327), ('virgin', 3328), ('mystery', 3329), ('approx', 3330), ('3mins', 3331), ('cancelled', 3332), ('stores', 3333), (\"jay's\", 3334), ('eta', 3335), ('that\\x89û÷s', 3336), ('wrc', 3337), ('rally', 3338), ('lucozade', 3339), ('math', 3340), ('monkeys', 3341), ('sometime', 3342), ('80608', 3343), ('movietrivia', 3344), ('08712405022', 3345), ('andros', 3346), ('kerala', 3347), ('vday', 3348), ('played', 3349), ('freedom', 3350), ('31', 3351), ('impatient', 3352), ('ps', 3353), ('decisions', 3354), ('individual', 3355), ('upgrade', 3356), ('153', 3357), ('hallaq', 3358), ('mmmm', 3359), ('pushes', 3360), ('placement', 3361), ('violated', 3362), ('gain', 3363), ('121', 3364), ('polo', 3365), ('373', 3366), ('w1j', 3367), ('6hl', 3368), ('pink', 3369), ('jealous', 3370), ('dressed', 3371), ('beauty', 3372), ('actual', 3373), ('delivered', 3374), ('200', 3375), ('darlings', 3376), ('scold', 3377), ('salon', 3378), ('perfect', 3379), ('celebration', 3380), ('stomach', 3381), ('advise', 3382), ('recent', 3383), ('å£1500', 3384), ('celeb', 3385), ('pocketbabe', 3386), ('threats', 3387), ('executive', 3388), ('complaint', 3389), ('wld', 3390), ('despite', 3391), ('cornwall', 3392), ('infections', 3393), ('bone', 3394), ('tech', 3395), ('fit', 3396), ('4a', 3397), ('reg', 3398), ('waves', 3399), ('revision', 3400), ('picsfree1', 3401), ('further', 3402), ('mix', 3403), ('ovulation', 3404), ('textbuddy', 3405), ('gaytextbuddy', 3406), ('89693', 3407), ('size', 3408), ('theres', 3409), ('sumthin', 3410), ('lou', 3411), ('fret', 3412), ('deus', 3413), ('teaches', 3414), ('annoying', 3415), ('passionate', 3416), ('innocent', 3417), ('death', 3418), ('xxxmobilemovieclub', 3419), ('commercial', 3420), ('fish', 3421), ('helpline', 3422), ('08706091795', 3423), ('yer', 3424), ('84199', 3425), ('eng', 3426), ('box39822', 3427), ('w111wx', 3428), ('08717898035', 3429), ('08707509020', 3430), ('meets', 3431), ('gent', 3432), ('09064012160', 3433), ('k52', 3434), ('subpoly', 3435), ('81618', 3436), ('four', 3437), ('relatives', 3438), ('costs', 3439), ('0776xxxxxxx', 3440), ('cme', 3441), ('txt82228', 3442), ('09066358152', 3443), ('prompts', 3444), ('stayed', 3445), ('airtel', 3446), ('cry', 3447), ('chocolate', 3448), ('probs', 3449), ('165', 3450), ('jolt', 3451), ('x49', 3452), ('09065989182', 3453), ('henry', 3454), ('dime', 3455), ('shu', 3456), ('sunlight', 3457), ('crisis', 3458), ('fran', 3459), ('brah', 3460), ('wave', 3461), ('clever', 3462), ('error', 3463), ('walls', 3464), ('royal', 3465), ('lounge', 3466), ('os', 3467), ('installing', 3468), ('lush', 3469), ('31p', 3470), (\"parents'\", 3471), ('aunts', 3472), ('subscriber', 3473), ('stops', 3474), ('unemployed', 3475), ('aathi', 3476), ('smashed', 3477), (\"joy's\", 3478), ('silently', 3479), ('leona', 3480), ('letters', 3481), ('yahoo', 3482), ('coat', 3483), ('becomes', 3484), ('440', 3485), ('favorite', 3486), ('wined', 3487), ('dined', 3488), ('ploughing', 3489), ('pile', 3490), ('ironing', 3491), ('chinky', 3492), ('ryder', 3493), ('clover', 3494), ('everyones', 3495), ('babysitting', 3496), ('kickoff', 3497), ('openin', 3498), ('sentence', 3499), ('formal', 3500), ('puttin', 3501), ('entertain', 3502), ('toshiba', 3503), ('portege', 3504), ('m100', 3505), ('snatch', 3506), ('scrappy', 3507), ('iraq', 3508), ('afghanistan', 3509), ('stable', 3510), ('honest', 3511), ('traveling', 3512), ('triple', 3513), ('echo', 3514), ('goods', 3515), ('1stchoice', 3516), ('08707808226', 3517), ('rob', 3518), ('mack', 3519), ('gf', 3520), ('theater', 3521), ('69855', 3522), ('24hrs', 3523), ('stopbcm', 3524), ('sf', 3525), ('westshore', 3526), ('figuring', 3527), ('situations', 3528), ('loosing', 3529), ('walkabout', 3530), ('splashmobile', 3531), ('subscrition', 3532), ('costing', 3533), ('andre', 3534), (\"virgil's\", 3535), ('nick', 3536), ('tom', 3537), ('types', 3538), (\"g's\", 3539), ('ammo', 3540), ('ak', 3541), ('83370', 3542), ('trivia', 3543), ('logging', 3544), ('geoenvironmental', 3545), ('implications', 3546), ('deny', 3547), ('lyrics', 3548), ('necesity', 3549), ('witout', 3550), (\"hw'd\", 3551), ('colleg', 3552), (\"wat'll\", 3553), ('wth', 3554), ('functions', 3555), ('events', 3556), (\"espe'll\", 3557), ('irritated', 3558), ('4wrd', 3559), ('wthout', 3560), ('takecare', 3561), ('showers', 3562), ('possessiveness', 3563), ('poured', 3564), ('golden', 3565), ('lul', 3566), ('nurses', 3567), ('shes', 3568), ('obese', 3569), ('oyea', 3570), ('spelled', 3571), ('caps', 3572), ('mess', 3573), ('bullshit', 3574), ('anythiing', 3575), ('waqt', 3576), ('pehle', 3577), ('naseeb', 3578), ('zyada', 3579), ('kisi', 3580), ('ko', 3581), ('kuch', 3582), ('milta', 3583), ('hum', 3584), ('sochte', 3585), ('ham', 3586), ('jeetey', 3587), ('6230', 3588), ('pobox114', 3589), ('14tcr', 3590), ('adore', 3591), ('meatballs', 3592), ('abstract', 3593), ('persons', 3594), ('fring', 3595), ('incredible', 3596), ('o2fwd', 3597), ('18p', 3598), ('exposed', 3599), ('reminded', 3600), ('gamb', 3601), ('pisces', 3602), ('aquarius', 3603), ('foley', 3604), ('prizes', 3605), ('82050', 3606), ('2bold', 3607), ('trends', 3608), ('pros', 3609), ('cons', 3610), ('description', 3611), ('nuclear', 3612), ('fusion', 3613), ('iter', 3614), ('jet', 3615), ('obey', 3616), ('hugging', 3617), ('09061744553', 3618), ('polyh', 3619), ('belongs', 3620), ('fated', 3621), ('shoranur', 3622), ('fuelled', 3623), ('concern', 3624), ('prior', 3625), ('grief', 3626), ('violence', 3627), ('imin', 3628), ('dontmatter', 3629), ('urgoin', 3630), ('outl8r', 3631), ('faggot', 3632), ('z', 3633), ('replacing', 3634), ('glorious', 3635), ('finds', 3636), ('coaxing', 3637), ('images', 3638), ('fond', 3639), ('souveniers', 3640), ('cougar', 3641), ('awww', 3642), ('4w', 3643), ('technologies', 3644), ('sized', 3645), ('victoria', 3646), ('paypal', 3647), ('voila', 3648), ('pockets', 3649), ('7634', 3650), ('7684', 3651), ('08715203652', 3652), ('42810', 3653), ('08714712388', 3654), ('lambu', 3655), ('ji', 3656), ('batchlor', 3657), ('justbeen', 3658), ('overa', 3659), ('brains', 3660), ('mush', 3661), ('bx526', 3662), ('topped', 3663), ('bubbletext', 3664), ('tgxxrz', 3665), ('contents', 3666), ('promotion', 3667), ('8714714', 3668), ('tool', 3669), ('078498', 3670), ('08719180219', 3671), ('srs', 3672), ('tip', 3673), ('09058097189', 3674), ('practising', 3675), ('curtsey', 3676), ('beta', 3677), (\"harish's\", 3678), ('transfred', 3679), ('acnt', 3680), ('dancin', 3681), (\"sms'd\", 3682), ('drastic', 3683), ('animal', 3684), ('sday', 3685), ('professional', 3686), ('tiger', 3687), ('woods', 3688), ('ringing', 3689), ('houseful', 3690), ('brats', 3691), ('pulling', 3692), ('fifty', 3693), ('hrishi', 3694), ('tootsie', 3695), ('toledo', 3696), ('dled', 3697), ('85233', 3698), ('swan', 3699), ('inperialmusic', 3700), ('listening2the', 3701), ('byåóleafcutter', 3702), ('johnåó', 3703), ('insects', 3704), ('molested', 3705), ('plumbing', 3706), ('remixed', 3707), ('evil', 3708), ('acid', 3709), ('nevering', 3710), ('loo', 3711), ('ed', 3712), ('dusk', 3713), ('puzzles', 3714), ('surly', 3715), ('videosound', 3716), ('videosounds', 3717), ('musicnews', 3718), ('09701213186', 3719), ('indeed', 3720), ('mornin', 3721), ('thanku', 3722), ('asjesus', 3723), ('opinions', 3724), ('associate', 3725), ('wetherspoons', 3726), ('machi', 3727), ('recognises', 3728), ('treasure', 3729), ('clip', 3730), ('35p', 3731), ('mmsto', 3732), ('32323', 3733), ('blame', 3734), ('gods', 3735), ('quiteamuzing', 3736), ('thatåõscool', 3737), ('sinco', 3738), ('payee', 3739), ('icicibank', 3740), ('frauds', 3741), ('disclose', 3742), ('1pm', 3743), ('jontin', 3744), ('girlie', 3745), ('09064018838', 3746), ('cro1327', 3747), ('alter', 3748), ('30pm', 3749), ('09064019788', 3750), ('box42wr29c', 3751), ('spatula', 3752), ('jewelry', 3753), ('maintaining', 3754), ('xafter', 3755), ('cst', 3756), ('chg', 3757), ('32', 3758), ('gua', 3759), ('faber', 3760), ('hunt', 3761), ('apologetic', 3762), ('fallen', 3763), ('actin', 3764), ('spoilt', 3765), ('badly', 3766), ('2marrow', 3767), ('guides', 3768), ('relaxing', 3769), ('7am', 3770), ('5ish', 3771), ('approaching', 3772), ('sankranti', 3773), ('republic', 3774), ('shivratri', 3775), ('ugadi', 3776), ('fools', 3777), ('independence', 3778), ('teachers', 3779), ('childrens', 3780), ('festival', 3781), ('dasara', 3782), ('mornings', 3783), ('afternoons', 3784), ('rememberi', 3785), (\"your's\", 3786), ('raj', 3787), (\"anybody's\", 3788), ('tactful', 3789), ('pure', 3790), ('hearted', 3791), ('enemies', 3792), ('smiley', 3793), ('changing', 3794), ('diapers', 3795), ('owed', 3796), ('secure', 3797), ('lapdancer', 3798), ('g2', 3799), ('1da', 3800), ('150ppmsg', 3801), ('flyng', 3802), ('aries', 3803), ('08718738034', 3804), ('nudist', 3805), ('themed', 3806), (\"everybody's\", 3807), ('jackpot', 3808), ('81010', 3809), ('dbuk', 3810), ('lccltd', 3811), ('4403ldnw1a7rw18', 3812), ('yunny', 3813), ('massages', 3814), ('position', 3815), ('depressed', 3816), ('sittin', 3817), ('drops', 3818), ('blimey', 3819), ('exercise', 3820), ('command', 3821), ('parkin', 3822), ('breadstick', 3823), ('dismissial', 3824), (\"ìï'll\", 3825), ('packing', 3826), ('ups', 3827), ('3days', 3828), ('usps', 3829), ('bribe', 3830), ('nipost', 3831), ('farm', 3832), ('allo', 3833), ('braved', 3834), ('triumphed', 3835), ('b\\x89û÷ham', 3836), ('paranoid', 3837), ('nosy', 3838), ('reacting', 3839), ('freaked', 3840), ('ilol', 3841), ('personally', 3842), ('wuldnt', 3843), ('mite', 3844), ('08718727870150ppm', 3845), ('watts', 3846), ('que', 3847), ('pases', 3848), ('buen', 3849), ('tiempo', 3850), ('tagged', 3851), ('juliana', 3852), ('2yrs', 3853), ('thkin', 3854), ('parco', 3855), ('nb', 3856), ('lodging', 3857), ('refilled', 3858), ('inr', 3859), ('keralacircle', 3860), ('prepaid', 3861), ('kr', 3862), ('headstart', 3863), ('rummer', 3864), ('tellmiss', 3865), ('1b6a5ecef91ff9', 3866), ('37819', 3867), ('true18', 3868), ('0430', 3869), ('jul', 3870), ('sunny', 3871), ('bay', 3872), ('poking', 3873), ('praps', 3874), ('rr', 3875), ('drugdealer', 3876), ('proper', 3877), ('tongued', 3878), ('stuck', 3879), ('offline', 3880), (\"anjola's\", 3881), ('collapsed', 3882), ('stash', 3883), ('safely', 3884), ('jersey', 3885), ('devils', 3886), ('detroit', 3887), ('wings', 3888), ('incorrect', 3889), ('impression', 3890), ('scratches', 3891), ('journey', 3892), ('hasnt', 3893), ('impressed', 3894), ('funs', 3895), ('olowoyey', 3896), ('argentina', 3897), ('cookies', 3898), ('jelly', 3899), ('08712402972', 3900), ('07090201529', 3901), ('romcapspam', 3902), ('presence', 3903), ('outgoing', 3904), ('breath', 3905), (\"ron's\", 3906), ('mmmmmmm', 3907), ('snuggles', 3908), ('contented', 3909), ('whispers', 3910), ('lined', 3911), ('alle', 3912), ('mone', 3913), ('eppolum', 3914), ('allalo', 3915), ('chart', 3916), ('keypad', 3917), ('ripped', 3918), ('clubmoby', 3919), ('08717509990', 3920), ('velly', 3921), ('mallika', 3922), ('sherawat', 3923), ('formatting', 3924), ('wendy', 3925), ('bookshelf', 3926), ('0906346330', 3927), ('abta', 3928), ('47', 3929), ('po19', 3930), ('2ez', 3931), ('occasion', 3932), ('celebrated', 3933), ('reflection', 3934), ('values', 3935), ('affections', 3936), ('traditions', 3937), ('ideal', 3938), ('taxi', 3939), ('ing', 3940), ('hoped', 3941), ('regretted', 3942), ('brdget', 3943), ('jones', 3944), ('vague', 3945), ('accounting', 3946), ('delayed', 3947), ('housing', 3948), ('agency', 3949), ('renting', 3950), ('mina', 3951), ('vat', 3952), ('å£600', 3953), ('landmark', 3954), ('bob', 3955), ('barry', 3956), ('83738', 3957), ('macedonia', 3958), ('ì¼1', 3959), ('poboxox36504w45wq', 3960), ('affidavit', 3961), ('twiggs', 3962), ('courtroom', 3963), ('sth', 3964), ('specs', 3965), ('px3748', 3966), ('2channel', 3967), ('leadership', 3968), ('skills', 3969), ('psychic', 3970), ('08715203685', 3971), ('4xx26', 3972), ('13', 3973), ('responsibilities', 3974), ('avalarr', 3975), ('hollalater', 3976), ('lifted', 3977), ('hopes', 3978), ('approaches', 3979), ('unbelievable', 3980), ('faglord', 3981), ('gloucesterroad', 3982), ('uup', 3983), ('route', 3984), ('mnths', 3985), ('intrepid', 3986), ('duo', 3987), ('sd', 3988), ('aust', 3989), ('bk', 3990), ('deficient', 3991), ('bcum', 3992), ('wisdom', 3993), ('hidden', 3994), ('hlday', 3995), ('camp', 3996), ('amrca', 3997), ('serena', 3998), ('dawns', 3999), ('refreshed', 4000), ('timi', 4001), ('08718730555', 4002), ('wishin', 4003), ('jide', 4004), ('visiting', 4005), ('08714714011', 4006), ('surgical', 4007), ('emergency', 4008), ('unfolds', 4009), ('guessing', 4010), ('jb', 4011), ('rounder', 4012), ('required', 4013), ('thin', 4014), ('arguments', 4015), ('fed', 4016), ('himso', 4017), ('conacted', 4018), ('09111030116', 4019), ('pobox12n146tf15', 4020), ('drpd', 4021), ('deeraj', 4022), ('deepak', 4023), ('09090204448', 4024), ('minded', 4025), ('aå£1', 4026), ('minapn', 4027), ('ls278bb', 4028), ('pubs', 4029), ('frankie', 4030), ('bennys', 4031), ('stability', 4032), ('tranquility', 4033), ('vibrant', 4034), ('colourful', 4035), ('bognor', 4036), ('splendid', 4037), ('frying', 4038), ('unintentionally', 4039), ('warning', 4040), ('dentists', 4041), ('billy', 4042), ('jogging', 4043), ('univ', 4044), ('08715205273', 4045), ('raviyog', 4046), ('peripherals', 4047), ('bhayandar', 4048), ('wallet', 4049), ('efficient', 4050), ('uawake', 4051), ('feellikw', 4052), ('justfound', 4053), ('aletter', 4054), ('thatmum', 4055), ('gotmarried', 4056), ('4thnov', 4057), ('ourbacks', 4058), ('fuckinnice', 4059), ('seekers', 4060), ('nordstrom', 4061), ('tescos', 4062), ('temales', 4063), ('smiled', 4064), ('answered', 4065), ('74355', 4066), ('repent', 4067), ('2stoptxt', 4068), ('shattered', 4069), ('performed', 4070), ('gotto', 4071), ('220cm2', 4072), ('qi', 4073), ('suddenly', 4074), ('08719181513', 4075), ('youåõre', 4076), ('w4', 4077), ('5wq', 4078), ('beads', 4079), ('wither', 4080), ('23f', 4081), ('23g', 4082), ('perumbavoor', 4083), (\"'maangalyam\", 4084), ('alaipayuthe', 4085), ('concentration', 4086), ('jiayin', 4087), ('faith', 4088), ('configure', 4089), ('slower', 4090), ('maniac', 4091), ('anand', 4092), ('rugby', 4093), ('environment', 4094), ('terrific', 4095), ('apnt', 4096), ('5pm', 4097), ('forgiveness', 4098), ('highest', 4099), ('å£54', 4100), ('maximum', 4101), ('å£71', 4102), ('involve', 4103), ('imposed', 4104), ('rejected', 4105), ('lamp', 4106), ('randomlly', 4107), ('mas', 4108), ('sindu', 4109), ('strange', 4110), ('scratching', 4111), ('justify', 4112), ('shhhhh', 4113), ('phonebook', 4114), ('2006', 4115), ('fifa', 4116), ('compliments', 4117), ('oreo', 4118), ('truffles', 4119), ('goigng', 4120), ('perfume', 4121), ('grandma', 4122), ('parade', 4123), ('thirtyeight', 4124), ('hectic', 4125), ('0871277810910p', 4126), ('meive', 4127), ('gotany', 4128), ('rdy', 4129), ('ship', 4130), ('ami', 4131), ('parchi', 4132), ('kicchu', 4133), ('kaaj', 4134), ('korte', 4135), ('iccha', 4136), ('korche', 4137), ('tul', 4138), ('custom', 4139), ('officer', 4140), ('claims', 4141), ('09050005321', 4142), ('intend', 4143), ('iwas', 4144), ('marine', 4145), ('itried2tell', 4146), ('urmom', 4147), ('careabout', 4148), ('åòharry', 4149), ('07742676969', 4150), ('08719180248', 4151), ('beverage', 4152), ('pist', 4153), ('easiest', 4154), ('barcelona', 4155), ('como', 4156), ('listened2the', 4157), ('plaid', 4158), ('air1', 4159), ('hilarious', 4160), ('boughtåóbraindanceåóa', 4161), ('ofstuff', 4162), ('aphexåõs', 4163), ('abel', 4164), ('flood', 4165), ('thanx4', 4166), ('cer', 4167), ('officially', 4168), ('limping', 4169), ('aa', 4170), ('suggestion', 4171), ('lands', 4172), ('helps', 4173), ('forgt', 4174), ('phone750', 4175), ('beneath', 4176), ('pale', 4177), ('physics', 4178), ('stressful', 4179), ('fishrman', 4180), ('sack', 4181), ('strtd', 4182), ('throwin', 4183), ('1stone', 4184), ('diamonds', 4185), (\"mrng''\", 4186), ('sonetimes', 4187), ('rough', 4188), ('simpler', 4189), ('haunt', 4190), ('promoting', 4191), ('hex', 4192), ('emotion', 4193), ('prayrs', 4194), ('othrwise', 4195), ('lifting', 4196), ('french', 4197), ('fooled', 4198), ('sppok', 4199), ('sdryb8i', 4200), ('pose', 4201), ('comb', 4202), ('dryer', 4203), ('ello', 4204), (\"did'nt\", 4205), ('54', 4206), ('resubmit', 4207), ('expiry', 4208), ('tarot', 4209), ('85555', 4210), ('subscribers', 4211), ('it\\x89û÷s', 4212), ('chik', 4213), (\"100's\", 4214), ('filth', 4215), ('69669', 4216), ('saristar', 4217), ('e14', 4218), ('9yt', 4219), ('08701752560', 4220), ('450p', 4221), ('stop2', 4222), ('ax', 4223), ('4the', 4224), ('uv', 4225), ('causes', 4226), ('mutations', 4227), ('sunscreen', 4228), ('thesedays', 4229), ('upping', 4230), ('grams', 4231), ('intentions', 4232), ('chgs', 4233), ('09058095107', 4234), ('s3xy', 4235), ('degrees', 4236), ('err', 4237), ('8pm', 4238), ('buyers', 4239), ('worms', 4240), ('equally', 4241), ('uneventful', 4242), ('pesky', 4243), ('cyclists', 4244), ('resuming', 4245), ('reapply', 4246), (\"treatin'\", 4247), ('treacle', 4248), ('dirt', 4249), ('mouth', 4250), ('chores', 4251), ('exist', 4252), ('hail', 4253), ('mist', 4254), ('stairs', 4255), ('phews', 4256), ('difference', 4257), ('versus', 4258), ('lingo', 4259), ('mittelschmertz', 4260), ('paracetamol', 4261), (\"riley's\", 4262), ('swimsuit', 4263), ('computational', 4264), ('weightloss', 4265), ('importantly', 4266), ('grasp', 4267), ('pickle', 4268), ('gage', 4269), ('deck', 4270), ('cnupdates', 4271), ('newsletter', 4272), ('alerts', 4273), ('gail', 4274), ('l8tr', 4275), ('yaxxx', 4276), ('buzy', 4277), ('stoners', 4278), ('convincing', 4279), ('crowd', 4280), ('missionary', 4281), ('november', 4282), ('09061104276', 4283), ('costå£3', 4284), ('75max', 4285), ('dartboard', 4286), ('condition', 4287), ('doubles', 4288), ('trebles', 4289), ('detail', 4290), ('batt', 4291), ('hearin', 4292), ('eightish', 4293), ('carpark', 4294), ('checkup', 4295), ('aka', 4296), ('smear', 4297), ('09066660100', 4298), ('2309', 4299), ('0796xxxxxx', 4300), ('prizeawaiting', 4301), ('sunroof', 4302), ('08452810071', 4303), ('notified', 4304), ('marketing', 4305), ('84122', 4306), ('08450542832', 4307), ('ree', 4308), ('slacking', 4309), ('feelin', 4310), ('lnly', 4311), ('image', 4312), ('afterwards', 4313), ('bike', 4314), ('disconnected', 4315), ('bluray', 4316), ('prayers', 4317), ('chances', 4318), ('csh11', 4319), ('6days', 4320), ('tsandcs', 4321), ('unclaimed', 4322), ('09066368327', 4323), ('closingdate04', 4324), ('claimcode', 4325), ('m39m51', 4326), ('50pmmorefrommobile2bremoved', 4327), ('mobypobox734ls27yf', 4328), ('arabian', 4329), ('steed', 4330), ('blowing', 4331), ('specialisation', 4332), ('labor', 4333), ('shakara', 4334), ('beggar', 4335), ('stuffing', 4336), ('09090900040', 4337), ('extreme', 4338), ('sic', 4339), ('7mp', 4340), ('0870753331018', 4341), ('maps', 4342), ('overtime', 4343), ('nigpun', 4344), ('ayo', 4345), ('travelled', 4346), ('07808726822', 4347), ('9758', 4348), ('throws', 4349), ('brothers', 4350), ('ajith', 4351), ('lucyxx', 4352), ('faded', 4353), ('glory', 4354), ('ralphs', 4355), ('loses', 4356), ('cheque', 4357), ('grateful', 4358), ('happier', 4359), ('alibi', 4360), ('cutting', 4361), ('truro', 4362), ('ext', 4363), ('falling', 4364), ('smeone', 4365), ('tall', 4366), ('jaykwon', 4367), ('thuglyfe', 4368), ('falconerf', 4369), ('kitty', 4370), ('shaved', 4371), ('wknd', 4372), ('prix', 4373), ('inspection', 4374), ('nursery', 4375), ('flurries', 4376), ('eek', 4377), ('flow', 4378), ('developed', 4379), ('ovarian', 4380), ('cysts', 4381), ('shrink', 4382), ('yupz', 4383), ('09095350301', 4384), ('erotic', 4385), ('ecstacy', 4386), ('requirements', 4387), ('gray', 4388), ('listn', 4389), ('watevr', 4390), ('ew', 4391), ('lengths', 4392), ('behalf', 4393), ('stunning', 4394), ('positions', 4395), ('kama', 4396), ('sutra', 4397), ('awkward', 4398), ('ummma', 4399), ('earn', 4400), ('fassyole', 4401), ('blacko', 4402), ('londn', 4403), ('prevent', 4404), ('dehydration', 4405), ('fluids', 4406), ('goodmate', 4407), ('sary', 4408), ('asusual', 4409), ('cheered', 4410), ('franyxxxxx', 4411), ('å£125', 4412), ('freeentry', 4413), ('xt', 4414), ('thasa', 4415), ('messed', 4416), ('entirely', 4417), ('fucks', 4418), ('nutter', 4419), ('cutter', 4420), ('ctter', 4421), ('cttergg', 4422), ('cttargg', 4423), ('ctargg', 4424), ('ctagg', 4425), ('ie', 4426), (\"valentine's\", 4427), ('69101', 4428), ('rtf', 4429), ('sphosting', 4430), ('palm', 4431), ('consent', 4432), ('responce', 4433), ('okmail', 4434), ('drunkard', 4435), ('kfc', 4436), ('meals', 4437), ('gravy', 4438), ('mobs', 4439), ('breathe1', 4440), ('crazyin', 4441), ('sleepingwith', 4442), ('finest', 4443), ('ymca', 4444), ('pobox365o4w45wq', 4445), ('theyre', 4446), ('83118', 4447), ('colin', 4448), ('farrell', 4449), ('swat', 4450), ('mre', 4451), ('49', 4452), ('bundle', 4453), ('deals', 4454), ('avble', 4455), ('mf', 4456), ('convenience', 4457), ('archive', 4458), ('acknowledgement', 4459), ('astoundingly', 4460), ('tactless', 4461), ('faggy', 4462), ('oath', 4463), ('fo', 4464), ('nydc', 4465), ('wheellock', 4466), ('ambitious', 4467), ('view', 4468), ('gays', 4469), ('you\\x89û÷ll', 4470), ('notixiquating', 4471), ('laxinorficated', 4472), ('bambling', 4473), ('entropication', 4474), ('oblisingately', 4475), ('opted', 4476), ('masteriastering', 4477), ('amplikater', 4478), ('fidalfication', 4479), ('champlaxigating', 4480), ('atrocious', 4481), ('wotz', 4482), ('junna', 4483), ('supports', 4484), ('srt', 4485), ('ps3', 4486), ('crucial', 4487), (\"someone's\", 4488), ('classes', 4489), ('dodgey', 4490), ('frog', 4491), ('axel', 4492), ('akon', 4493), ('eyed', 4494), ('chop', 4495), ('\\x89ûïharry', 4496), ('tiring', 4497), ('concentrating', 4498), ('iron', 4499), ('rang', 4500), ('youi', 4501), ('thnx', 4502), ('noice', 4503), ('limited', 4504), ('agent', 4505), ('goodies', 4506), ('mat', 4507), ('lasagna', 4508), ('0789xxxxxxx', 4509), ('2find', 4510), ('bleak', 4511), ('kay', 4512), ('stays', 4513), ('ors', 4514), ('stool', 4515), ('evaluation', 4516), ('lambda', 4517), ('genes', 4518), ('yeesh', 4519), ('signal', 4520), ('unusual', 4521), ('anna', 4522), ('nagar', 4523), ('squeeeeeze', 4524), ('frndshp', 4525), ('luvd', 4526), ('ahhh', 4527), ('vaguely', 4528), ('ahold', 4529), ('08714712379', 4530), ('u\\x89ûªve', 4531), ('instant', 4532), ('08715203028', 4533), ('9th', 4534), ('broth', 4535), ('ramen', 4536), ('zoom', 4537), ('pants', 4538), ('mandy', 4539), ('sullivan', 4540), ('hotmix', 4541), ('fm', 4542), ('chosen', 4543), ('09041940223', 4544), ('transferred', 4545), ('chit', 4546), ('logon', 4547), ('8883', 4548), ('4217', 4549), ('w1a', 4550), ('6zf', 4551), ('118p', 4552), ('tattoos', 4553), ('necessarily', 4554), ('20m12aq', 4555), ('\\x89ûï', 4556), ('snickering', 4557), ('chords', 4558), ('cruisin', 4559), ('jenny', 4560), ('strongly', 4561), ('sacrifice', 4562), ('creativity', 4563), ('stifled', 4564), ('port', 4565), ('087123002209am', 4566), ('mw', 4567), ('tuth', 4568), ('semiobscure', 4569), ('lara', 4570), ('09063458130', 4571), ('polyph', 4572), ('stressfull', 4573), ('adds', 4574), ('wrkin', 4575), ('discreet', 4576), ('83110', 4577), ('9061100010', 4578), ('wire3', 4579), ('1st4terms', 4580), ('mobcudb', 4581), (\"'need'\", 4582), (\"'comfort'\", 4583), (\"'luxury'\", 4584), ('sold', 4585), ('multiply', 4586), ('independently', 4587), ('showed', 4588), ('tp', 4589), ('horse', 4590), ('racing', 4591), ('rice', 4592), ('08719181259', 4593), ('alian', 4594), ('pt2', 4595), ('f4q', 4596), ('fridge', 4597), ('emailed', 4598), ('yifeng', 4599), ('needa', 4600), ('inner', 4601), ('tigress', 4602), ('crashed', 4603), ('cuddled', 4604), ('posting', 4605), ('invoices', 4606), ('08718738002', 4607), ('48922', 4608), ('rcb', 4609), ('battle', 4610), ('kochi', 4611), ('computers', 4612), ('gently', 4613), ('ofcourse', 4614), ('errors', 4615), ('correction', 4616), (\"'an\", 4617), (\"quote''\", 4618), (\"party's\", 4619), ('contribute', 4620), ('greatly', 4621), ('appreciated', 4622), ('stil', 4623), ('tobed', 4624), ('430', 4625), ('630', 4626), ('nimbomsons', 4627), ('gei', 4628), ('tron', 4629), ('dl', 4630), ('simulate', 4631), ('readiness', 4632), ('korean', 4633), (\"leona's\", 4634), ('2mro', 4635), ('enters', 4636), ('multis', 4637), ('hitter', 4638), ('08719839835', 4639), ('mgs', 4640), ('89123', 4641), ('progress', 4642), ('deduct', 4643), ('rv', 4644), ('rvx', 4645), ('starshine', 4646), ('sips', 4647), ('heåõs', 4648), ('2getha', 4649), ('predict', 4650), ('timings', 4651), ('cashed', 4652), ('announced', 4653), ('blog', 4654), (\"rct'\", 4655), ('thnq', 4656), ('adrian', 4657), ('rgds', 4658), ('vatian', 4659), ('pounded', 4660), ('quarter', 4661), ('83039', 4662), ('62735', 4663), ('å£450', 4664), ('accommodationvouchers', 4665), ('mustprovide', 4666), ('15541', 4667), ('hint', 4668), ('cutest', 4669), ('board', 4670), ('overheating', 4671), ('reslove', 4672), ('inst', 4673), (\"8'o\", 4674), ('poem', 4675), ('cheer', 4676), ('noiåõm', 4677), ('js', 4678), ('poyyarikatur', 4679), ('kolathupalayam', 4680), ('unjalur', 4681), ('erode', 4682), ('go2sri', 4683), ('lanka', 4684), ('gokila', 4685), ('wiskey', 4686), ('brandy', 4687), ('rum', 4688), ('gin', 4689), ('scotch', 4690), ('shampain', 4691), ('kudi', 4692), ('yarasu', 4693), ('dhina', 4694), ('vaazhthukkal', 4695), ('converted', 4696), ('coughing', 4697), ('related', 4698), ('arul', 4699), ('545', 4700), ('amla', 4701), ('signin', 4702), ('knackered', 4703), ('dreading', 4704), ('thou', 4705), ('enc', 4706), ('lay', 4707), ('bimbo', 4708), (\"ugo's\", 4709), ('skyving', 4710), ('sts', 4711), ('stretch', 4712), ('84025', 4713), ('web2mobile', 4714), ('txt250', 4715), ('box139', 4716), ('la32wu', 4717), ('txtx', 4718), ('treats', 4719), ('bomb', 4720), ('forwarding', 4721), ('ratio', 4722), ('noworriesloans', 4723), ('08717111821', 4724), ('taxt', 4725), ('massage', 4726), ('tie', 4727), ('pos', 4728), ('lool', 4729), ('dumb', 4730), ('named', 4731), ('820554ad0a1705572711', 4732), ('trueåác', 4733), ('ringtoneåá', 4734), ('0721072', 4735), ('mary', 4736), ('pshew', 4737), ('foot', 4738), ('penis', 4739), ('swashbuckling', 4740), ('elections', 4741), ('shouldn\\x89û÷t', 4742), ('hype', 4743), ('studio', 4744), ('steamboat', 4745), ('macs', 4746), ('prepared', 4747), ('teams', 4748), ('vpod', 4749), ('81303', 4750), ('chez', 4751), ('jules', 4752), ('arty', 4753), ('collages', 4754), ('tryin', 4755), ('mei', 4756), ('haven', 4757), ('bao', 4758), ('sugardad', 4759), ('talents', 4760), ('horniest', 4761), ('oxygen', 4762), ('resort', 4763), ('roller', 4764), ('amigos', 4765), ('burn', 4766), ('bothering', 4767), ('jon', 4768), ('spain', 4769), ('dinero', 4770), ('åôrents', 4771), ('000pes', 4772), ('å£48', 4773), ('lobby', 4774), ('spacebucks', 4775), ('torture', 4776), ('showrooms', 4777), ('shaping', 4778), ('shb', 4779), ('canteen', 4780), ('weirdo', 4781), ('447797706009', 4782), ('careers', 4783), ('garments', 4784), ('mcfly', 4785), ('ab', 4786), ('sara', 4787), ('jorge', 4788), ('switch', 4789), ('attended', 4790), ('famamus', 4791), ('thinl', 4792), ('rows', 4793), ('sink', 4794), ('paces', 4795), ('cage', 4796), ('surrounded', 4797), ('cuck', 4798), ('reality', 4799), ('impressively', 4800), ('sensible', 4801), ('neighbors', 4802), ('famous', 4803), ('quote', 4804), (\"'anything'\", 4805), ('unconditionally', 4806), ('temper', 4807), (\"'married'\", 4808), ('3750', 4809), ('116', 4810), ('amk', 4811), ('515', 4812), ('mailed', 4813), ('varma', 4814), ('tirunelvali', 4815), ('costume', 4816), ('stamped', 4817), ('113', 4818), ('bray', 4819), ('wicklow', 4820), ('eire', 4821), ('scorable', 4822), ('investigate', 4823), ('08719181503', 4824), ('complain', 4825), ('bettr', 4826), ('bsnl', 4827), ('offc', 4828), ('atten', 4829), ('850', 4830), ('650', 4831), ('rimac', 4832), ('bani', 4833), ('sian', 4834), ('geeeee', 4835), ('taught', 4836), ('becaus', 4837), ('verifying', 4838), ('prabu', 4839), ('maths', 4840), ('chapter', 4841), ('everyso', 4842), ('panicks', 4843), ('å£1million', 4844), ('ppt150x3', 4845), ('box403', 4846), ('w1t1jy', 4847), ('affectionate', 4848), ('shaking', 4849), ('8lb', 4850), ('7oz', 4851), ('brilliantly', 4852), ('1405', 4853), ('1680', 4854), ('1843', 4855), ('b4u', 4856), ('marsms', 4857), ('b4utele', 4858), ('08717168528', 4859), ('jia', 4860), ('entrepreneurs', 4861), (\"'xam\", 4862), ('1thing', 4863), ('answr', 4864), ('hdd', 4865), ('casing', 4866), ('manky', 4867), ('scouse', 4868), ('travelling', 4869), ('inmind', 4870), ('recreation', 4871), ('limit', 4872), ('measure', 4873), ('boundaries', 4874), ('endless', 4875), ('corvettes', 4876), ('rodds1', 4877), ('aberdeen', 4878), ('united', 4879), ('kingdom', 4880), ('img', 4881), ('icmb3cktz8r7', 4882), ('tex', 4883), ('mecause', 4884), ('werebored', 4885), ('okden', 4886), ('uin', 4887), ('soundåõs', 4888), ('likeyour', 4889), ('gr8fun', 4890), ('updat', 4891), ('countinlots', 4892), ('loveme', 4893), ('destination', 4894), ('bffs', 4895), ('carly', 4896), ('checkmate', 4897), ('chess', 4898), ('persian', 4899), ('phrase', 4900), ('shah', 4901), ('maat', 4902), ('cumming', 4903), ('accenture', 4904), (\"unicef's\", 4905), ('asian', 4906), ('tsunami', 4907), ('disaster', 4908), ('fund', 4909), ('864233', 4910), ('choices', 4911), ('toss', 4912), ('gudni8', 4913), ('hiphop', 4914), ('bitching', 4915), ('acted', 4916), ('08448350055', 4917), ('planettalkinstant', 4918), (\"joke's\", 4919), ('florida', 4920), ('chickened', 4921), ('woould', 4922), ('4719', 4923), ('523', 4924), ('chase', 4925), ('stated', 4926), ('fuuuuck', 4927), ('playin', 4928), ('leading', 4929), ('151', 4930), ('pause', 4931), ('tonght', 4932), ('fink', 4933), ('09099726553', 4934), ('promised', 4935), ('carlie', 4936), ('minmobsmore', 4937), ('lkpobox177hp51fl', 4938), ('villa', 4939), ('wee', 4940), ('chile', 4941), ('subletting', 4942), ('sexiest', 4943), ('dirtiest', 4944), ('09061702893', 4945), ('08718726978', 4946), ('tooth', 4947), ('or2optout', 4948), ('hv9d', 4949), ('opps', 4950), ('confused', 4951), (\"tt's\", 4952), ('juswoke', 4953), ('boatin', 4954), ('docks', 4955), ('spinout', 4956), ('pump', 4957), ('stories', 4958), ('judgemental', 4959), ('fridays', 4960), ('cosign', 4961), ('postponed', 4962), ('stocked', 4963), ('secured', 4964), ('unsecured', 4965), ('195', 4966), ('6669', 4967), ('dice', 4968), ('misplaced', 4969), ('atlanta', 4970), ('radiator', 4971), ('8077', 4972), ('units', 4973), ('practicing', 4974), ('accent', 4975), ('4years', 4976), ('dental', 4977), ('nmde', 4978), ('hogolo', 4979), ('kodstini', 4980), ('necklace', 4981), ('madstini', 4982), ('hogli', 4983), ('mutai', 4984), ('eerulli', 4985), ('kodthini', 4986), ('completing', 4987), ('cruise', 4988), ('involved', 4989), ('konw', 4990), ('waht', 4991), ('rael', 4992), ('gving', 4993), ('exmpel', 4994), ('jsut', 4995), ('evrey', 4996), ('splleing', 4997), ('wrnog', 4998), ('sitll', 4999), ('raed', 5000), ('wihtuot', 5001), ('ayn', 5002), ('mitsake', 5003), ('wrking', 5004), ('09061209465', 5005), ('suprman', 5006), ('matrix3', 5007), ('starwars3', 5008), ('form', 5009), ('clark', 5010), ('utter', 5011), ('puzzeles', 5012), ('sonathaya', 5013), ('soladha', 5014), ('karaoke', 5015), ('debating', 5016), ('gained', 5017), ('pressure', 5018), ('limits', 5019), ('bridge', 5020), ('lager', 5021), ('wikipedia', 5022), ('645', 5023), ('piece', 5024), ('mus', 5025), ('the4th', 5026), ('october', 5027), ('complacent', 5028), ('honeybee', 5029), ('sweetest', 5030), ('laughed', 5031), ('havnt', 5032), ('crack', 5033), ('jokes', 5034), ('09066362220', 5035), ('wtc', 5036), ('weiyi', 5037), ('borderline', 5038), ('referin', 5039), (\"mei's\", 5040), ('grandfather', 5041), ('expired', 5042), ('dentist', 5043), ('sef', 5044), ('anjie', 5045), ('surrender', 5046), ('avo', 5047), ('although', 5048), ('eventually', 5049), ('build', 5050), ('tolerance', 5051), ('considering', 5052), ('hits', 5053), ('eh74rr', 5054), ('behave', 5055), ('emerging', 5056), ('fiend', 5057), ('impede', 5058), ('hesitant', 5059), ('alaikkum', 5060), ('respectful', 5061), ('09094100151', 5062), ('cast', 5063), ('gbp5', 5064), ('box61', 5065), ('m60', 5066), ('1er', 5067), ('srsly', 5068), ('yi', 5069), ('2000', 5070), ('08712402050', 5071), ('10ppm', 5072), ('ag', 5073), ('promo', 5074), ('seventeen', 5075), ('ml', 5076), ('spageddies', 5077), ('hassling', 5078), ('andres', 5079), ('haughaighgtujhyguj', 5080), ('ipad', 5081), ('09096102316', 5082), ('southern', 5083), ('mushy', 5084), ('embarrassed', 5085), ('khelate', 5086), ('kintu', 5087), ('opponenter', 5088), ('dhorte', 5089), ('lage', 5090), ('healthy', 5091), ('prasanth', 5092), ('ettans', 5093), ('payback', 5094), ('pathaya', 5095), ('enketa', 5096), ('maraikara', 5097), (\"pa'\", 5098), ('audrey', 5099), ('soul', 5100), ('spark', 5101), ('rawring', 5102), ('xoxo', 5103), ('449050000301', 5104), ('09050000301', 5105), ('listed', 5106), ('placed', 5107), ('thesmszone', 5108), ('anonymous', 5109), ('masked', 5110), ('abuse', 5111), ('0871277810710p', 5112), ('nigh', 5113), ('jackson', 5114), ('urfeeling', 5115), ('bettersn', 5116), ('probthat', 5117), ('overdose', 5118), ('lovejen', 5119), ('hopeing', 5120), ('wasn\\x89û÷t', 5121), ('sisters', 5122), ('comprehensive', 5123), ('consider', 5124), ('excused', 5125), ('manageable', 5126), ('melody', 5127), ('flavour', 5128), ('146tf150p', 5129), ('ecstasy', 5130), ('disappointment', 5131), ('craziest', 5132), ('blessed', 5133), ('barring', 5134), ('sudden', 5135), ('influx', 5136), ('09058094455', 5137), ('dogbreath', 5138), ('sounding', 5139), ('zac', 5140), ('retired', 5141), ('maturity', 5142), ('voted', 5143), (\"'melle\", 5144), ('melle', 5145), ('minnaminunginte', 5146), ('nurungu', 5147), ('vettam', 5148), ('mesages', 5149), ('vco', 5150), ('aslamalaikkum', 5151), ('tohar', 5152), ('beeen', 5153), ('muht', 5154), ('albi', 5155), ('mufti', 5156), ('mahfuuz', 5157), ('urgh', 5158), ('coach', 5159), ('smells', 5160), ('duvet', 5161), ('predictive', 5162), ('taj', 5163), ('lesser', 5164), ('known', 5165), ('facts', 5166), (\"shahjahan's\", 5167), ('wifes', 5168), ('shahjahan', 5169), ('arises', 5170), ('hari', 5171), ('breaking', 5172), ('cstore', 5173), ('poet', 5174), ('imagination', 5175), ('jack', 5176), ('helpful', 5177), ('pretend', 5178), ('hypotheticalhuagauahahuagahyuhagga', 5179), ('08712402902', 5180), ('feet', 5181), ('subs16', 5182), ('1win150ppmx3', 5183), ('cc100p', 5184), ('lakhs', 5185), ('isaiah', 5186), ('abeg', 5187), ('sponsors', 5188), ('event', 5189), ('watever', 5190), ('built', 5191), ('remains', 5192), ('lonlines', 5193), ('lotz', 5194), ('memories', 5195), ('increase', 5196), ('whereare', 5197), ('friendsare', 5198), ('thekingshead', 5199), ('canlove', 5200), ('jurong', 5201), ('amore', 5202), ('cloth', 5203), ('220', 5204), ('cm2', 5205), ('fujitsu', 5206), ('lifebook', 5207), ('09066649731from', 5208), ('motivating', 5209), ('sane', 5210), ('helping', 5211), (\"finn's\", 5212), ('adsense', 5213), ('approved', 5214), ('macho', 5215), ('shitin', 5216), ('defo', 5217), ('hardest', 5218), ('millions', 5219), ('lekdog', 5220), ('watched', 5221), ('gamestar', 5222), ('active', 5223), ('å£250k', 5224), ('scoring', 5225), ('88088', 5226), ('busetop', 5227), ('unni', 5228), ('gmw', 5229), ('connected', 5230), ('gsoh', 5231), ('spam', 5232), ('gigolo', 5233), ('mens', 5234), ('oncall', 5235), ('mjzgroup', 5236), ('08714342399', 5237), ('50rcvd', 5238), ('meaningless', 5239), ('moments', 5240), ('whatsup', 5241), ('panties', 5242), ('arrived', 5243), ('laready', 5244), ('checkin', 5245), ('chic', 5246), ('declare', 5247), ('julianaland', 5248), ('oblivious', 5249), ('08002986030', 5250), ('real1', 5251), ('pushbutton', 5252), ('dontcha', 5253), ('babygoodbye', 5254), ('golddigger', 5255), ('webeburnin', 5256), ('brothas', 5257), ('infact', 5258), ('gandhipuram', 5259), ('ceri', 5260), ('rebel', 5261), ('dreamz', 5262), ('buddy', 5263), ('blokes', 5264), ('24m', 5265), ('onum', 5266), ('copies', 5267), ('baaaaaaaabe', 5268), ('xavier', 5269), ('woul', 5270), ('curfew', 5271), ('gibe', 5272), ('getsleep', 5273), ('studdying', 5274), ('dust', 5275), (\"åòit's\", 5276), ('flowers', 5277), ('505060', 5278), ('gobi', 5279), ('dependents', 5280), ('1030', 5281), ('w8in', 5282), ('4utxt', 5283), ('60', 5284), ('400thousad', 5285), (\"textin'\", 5286), ('08719899230', 5287), ('converter', 5288), ('diddy', 5289), ('neighbor', 5290), ('toothpaste', 5291), ('joys', 5292), ('lifeis', 5293), ('daywith', 5294), ('thoughts', 5295), ('somewheresomeone', 5296), ('tosend', 5297), ('greeting', 5298), ('07732584351', 5299), ('rodger', 5300), ('shag', 5301), ('sextextuk', 5302), ('xxuk', 5303), ('69876', 5304), ('rebtel', 5305), ('firefox', 5306), ('baaaaabe', 5307), ('misss', 5308), ('youuuuu', 5309), ('nauseous', 5310), ('sweets', 5311), ('dieting', 5312), ('financial', 5313), ('locks', 5314), ('jenne', 5315), (\"audrey's\", 5316), ('status', 5317), ('velachery', 5318), ('buffy', 5319), ('qlynnbv', 5320), ('help08700621170150p', 5321), ('bbd', 5322), ('pooja', 5323), ('sweatter', 5324), ('dileep', 5325), ('muchand', 5326), ('venugopal', 5327), ('mentioned', 5328), ('kavalan', 5329), ('copied', 5330), ('swhrt', 5331), ('parts', 5332), ('rt', 5333), ('pro', 5334), ('08701237397', 5335), ('redeemable', 5336), ('08715203656', 5337), ('42049', 5338), (\"fr'ndship\", 5339), ('needle', 5340), ('itz', 5341), ('4few', 5342), ('seconds', 5343), ('alwys', 5344), ('conected', 5345), ('09050001808', 5346), ('m95', 5347), ('ambrith', 5348), ('madurai', 5349), ('dha', 5350), ('marrge', 5351), ('improved', 5352), ('å£1450', 5353), ('09050002311', 5354), ('b4280703', 5355), ('08718727868', 5356), ('bro', 5357), ('creative', 5358), ('propose', 5359), ('seing', 5360), ('asssssholeeee', 5361), ('spoil', 5362), ('shell', 5363), ('unconsciously', 5364), ('avoiding', 5365), ('unhappy', 5366), ('passable', 5367), ('phd', 5368), ('5years', 5369), ('classmates', 5370), ('cloud', 5371), ('08712402779', 5372), ('å£1000call', 5373), ('09071512432', 5374), ('300603t', 5375), ('callcost150ppmmobilesvary', 5376), ('coimbatore', 5377), ('clas', 5378), ('spirit', 5379), ('dot', 5380), ('scrumptious', 5381), ('breakfast', 5382), ('hamper', 5383), ('dock', 5384), ('rolled', 5385), ('newscaster', 5386), ('dabbles', 5387), ('flute', 5388), ('wheel', 5389), ('shorts', 5390), ('apeshit', 5391), ('needing', 5392), ('cps', 5393), ('outages', 5394), ('conserve', 5395), ('lists', 5396), ('establish', 5397), ('trained', 5398), ('advisors', 5399), ('dialling', 5400), ('402', 5401), ('coincidence', 5402), ('waliking', 5403), ('sos', 5404), ('guessin', 5405), ('callon', 5406), ('6months', 5407), ('169', 5408), ('6031', 5409), ('lyricalladie', 5410), ('hmmross', 5411), ('elaborating', 5412), ('safety', 5413), ('aspects', 5414), ('restrict', 5415), ('bathroom', 5416), ('ericson', 5417), ('der', 5418), ('luks', 5419), ('modl', 5420), ('maaaan', 5421), ('arranging', 5422), ('kilos', 5423), ('tddnewsletter', 5424), ('emc1', 5425), ('thedailydraw', 5426), ('dozens', 5427), ('prizeswith', 5428), ('hiding', 5429), ('monster', 5430), ('330', 5431), ('1120', 5432), ('1205', 5433), ('09058091854', 5434), ('box385', 5435), ('m6', 5436), ('6wu', 5437), (\"shade's\", 5438), ('beerage', 5439), ('perhaps', 5440), ('identification', 5441), ('alertfrom', 5442), ('jeri', 5443), ('stewartsize', 5444), ('2kbsubject', 5445), ('prescripiton', 5446), ('drvgsto', 5447), ('telediscount', 5448), ('98321561', 5449), ('familiar', 5450), ('worrying', 5451), ('quizzes', 5452), ('wildlife', 5453), ('want2come', 5454), ('that2worzels', 5455), ('wizzle', 5456), ('cuddling', 5457), ('suffering', 5458), ('dysentry', 5459), ('panasonic', 5460), ('bluetoothhdset', 5461), ('doublemins', 5462), ('doubletxt', 5463), ('09066361921', 5464), (\"that'll\", 5465), ('gek1510', 5466), ('propsd', 5467), ('gv', 5468), ('lv', 5469), ('lttrs', 5470), ('threw', 5471), ('aproach', 5472), ('dt', 5473), ('truck', 5474), ('speeding', 5475), ('wn', 5476), (\"'hw\", 5477), ('cn', 5478), ('instantly', 5479), ('shouted', 5480), ('thy', 5481), ('lived', 5482), ('happily', 5483), ('2gthr', 5484), ('evrydy', 5485), ('hv', 5486), ('contacted', 5487), ('09064017305', 5488), ('pobox75ldns7', 5489), ('missunderstding', 5490), ('beloved', 5491), (\"one's\", 5492), ('forced', 5493), ('cudnt', 5494), ('ctla', 5495), ('ente', 5496), ('ishtamayoo', 5497), ('bakrid', 5498), ('syria', 5499), ('teju', 5500), ('programs', 5501), ('boltblue', 5502), ('poly3', 5503), ('jamz', 5504), ('toxic', 5505), ('mike', 5506), ('hussey', 5507), ('ninish', 5508), ('icky', 5509), ('freek', 5510), ('callin', 5511), ('0845', 5512), ('2814032', 5513), ('3xå£150pw', 5514), ('eå£nd', 5515), ('recognise', 5516), ('stu', 5517), ('truble', 5518), ('evone', 5519), ('hates', 5520), ('knickers', 5521), ('01223585236', 5522), ('nikiyu4', 5523), ('ahhhh', 5524), ('80160', 5525), ('txt43', 5526), ('plm', 5527), ('wamma', 5528), ('doggin', 5529), ('dogs', 5530), ('gam', 5531), ('innings', 5532), ('screwd', 5533), ('sterm', 5534), ('resolved', 5535), ('magic', 5536), ('loose', 5537), ('darker', 5538), ('styling', 5539), ('yalru', 5540), ('astne', 5541), ('innu', 5542), ('mundhe', 5543), ('halla', 5544), ('bilo', 5545), ('edhae', 5546), ('ovr', 5547), ('vargu', 5548), ('machines', 5549), ('sophas', 5550), ('secondary', 5551), ('applying', 5552), ('ogunrinde', 5553), ('2hrs', 5554), ('tscs08714740323', 5555), ('1winawk', 5556), ('50perweeksub', 5557), ('wating', 5558), ('jaklin', 5559), ('aptitude', 5560), ('gauge', 5561), (\"patty's\", 5562), ('coherently', 5563), ('pleasured', 5564), ('veggie', 5565), ('priority', 5566), ('glo', 5567), ('weåõve', 5568), ('mint', 5569), ('studyn', 5570), ('bird', 5571), ('antelope', 5572), ('toplay', 5573), ('fieldof', 5574), ('selfindependence', 5575), ('contention', 5576), ('6pm', 5577), ('hittng', 5578), ('reflex', 5579), ('hui', 5580), ('xin', 5581), ('hvae', 5582), ('09061701444', 5583), ('gastroenteritis', 5584), ('replace', 5585), ('reduce', 5586), ('limiting', 5587), ('illness', 5588), ('western', 5589), ('2u2', 5590), ('catches', 5591), ('sleepy', 5592), ('49557', 5593), ('woodland', 5594), ('avenue', 5595), ('parish', 5596), ('magazine', 5597), ('changes', 5598), ('appendix', 5599), ('range', 5600), ('doit', 5601), ('mymoby', 5602), ('8800', 5603), ('psp', 5604), ('freaky', 5605), ('parties', 5606), ('messy', 5607), ('textand', 5608), ('08002988890', 5609), ('club4mobiles', 5610), ('87070', 5611), ('club4', 5612), ('box1146', 5613), ('mk45', 5614), ('2wt', 5615), ('jumpers', 5616), ('hat', 5617), ('belt', 5618), ('cribbs', 5619), ('tunji', 5620), ('gower', 5621), ('åômorrow', 5622), ('wi', 5623), ('nz', 5624), ('shrek', 5625), ('fires', 5626), ('sliding', 5627), ('dippeditinadew', 5628), ('lovingly', 5629), ('touched', 5630), ('itwhichturnedinto', 5631), ('gifted', 5632), ('tomeandsaid', 5633), ('assumed', 5634), ('worst', 5635), ('dessert', 5636), ('1225', 5637), ('å£50award', 5638), ('sapna', 5639), ('manege', 5640), (\"y'day\", 5641), ('hogidhe', 5642), ('chinnu', 5643), ('swalpa', 5644), ('agidhane', 5645), ('dhanush', 5646), ('meat', 5647), ('supreme', 5648), ('windy', 5649), ('08708800282', 5650), ('24th', 5651), ('headset', 5652), ('adp', 5653), ('pai', 5654), ('seh', 5655), ('09061701939', 5656), ('s89', 5657), ('logoff', 5658), ('sheffield', 5659), ('nanny', 5660), ('rats', 5661), ('themes', 5662), ('sarcastic', 5663), ('opposed', 5664), ('drunken', 5665), ('bishan', 5666), ('nearer', 5667), ('pity', 5668), ('suggestions', 5669), ('brum', 5670), ('breaker', 5671), ('deluxe', 5672), ('format', 5673), ('features', 5674), ('graphics', 5675), ('bbdeluxe', 5676), ('gota', 5677), ('someplace', 5678), ('armenia', 5679), ('swann', 5680), ('howard', 5681), ('folks', 5682), ('hillsborough', 5683), ('08006344447', 5684), ('bruv', 5685), ('rewarding', 5686), ('rajas', 5687), ('burrito', 5688), ('questioned', 5689), ('gardener', 5690), ('vegetables', 5691), ('neighbour', 5692), ('attention', 5693), ('ammae', 5694), ('steering', 5695), ('revealing', 5696), ('svc', 5697), ('hardcore', 5698), ('69988', 5699), ('general', 5700), ('styles', 5701), ('fortune', 5702), ('can\\x89û÷t', 5703), ('mising', 5704), ('83021', 5705), ('600', 5706), ('400', 5707), ('deltomorrow', 5708), ('sleepwell', 5709), ('abbey', 5710), ('09061743386', 5711), ('lacking', 5712), ('particular', 5713), (\"dramastorm's\", 5714), ('spys', 5715), ('half8th', 5716), ('teenager', 5717), (\"08452810075over18's\", 5718), (\"they'll\", 5719), ('slurp', 5720), ('miles', 5721), ('win150ppmx3age16', 5722), ('disagreeable', 5723), ('hearing', 5724), ('footie', 5725), ('phil', 5726), ('neville', 5727), ('conversations', 5728), ('senses', 5729), ('overemphasise', 5730), ('tlp', 5731), ('expressoffer', 5732), ('starving', 5733), ('cooked', 5734), ('ktv', 5735), ('lennon', 5736), ('experiencehttp', 5737), ('vouch4me', 5738), ('etlp', 5739), ('brother\\x89û÷s', 5740), ('scraped', 5741), ('barrel', 5742), ('misfits', 5743), ('jaya', 5744), ('unsubscribed', 5745), ('hunks', 5746), ('gotbabes', 5747), ('subscriptions', 5748), ('sg', 5749), ('phyhcmk', 5750), ('pc1323', 5751), ('waheed', 5752), ('k718', 5753), ('09065069120', 5754), ('boggy', 5755), ('biatch', 5756), ('fondly', 5757), ('sexychat', 5758), ('07781482378', 5759), ('exhausted', 5760), ('bari', 5761), ('hudgi', 5762), ('yorge', 5763), ('pataistha', 5764), ('ertini', 5765), ('accordin', 5766), ('nighters', 5767), ('persevered', 5768), ('perpetual', 5769), ('dd', 5770), ('ashley', 5771), ('08700469649', 5772), ('box420', 5773), ('nationwide', 5774), ('newport', 5775), ('7548', 5776), ('4041', 5777), ('piss', 5778), ('backwards', 5779), ('89105', 5780), ('grooved', 5781), ('dump', 5782), ('heap', 5783), ('lowes', 5784), ('sweetheart', 5785), ('reasons', 5786), ('biola', 5787), ('install', 5788), ('browse', 5789), ('artists', 5790), ('obedient', 5791), ('testing', 5792), ('sayy', 5793), ('millers', 5794), ('cartoon', 5795), ('gonnamissu', 5796), ('postcard', 5797), ('buttheres', 5798), ('aboutas', 5799), ('merememberin', 5800), ('asthere', 5801), ('ofsi', 5802), ('breakin', 5803), ('yaxx', 5804), ('doesn', 5805), ('conveying', 5806), ('punish', 5807), ('roles', 5808), ('outreach', 5809), ('arguing', 5810), ('fired', 5811), ('åè10', 5812), ('evey', 5813), ('skint', 5814), ('fancied', 5815), ('bevies', 5816), ('waz', 5817), ('othrs', 5818), ('spoon', 5819), ('watchng', 5820), ('planet', 5821), ('comfey', 5822), ('uworld', 5823), ('qbank', 5824), ('assessment', 5825), ('weekdays', 5826), ('nails', 5827), ('kills', 5828), ('nìâte', 5829), ('floppy', 5830), ('snappy', 5831), ('raji', 5832), ('satanic', 5833), ('imposter', 5834), ('destiny', 5835), ('88800', 5836), ('89034', 5837), ('premium', 5838), ('08718711108', 5839), ('photoshop', 5840), ('hellogorgeous', 5841), ('nitw', 5842), ('texd', 5843), ('hopeu', 5844), ('4ward', 5845), ('jaz', 5846), ('tram', 5847), ('vic', 5848), ('misbehaved', 5849), ('sitter', 5850), ('kaitlyn', 5851), ('spare', 5852), ('supplies', 5853), ('saibaba', 5854), ('colany', 5855), ('hcl', 5856), ('requires', 5857), ('freshers', 5858), ('suman', 5859), ('telephonic', 5860), ('paragon', 5861), (\"ryan's\", 5862), (\"hi'\", 5863), ('poop', 5864), ('spiritual', 5865), ('09058099801', 5866), ('b4190604', 5867), ('7876150ppm', 5868), ('opposite', 5869), ('restocked', 5870), ('restrictions', 5871), ('buddys', 5872), ('80082', 5873), ('olave', 5874), ('mandara', 5875), ('trishul', 5876), ('dao', 5877), ('x2', 5878), ('sorta', 5879), ('blown', 5880), ('bsn', 5881), ('advising', 5882), ('factory', 5883), ('nitros', 5884), (\"'its\", 5885), ('onwords', 5886), ('mtnl', 5887), ('mumbai', 5888), ('rayman', 5889), ('golf', 5890), ('activ8', 5891), ('termsapply', 5892), ('maggi', 5893), ('mee', 5894), ('embarassed', 5895), ('accomodations', 5896), ('cave', 5897), ('offered', 5898), ('embarassing', 5899), ('sao', 5900), ('genus', 5901), ('length', 5902), ('tops', 5903), ('cupboard', 5904), ('deserve', 5905), ('tight', 5906), (\"it'snot\", 5907), (\"child's\", 5908), ('unintentional', 5909), ('nonetheless', 5910), ('eggs', 5911), ('pert', 5912), ('head\\x89û', 5913), ('rules', 5914), ('bend', 5915), ('thia', 5916), ('inlude', 5917), ('previews', 5918), ('ummmmmaah', 5919), ('recorder', 5920), ('canname', 5921), ('australia', 5922), ('mquiz', 5923), ('bbq', 5924), ('6ish', 5925), ('abj', 5926), ('dine', 5927), ('silver', 5928), ('noooooooo', 5929), ('edison', 5930), ('rightly', 5931), ('viva', 5932), ('woulda', 5933), ('slp', 5934), ('muah', 5935), ('objection', 5936), ('shanghai', 5937), ('cya', 5938), ('dear1', 5939), ('best1', 5940), ('clos1', 5941), ('lvblefrnd', 5942), ('jstfrnd', 5943), ('cutefrnd', 5944), ('lifpartnr', 5945), ('swtheart', 5946), ('bstfrnd', 5947), ('les', 5948), ('rudi', 5949), ('snoring', 5950), ('drunk', 5951), ('ink', 5952), ('excited', 5953), ('europe', 5954), ('087104711148', 5955), ('prasad', 5956), ('mys', 5957), ('gifts', 5958), ('cliff', 5959), ('yalrigu', 5960), ('heltini', 5961), ('iyo', 5962), ('shared', 5963), ('uttered', 5964), ('trusting', 5965), ('consensus', 5966), ('sabarish', 5967), (\"armand's\", 5968), ('appeal', 5969), ('thriller', 5970), ('director', 5971), ('pocked', 5972), ('otside', 5973), ('trash', 5974), ('textcomp', 5975), ('follows', 5976), ('subsequent', 5977), ('luton', 5978), ('0125698789', 5979), ('evr', 5980), ('shola', 5981), ('medicine', 5982), ('department', 5983), ('sagamu', 5984), ('lautech', 5985), ('vital', 5986), ('completes', 5987), ('education', 5988), ('zealand', 5989), ('dedicated', 5990), ('dedicate', 5991), ('ericsson', 5992), ('dats', 5993), ('dogg', 5994), ('btwn', 5995), ('vry', 5996), ('roomate', 5997), ('graduated', 5998), ('smsing', 5999), ('openings', 6000), ('thanksgiving', 6001), ('upcharge', 6002), ('wright', 6003), ('teacher', 6004), ('arr', 6005), ('oscar', 6006), ('beach', 6007), ('expected', 6008), ('significant', 6009), ('dying', 6010), ('fifth', 6011), ('woozles', 6012), ('weasels', 6013), ('nearly', 6014), ('jez', 6015), ('todo', 6016), ('workand', 6017), ('whilltake', 6018), ('convince', 6019), ('witot', 6020), ('main', 6021), (\"weren't\", 6022), ('kidding', 6023), ('kaila', 6024), ('jog', 6025), ('ola', 6026), ('reliant', 6027), ('rgent', 6028), ('incomm', 6029), ('bruce', 6030), ('fowler', 6031), ('blanked', 6032), (\"something's\", 6033), ('asa', 6034), ('reassurance', 6035), ('liquor', 6036), ('loko', 6037), ('4qf2', 6038), ('honeymoon', 6039), ('outfit', 6040), ('heat', 6041), ('applyed', 6042), ('lays', 6043), ('12mths', 6044), ('400mins', 6045), ('j5q', 6046), ('uncomfortable', 6047), ('twins', 6048), ('rubber', 6049), ('invaders', 6050), ('orig', 6051), ('console', 6052), ('huiming', 6053), ('finishd', 6054), ('01223585334', 6055), ('2c', 6056), ('shagged', 6057), ('2end', 6058), ('virgins', 6059), ('sexual', 6060), ('theirs', 6061), ('69911', 6062), ('lingerie', 6063), ('bridal', 6064), ('petticoatdreams', 6065), ('weddingfriend', 6066), ('flew', 6067), ('smarter', 6068), ('tix', 6069), ('mapquest', 6070), ('dogwood', 6071), ('prakesh', 6072), (\"x'mas\", 6073), ('thx', 6074), ('perform', 6075), ('85222', 6076), ('winnersclub', 6077), ('84', 6078), ('gbp1', 6079), ('liver', 6080), ('totes', 6081), ('babyjontet', 6082), ('torrents', 6083), ('particularly', 6084), ('slowing', 6085), ('outsider', 6086), ('successful', 6087), ('marvel', 6088), ('ultimate', 6089), ('83338', 6090), ('8ball', 6091), ('08712402578', 6092), ('3lions', 6093), ('09058094583', 6094), ('adi', 6095), ('entey', 6096), ('nattil', 6097), ('kittum', 6098), ('providing', 6099), ('assistance', 6100), ('applausestore', 6101), ('monthlysubscription', 6102), ('max6', 6103), ('csc', 6104), ('accidant', 6105), ('tookplace', 6106), ('ghodbandar', 6107), ('moves', 6108), ('slovely', 6109), ('snake', 6110), ('raiden', 6111), ('losers', 6112), ('shiny', 6113), ('warming', 6114), ('constant', 6115), ('conform', 6116), ('yummmm', 6117), ('commit', 6118), ('musthu', 6119), ('league', 6120), ('gayle', 6121), ('synced', 6122), ('shangela', 6123), ('ignorant', 6124), ('spreadsheet', 6125), ('whose', 6126), ('determine', 6127), ('entire', 6128), ('onam', 6129), ('sirji', 6130), ('tata', 6131), ('aig', 6132), ('fightng', 6133), ('dificult', 6134), ('6times', 6135), ('luvs', 6136), ('praying', 6137), ('09058097218', 6138), ('items', 6139), ('7cfca1a', 6140), ('2stoptx', 6141), ('lastest', 6142), ('stereophonics', 6143), ('marley', 6144), ('dizzee', 6145), ('racal', 6146), ('libertines', 6147), ('strokes', 6148), ('nookii', 6149), ('bookmark', 6150), ('motivate', 6151), ('darkness', 6152), ('mountain', 6153), ('deer', 6154), ('lit', 6155), ('soc', 6156), (\"yetty's\", 6157), ('goggles', 6158), ('module', 6159), ('humanities', 6160), ('sem', 6161), ('t91', 6162), ('09057039994', 6163), ('footbl', 6164), ('crckt', 6165), ('betta', 6166), ('anti', 6167), ('aging', 6168), ('products', 6169), ('younger', 6170), ('babies', 6171), ('nevr', 6172), ('unrecognized', 6173), ('somone', 6174), ('mistakes', 6175), ('valuing', 6176), ('definitly', 6177), ('undrstnd', 6178), ('howda', 6179), ('mathe', 6180), ('en', 6181), ('samachara', 6182), ('yck', 6183), ('0870737910216yrs', 6184), ('corect', 6185), ('speling', 6186), ('recycling', 6187), ('earning', 6188), ('epsilon', 6189), ('44', 6190), ('7732584351', 6191), ('tke', 6192), ('mmmmm', 6193), ('doesnåõt', 6194), ('09066350750', 6195), ('tessy', 6196), ('favor', 6197), ('shijas', 6198), ('fried', 6199), ('spares', 6200), ('looovvve', 6201), ('dramatic', 6202), (\"'wnevr\", 6203), ('fal', 6204), ('fals', 6205), ('yen', 6206), ('madodu', 6207), ('nav', 6208), ('pretsorginta', 6209), ('nammanna', 6210), ('pretsovru', 6211), ('alwa', 6212), ('eveb', 6213), ('barbie', 6214), (\"ken's\", 6215), ('greatness', 6216), ('jade', 6217), ('paul', 6218), ('barmed', 6219), ('pee', 6220), ('stars', 6221), ('hesitate', 6222), ('weakness', 6223), ('notebook', 6224), ('dang', 6225), ('achan', 6226), ('amma', 6227), ('09061790121', 6228), ('squatting', 6229), ('prestige', 6230), ('tease', 6231), ('devouring', 6232), ('billion', 6233), ('seeking', 6234), ('vomitin', 6235), ('gimmi', 6236), ('goss', 6237), ('telugu', 6238), ('kegger', 6239), ('companion', 6240), ('chef', 6241), ('listener', 6242), ('organizer', 6243), ('sympathetic', 6244), ('athletic', 6245), ('courageous', 6246), ('determined', 6247), ('dependable', 6248), ('psychologist', 6249), ('pest', 6250), ('exterminator', 6251), ('psychiatrist', 6252), ('healer', 6253), ('stylist', 6254), ('aaniye', 6255), ('pudunga', 6256), ('venaam', 6257), ('monkey', 6258), ('asshole', 6259), ('mila', 6260), ('age23', 6261), ('blonde', 6262), ('mtalk', 6263), ('69866', 6264), ('30pp', 6265), ('5free', 6266), ('increments', 6267), ('help08718728876', 6268), ('control', 6269), ('gut', 6270), ('wrenching', 6271), ('agree', 6272), ('sentiment', 6273), ('rowdy', 6274), ('attitude', 6275), ('shy', 6276), ('attractive', 6277), ('clarification', 6278), ('yah', 6279), ('hhahhaahahah', 6280), ('nig', 6281), ('leonardo', 6282), ('problematic', 6283), ('bold2', 6284), ('stone', 6285), ('stripes', 6286), ('skirt', 6287), ('chk', 6288), ('dict', 6289), ('steam', 6290), ('knocking', 6291), ('olol', 6292), ('3230', 6293), ('textbook', 6294), ('algorithms', 6295), ('edition', 6296), ('ridden', 6297), ('ga', 6298), ('neft', 6299), ('beneficiary', 6300), ('youdoing', 6301), (\"idea's\", 6302), ('anyplaces', 6303), ('tonexs', 6304), ('renewed', 6305), ('clubzed', 6306), ('billing', 6307), ('ditto', 6308), ('bangbabes', 6309), ('bangb', 6310), ('menu', 6311), ('shouting', 6312), ('hep', 6313), ('immunisation', 6314), ('grownup', 6315), ('directors', 6316), ('lac', 6317), ('deposited', 6318), (\"'taxless'\", 6319), ('lane', 6320), ('suply', 6321), ('projects', 6322), ('imf', 6323), ('blocked', 6324), ('corrupt', 6325), ('itna', 6326), ('karo', 6327), ('ki', 6328), ('pura', 6329), ('padhe', 6330), ('posh', 6331), ('chaps', 6332), ('trial', 6333), ('prods', 6334), ('champneys', 6335), ('dob', 6336), ('snap', 6337), ('quizclub', 6338), ('80122300p', 6339), ('rwm', 6340), ('08704050406', 6341), ('09061104283', 6342), ('50pm', 6343), ('62220cncl', 6344), ('stopcs', 6345), ('08717890890å£1', 6346), ('07753741225', 6347), ('08715203677', 6348), ('42478', 6349), ('complementary', 6350), ('wa14', 6351), ('2px', 6352), ('tirunelvai', 6353), ('cutie', 6354), ('hills', 6355), ('cedar', 6356), ('okies', 6357), ('missy', 6358), ('dracula', 6359), ('ghost', 6360), ('addamsfa', 6361), ('munsters', 6362), ('exorcist', 6363), ('twilight', 6364), ('pobox36504w45wq', 6365), ('resend', 6366), (\"zaher's\", 6367), ('shitload', 6368), ('audrie', 6369), ('autocorrect', 6370), ('operate', 6371), ('gnarls', 6372), ('barkleys', 6373), ('prescribed', 6374), ('wasnt', 6375), ('accommodation', 6376), ('global', 6377), ('phb1', 6378), ('08700435505150p', 6379), ('atleast', 6380), ('shakespeare', 6381), ('patty', 6382), ('haul', 6383), ('continent', 6384), ('risk', 6385), ('fudge', 6386), ('oreos', 6387), ('retard', 6388), ('okday', 6389), ('61200', 6390), ('packs', 6391), ('itcould', 6392), ('sculpture', 6393), ('lighters', 6394), ('7250', 6395), ('cheat', 6396), ('fatty', 6397), ('msgrcvd', 6398), ('customercare', 6399), ('tai', 6400), ('feng', 6401), ('reservations', 6402), ('shadow', 6403), ('flying', 6404), ('slippers', 6405), ('wahleykkum', 6406), ('inshah', 6407), ('visitor', 6408), ('appy', 6409), ('fizz', 6410), ('contains', 6411), (\"when're\", 6412), ('mcr', 6413), ('cab', 6414), ('steps', 6415), ('walsall', 6416), ('tue', 6417), ('terry', 6418), ('0a', 6419), ('companies', 6420), ('responsible', 6421), ('suppliers', 6422), ('phony', 6423), ('corporation', 6424), ('bot', 6425), ('notes', 6426), ('hero', 6427), ('apt', 6428), ('genuine', 6429), ('100percent', 6430), ('powerful', 6431), ('weapon', 6432), ('occupy', 6433), (\"'heart'\", 6434), ('parachute', 6435), ('yavnt', 6436), ('dudette', 6437), ('butting', 6438), ('vs', 6439), ('summers', 6440), ('matched', 6441), ('help08714742804', 6442), ('yeovil', 6443), ('motor', 6444), ('max', 6445), ('08709222922', 6446), ('8p', 6447), ('peak', 6448), ('durham', 6449), ('reserved', 6450), ('fireplace', 6451), ('icon', 6452), ('stereo', 6453), ('mi', 6454), ('unknown', 6455), ('kindly', 6456), ('documents', 6457), ('submitted', 6458), ('stapati', 6459), (\"dealer's\", 6460), ('grown', 6461), ('wavering', 6462), ('coping', 6463), ('heal', 6464), ('9996', 6465), ('14thmarch', 6466), ('availa', 6467), ('payed', 6468), ('suganya', 6469), ('reunion', 6470), ('saeed', 6471), ('wishlist', 6472), ('section', 6473), ('forums', 6474), ('nitro', 6475), ('07090298926', 6476), ('9307622', 6477), ('lap', 6478), (\"ny's\", 6479), ('dr', 6480), ('onluy', 6481), ('matters', 6482), ('offcampus', 6483), ('elama', 6484), ('mudyadhu', 6485), ('barred', 6486), ('twat', 6487), ('dungerees', 6488), ('decking', 6489), ('punch', 6490), ('nannys', 6491), ('weaknesses', 6492), (\"knee's\", 6493), ('exposes', 6494), ('pulls', 6495), ('wicked', 6496), ('swell', 6497), ('yoyyooo', 6498), ('permissions', 6499), ('misscall', 6500), ('frndz', 6501), ('6missed', 6502), ('warwick', 6503), ('tmw', 6504), ('canceled', 6505), (\"havn't\", 6506), ('cheesy', 6507), ('frosty', 6508), ('snowman', 6509), ('dom', 6510), ('pouch', 6511), ('underwear', 6512), ('nte', 6513), ('lanre', 6514), (\"fakeye's\", 6515), ('eckankar', 6516), ('hire', 6517), ('hitman', 6518), ('hack', 6519), ('backdoor', 6520), ('fraction', 6521), ('neo69', 6522), ('09050280520', 6523), ('subscribe', 6524), ('dps', 6525), ('bcm', 6526), ('8027', 6527), ('reverse', 6528), ('cheating', 6529), ('mathematics', 6530), ('habba', 6531), ('noncomittal', 6532), ('handsome', 6533), ('finding', 6534), ('mention', 6535), ('served', 6536), ('nearby', 6537), ('cliffs', 6538), ('weighed', 6539), ('woohoo', 6540), (\"account's\", 6541), ('purple', 6542), ('yelow', 6543), ('wnt', 6544), ('brown', 6545), ('color', 6546), ('wisheds', 6547), ('scarcasim', 6548), ('09050001295', 6549), ('a21', 6550), ('doke', 6551), ('laying', 6552), ('foward', 6553), ('hides', 6554), ('secrets', 6555), ('n8', 6556), ('gate', 6557), ('twinks', 6558), ('scallies', 6559), ('skins', 6560), ('jocks', 6561), (\"weekend's\", 6562), ('08712466669', 6563), ('crickiting', 6564), ('3miles', 6565), (\"gumby's\", 6566), (\"alex's\", 6567), ('diesel', 6568), ('sumfing', 6569), ('09061749602', 6570), ('528', 6571), ('hp20', 6572), ('1yf', 6573), ('alternative', 6574), (\"term's\", 6575), ('prediction', 6576), ('hypertension', 6577), ('945', 6578), ('gimme', 6579), ('caveboy', 6580), ('escalator', 6581), ('somewhr', 6582), ('crushes', 6583), ('annie', 6584), ('owe', 6585), ('32000', 6586), ('legitimat', 6587), ('efreefone', 6588), ('initiate', 6589), ('2nights', 6590), ('uve', 6591), ('wildest', 6592), ('ball', 6593), ('spin', 6594), ('bat', 6595), ('loooooool', 6596), ('couch', 6597), ('rents', 6598), ('irritation', 6599), ('channel', 6600), ('hunting', 6601), ('pours', 6602), ('breather', 6603), ('granted', 6604), ('fulfil', 6605), ('plate', 6606), ('leftovers', 6607), ('downon', 6608), ('theacusations', 6609), ('itxt', 6610), ('iwana', 6611), ('wotu', 6612), ('thew', 6613), ('haventcn', 6614), ('nething', 6615), ('surname', 6616), ('clue', 6617), ('begins', 6618), ('christ', 6619), ('plumbers', 6620), ('tape', 6621), ('wrench', 6622), ('nigro', 6623), ('08718726970', 6624), ('ducking', 6625), ('chinchillas', 6626), ('student', 6627), ('dearer', 6628), ('dem', 6629), ('09066364589', 6630), ('free2day', 6631), (\"george's\", 6632), ('89080', 6633), ('saucy', 6634), ('0870241182716', 6635), ('adding', 6636), ('zeros', 6637), ('savings', 6638), ('sales', 6639), ('shifad', 6640), ('raised', 6641), ('tank', 6642), ('pocy', 6643), ('nosh', 6644), ('fundamentals', 6645), ('duchess', 6646), ('008704050406', 6647), ('smash', 6648), ('bros', 6649), ('religiously', 6650), ('88066', 6651), ('å£12', 6652), ('lips', 6653), ('antibiotic', 6654), ('chest', 6655), ('abdomen', 6656), ('gynae', 6657), ('manual', 6658), ('reset', 6659), ('troubleshooting', 6660), ('hostile', 6661), ('remembrs', 6662), ('everytime', 6663), ('erutupalam', 6664), ('thandiyachu', 6665), ('thet', 6666), ('skinny', 6667), ('casting', 6668), ('remain', 6669), ('maintain', 6670), ('sh', 6671), ('jas', 6672), ('yuou', 6673), ('spot', 6674), ('african', 6675), ('soil', 6676), ('invitation', 6677), ('cali', 6678), (\"bloke's\", 6679), ('weddin', 6680), ('casualty', 6681), ('stuff42moro', 6682), ('includes', 6683), ('swimming', 6684), ('pool', 6685), ('jacuzzi', 6686), ('30th', 6687), ('areyouunique', 6688), ('bw', 6689), ('function', 6690), ('447801259231', 6691), ('09058094597', 6692), ('cheyyamo', 6693), ('onbus', 6694), ('donyt', 6695), ('latelyxxx', 6696), ('pract', 6697), ('flung', 6698), ('dealer', 6699), ('lunsford', 6700), ('08701417012150p', 6701), ('fans', 6702), ('0870141701216', 6703), ('120p', 6704), ('panren', 6705), ('paru', 6706), ('dorothy', 6707), ('kiefer', 6708), ('guild', 6709), ('fox', 6710), ('frndsship', 6711), ('dwn', 6712), ('wkg', 6713), ('sc', 6714), ('specialise', 6715), ('wad', 6716), ('split', 6717), ('express', 6718), ('seperated', 6719), ('\\x8eö´\\x89ó', 6720), ('\\x8bû¬ud', 6721), ('jod', 6722), ('keris', 6723), ('smidgin', 6724), ('engalnd', 6725), ('mia', 6726), ('elliot', 6727), ('kissing', 6728), ('optimistic', 6729), ('pookie', 6730), ('keyword', 6731), ('50s', 6732), ('alot', 6733), ('07808', 6734), ('xxxxxx', 6735), ('08719899217', 6736), ('thout', 6737), ('html', 6738), ('gbp4', 6739), ('mfl', 6740), ('stubborn', 6741), ('sucker', 6742), ('suckers', 6743), ('repairs', 6744), ('followin', 6745), ('lim', 6746), ('antha', 6747), ('corrct', 6748), ('dane', 6749), ('jabo', 6750), ('hangin', 6751), ('makin', 6752), ('jeremiah', 6753), ('owl', 6754), ('08715500022', 6755), ('rpl', 6756), ('cnl', 6757), ('cmon', 6758), ('replies', 6759), ('nose', 6760), ('essay', 6761), ('cooped', 6762), ('rushing', 6763), ('gong', 6764), ('kaypoh', 6765), ('turning', 6766), ('elephant', 6767), ('shove', 6768), ('um', 6769), ('chick', 6770), ('huge', 6771), ('boobs', 6772), ('flirtparty', 6773), ('replys150', 6774), ('aeronautics', 6775), ('professors', 6776), ('calld', 6777), ('aeroplane', 6778), ('ws', 6779), ('hurried', 6780), ('priest', 6781), ('gailxx', 6782), ('ovulate', 6783), ('3wks', 6784), ('volcanoes', 6785), ('erupt', 6786), ('tsunamis', 6787), ('arise', 6788), ('hurricanes', 6789), ('sway', 6790), ('aroundn', 6791), ('disasters', 6792), ('nok', 6793), ('missions', 6794), ('wonders', 6795), ('7th', 6796), ('6th', 6797), ('5th', 6798), ('personality', 6799), ('3rd', 6800), ('nature', 6801), ('brighten', 6802), ('08714712412', 6803), ('burger', 6804), ('fredericksburg', 6805), ('friendships', 6806), ('accessible', 6807), ('08709501522', 6808), ('139', 6809), ('la3', 6810), ('2wu', 6811), ('collected', 6812), ('85069', 6813), ('usher', 6814), ('britney', 6815), ('canåõt', 6816), ('isnåõt', 6817), ('shite', 6818), ('kip', 6819), ('tau', 6820), ('piah', 6821), ('secretly', 6822), ('09065394514', 6823), ('datebox1282essexcm61xn', 6824), ('r836', 6825), ('09065069154', 6826), ('adjustable', 6827), ('cooperative', 6828), ('allows', 6829), ('420', 6830), ('resubbing', 6831), ('ashwini', 6832), ('cards', 6833), ('tmrw', 6834), ('07815296484', 6835), ('41782', 6836), ('splash', 6837), ('mobsi', 6838), ('391784', 6839), ('apes', 6840), ('fight', 6841), ('apples', 6842), ('pairs', 6843), ('malarky', 6844), ('iåõd', 6845), ('algarve', 6846), ('ansr', 6847), ('tyrone', 6848), ('wtlp', 6849), ('qjkgighjjgcbl', 6850), (\"s'fine\", 6851), (\"we'd\", 6852), ('curry', 6853), ('83435', 6854), ('ger', 6855), ('toking', 6856), ('syd', 6857), ('cartons', 6858), ('shelves', 6859), ('leg', 6860), ('musta', 6861), ('overdid', 6862), ('zhong', 6863), ('qing', 6864), ('act', 6865), ('å£79', 6866), ('08704439680ts', 6867), ('fellow', 6868), ('077xxx', 6869), ('09066362206', 6870), (\"mine's\", 6871), ('level', 6872), ('087018728737', 6873), ('toppoly', 6874), ('tune', 6875), ('describe', 6876), ('significance', 6877), ('woo', 6878), ('hoo', 6879), ('field', 6880), ('whens', 6881), ('chad', 6882), ('gymnastics', 6883), ('christians', 6884), (\"dip's\", 6885), ('0089', 6886), ('digits', 6887), ('09063442151', 6888), ('completed', 6889), ('730', 6890), ('breathing', 6891), ('risks', 6892), ('lord', 6893), ('rings', 6894), ('soundtrack', 6895), ('stdtxtrate', 6896), ('08715203694', 6897), ('40533', 6898), ('ciao', 6899), ('enjoying', 6900), ('terror', 6901), ('cruel', 6902), ('decent', 6903), ('joker', 6904), ('selflessness', 6905), ('inconvenient', 6906), (\"all's\", 6907), ('hasbro', 6908), ('jump', 6909), ('hoops', 6910), ('jokin', 6911), ('detailed', 6912), ('shortcode', 6913), ('83332', 6914), ('08081263000', 6915), ('refunded', 6916), ('idew', 6917), ('hos', 6918), ('1apple', 6919), ('1tulsi', 6920), ('leaf', 6921), ('1lemon', 6922), ('1cup', 6923), ('problms', 6924), ('litres', 6925), ('watr', 6926), ('diseases', 6927), ('snd', 6928), ('ths', 6929), ('eachother', 6930), ('jada', 6931), ('kusruthi', 6932), ('matured', 6933), ('varunnathu', 6934), ('edukkukayee', 6935), ('raksha', 6936), ('ollu', 6937), ('upgrdcentre', 6938), ('9153', 6939), ('badrith', 6940), ('text82228', 6941), ('noisy', 6942), ('nachos', 6943), ('08702490080', 6944), ('toughest', 6945), (\"that'd\", 6946), ('scenario', 6947), ('mathews', 6948), ('tait', 6949), ('edwards', 6950), ('anderson', 6951), ('078', 6952), ('shun', 6953), ('bian', 6954), ('glass', 6955), ('exhibition', 6956), ('hustle', 6957), ('forth', 6958), ('harlem', 6959), ('tbs', 6960), ('persolvo', 6961), ('chasing', 6962), ('forå£38', 6963), ('kath', 6964), ('manchester', 6965), (\"hubby's\", 6966), ('89938', 6967), ('strings', 6968), ('50ea', 6969), ('otbox', 6970), ('731', 6971), ('la1', 6972), ('7ws', 6973), ('nuerologist', 6974), ('rhode', 6975), ('bong', 6976), ('087016248', 6977), ('exorcism', 6978), ('emily', 6979), ('bowls', 6980), ('september', 6981), ('derp', 6982), ('abusers', 6983), ('jap', 6984), ('jerk', 6985), ('hooch', 6986), ('toaday', 6987), ('splat', 6988), ('grazed', 6989), ('knees', 6990), ('gaze', 6991), ('webpage', 6992), ('edge', 6993), ('underdtand', 6994), ('drivby', 6995), ('0quit', 6996), ('edrunk', 6997), ('iff', 6998), ('pthis', 6999), ('senrd', 7000), ('dnot', 7001), ('dancce', 7002), ('drum', 7003), ('basq', 7004), ('ihave', 7005), ('2nhite', 7006), ('ros', 7007), ('xxxxxxx', 7008), ('honesty', 7009), ('stuffs', 7010), ('grinder', 7011), ('wewa', 7012), ('130', 7013), ('iriver', 7014), ('255', 7015), ('128', 7016), ('å£750', 7017), ('087187272008', 7018), ('now1', 7019), ('helloooo', 7020), ('welcomes', 7021), ('9755', 7022), ('doinat', 7023), ('natalie', 7024), ('natalie2k9', 7025), ('ouch', 7026), ('nightnight', 7027), ('farting', 7028), ('silence', 7029), ('å£s', 7030), ('orno', 7031), ('soooo', 7032), ('provider', 7033), ('tming', 7034), ('humans', 7035), ('tightly', 7036), ('unfortunately', 7037), ('owned', 7038), ('possessive', 7039), ('bookedthe', 7040), ('hut', 7041), ('wall', 7042), ('reache', 7043), ('tiime', 7044), ('tears', 7045), ('sooo', 7046), ('galileo', 7047), ('dobby', 7048), ('spice', 7049), ('rahul', 7050), ('dengra', 7051), ('140', 7052), ('ìä', 7053), ('180', 7054), ('4goten', 7055), ('scammers', 7056), ('prem', 7057), ('waheeda', 7058), ('bread', 7059), ('desparate', 7060), ('recorded', 7061), ('pleasant', 7062), ('statements', 7063), ('liverpool', 7064), ('yards', 7065), ('bergkamp', 7066), ('margin', 7067), ('78', 7068), ('09050000460', 7069), ('j89', 7070), ('box245c2150pm', 7071), ('signing', 7072), ('payasam', 7073), ('rinu', 7074), ('depression', 7075), ('stagwood', 7076), ('winterstone', 7077), ('victors', 7078), (\"fuck's\", 7079), ('tallahassee', 7080), ('2years', 7081), ('strain', 7082), ('uniform', 7083), ('sparkling', 7084), ('breaks', 7085), ('45', 7086), ('0121', 7087), ('2025050', 7088), ('shortbreaks', 7089), ('org', 7090), ('posible', 7091), ('century', 7092), ('frwd', 7093), ('disappeared', 7094), ('wahala', 7095), ('mentor', 7096), ('percent', 7097), ('helens', 7098), ('princes', 7099), ('prince', 7100), ('charming', 7101), ('tok', 7102), ('uncountable', 7103), ('noun', 7104), ('dictionary', 7105), ('singapore', 7106), ('compensation', 7107), ('fights', 7108), ('nowhere', 7109), ('ikno', 7110), ('doesdiscount', 7111), ('shitinnit', 7112), ('08712400200', 7113), ('gran', 7114), ('onlyfound', 7115), ('afew', 7116), ('cusoon', 7117), ('honi', 7118), (\"table's\", 7119), ('occupied', 7120), ('honestly', 7121), ('promptly', 7122), ('burnt', 7123), ('wrks', 7124), ('0825', 7125), ('slaaaaave', 7126), ('summon', 7127), ('christmassy', 7128), ('unmits', 7129), ('grandmas', 7130), ('hungover', 7131), ('ams', 7132), ('kit', 7133), ('strip', 7134), ('1013', 7135), ('ig11', 7136), ('oja', 7137), (\"carlos'll\", 7138), ('forfeit', 7139), (\"xin's\", 7140), ('starve', 7141), ('attending', 7142), ('talks', 7143), ('das', 7144), ('iknow', 7145), ('wellda', 7146), ('peril', 7147), ('studentfinancial', 7148), ('hubby', 7149), ('fiting', 7150), ('load', 7151), ('mj', 7152), ('bawling', 7153), ('failure', 7154), ('failing', 7155), ('ummifying', 7156), ('0871277810810', 7157), ('hmv1', 7158), ('prabha', 7159), ('soryda', 7160), ('sory', 7161), ('09058094594', 7162), (\"prashanthettan's\", 7163), ('buttons', 7164), ('jos', 7165), ('hottest', 7166), ('g696ga', 7167), (\"cali's\", 7168), ('complexities', 7169), ('freely', 7170), ('taxes', 7171), ('outrageous', 7172), ('cereals', 7173), ('gari', 7174), ('smell', 7175), ('tobacco', 7176), ('ryan', 7177), ('withdraw', 7178), ('anyhow', 7179), ('09066364349', 7180), ('box434sk38wp150ppm18', 7181), ('fixes', 7182), ('spelling', 7183), ('mth', 7184), (\"dobby's\", 7185), ('ritten', 7186), ('fold', 7187), ('laundry', 7188), ('showered', 7189), (\"er'ything\", 7190), ('09099725823', 7191), ('cashto', 7192), ('08000407165', 7193), ('getstop', 7194), ('88222', 7195), ('php', 7196), ('rg21', 7197), ('4jx', 7198), ('newspapers', 7199), ('soz', 7200), ('imat', 7201), ('mums', 7202), ('salad', 7203), ('beers', 7204), ('waaaat', 7205), ('lololo', 7206), ('chuckin', 7207), ('trainners', 7208), ('carryin', 7209), ('bac', 7210), ('receipts\\x89ûówell', 7211), ('what\\x89û÷s', 7212), (\"i'ma\", 7213), ('matthew', 7214), ('09063440451', 7215), ('ppm150', 7216), ('box334', 7217), ('epi', 7218), ('natwest', 7219), ('sometme', 7220), ('5k', 7221), ('09064011000', 7222), ('cr01327bt', 7223), ('fixedline', 7224), ('steyn', 7225), ('wicket', 7226), ('passion', 7227), ('09099726481', 7228), ('dena', 7229), ('minmobsmorelkpobox177hp51fl', 7230), ('chachi', 7231), ('pl', 7232), ('tiz', 7233), ('kanagu', 7234), ('grinule', 7235), ('slob', 7236), ('becz', 7237), ('undrstndng', 7238), ('avoids', 7239), ('suffer', 7240), ('whn', 7241), ('keeps', 7242), ('desparately', 7243), ('07808247860', 7244), ('08719899229', 7245), ('40411', 7246), ('haiyoh', 7247), ('million', 7248), ('anal', 7249), (\"'hex'\", 7250), ('explain', 7251), ('cheery', 7252), ('alto18', 7253), ('44345', 7254), ('offense', 7255), ('zogtorius', 7256), ('iåõve', 7257), ('deciding', 7258), ('lodge', 7259), ('grumble', 7260), ('broken', 7261), ('infront', 7262), ('pears', 7263), ('murali', 7264), ('strips', 7265), ('postal', 7266), ('leo', 7267), ('timin', 7268), ('apology', 7269), ('li', 7270), ('lecturer', 7271), ('repeating', 7272), ('stink', 7273), ('annoyin', 7274), ('outbid', 7275), ('simonwatson5120', 7276), ('shinco', 7277), ('plyr', 7278), ('smsrewards', 7279), ('notifications', 7280), ('draws', 7281), ('steak', 7282), ('28th', 7283), ('removal', 7284), ('08708034412', 7285), ('l8', 7286), ('gon', 7287), ('figures', 7288), ('burgundy', 7289), ('captaining', 7290), ('greece', 7291), ('subs', 7292), ('wrk', 7293), ('foned', 7294), ('chuck', 7295), ('resent', 7296), ('queries', 7297), ('customersqueries', 7298), ('netvision', 7299), ('shitstorm', 7300), ('attributed', 7301), ('robs', 7302), ('avenge', 7303), ('lancaster', 7304), ('neway', 7305), ('couldnåõt', 7306), ('trek', 7307), ('rstm', 7308), ('sw7', 7309), ('3ss', 7310), ('wenever', 7311), ('va', 7312), ('å£75', 7313), ('homeowners', 7314), ('previously', 7315), ('1956669', 7316), ('icic', 7317), ('fainting', 7318), ('housework', 7319), ('cuppa', 7320), ('firmware', 7321), ('tonights', 7322), ('hearts', 7323), ('goodnoon', 7324), ('passport', 7325), ('snowboarding', 7326), ('affair', 7327), ('uploaded', 7328), ('holby', 7329), ('chastity', 7330), ('device', 7331), ('beatings', 7332), ('lolnice', 7333), ('non', 7334), ('workout', 7335), ('fats', 7336), ('sporadically', 7337), ('chillaxin', 7338), ('ubandu', 7339), ('disk', 7340), ('peach', 7341), ('tasts', 7342), ('japanese', 7343), ('proverb', 7344), ('gravel', 7345), (\"roommate's\", 7346), ('get4an18th', 7347), ('cherthala', 7348), ('bfore', 7349), ('tmorow', 7350), ('engaged', 7351), ('varaya', 7352), ('elaya', 7353), ('balls', 7354), ('tarpon', 7355), ('springs', 7356), ('teresa', 7357), ('dec', 7358), (\"you'ld\", 7359), ('bam', 7360), ('aid', 7361), ('usmle', 7362), ('hu', 7363), ('navigate', 7364), ('choosing', 7365), ('require', 7366), ('guidance', 7367), ('brin', 7368), ('properly', 7369), ('sheet', 7370), ('transfr', 7371), ('amt', 7372), ('09066358361', 7373), ('y87', 7374), ('8000930705', 7375), ('occurs', 7376), ('elvis', 7377), ('presleys', 7378), ('eurodisinc', 7379), ('trav', 7380), ('aco', 7381), ('entry41', 7382), ('morefrmmob', 7383), ('shracomorsglsuplt', 7384), ('ls1', 7385), ('3aj', 7386), ('connections', 7387), ('uses', 7388), ('champ', 7389), ('glasgow', 7390), ('actor', 7391), ('we\\x89û÷ll', 7392), ('08712101358', 7393), ('chief', 7394), ('print', 7395), ('marandratha', 7396), ('okors', 7397), ('cherish', 7398), ('mojibiola', 7399), ('quiet', 7400), ('beth', 7401), ('charlie', 7402), ('buyer', 7403), ('wining', 7404), ('946', 7405), ('mouse', 7406), ('desk', 7407), (\"priscilla's\", 7408), ('puts', 7409), ('perspective', 7410), ('smokin', 7411), ('nike', 7412), ('immed', 7413), ('aluable', 7414), ('ffectionate', 7415), ('oveable', 7416), ('ternal', 7417), ('oble', 7418), ('ruthful', 7419), ('ntimate', 7420), ('atural', 7421), ('namous', 7422), ('meaningful', 7423), ('compromised', 7424), ('boyf', 7425), ('interviw', 7426), ('09058094454', 7427), ('09071517866', 7428), ('150ppmpobox10183bhamb64xe', 7429), ('performance', 7430), ('calculated', 7431), ('superior', 7432), ('steal', 7433), ('cantdo', 7434), ('anythingtomorrow', 7435), ('myparents', 7436), ('aretaking', 7437), ('outfor', 7438), ('katexxx', 7439), ('absolutely', 7440), ('balloon', 7441), (\"aunty's\", 7442), ('nottingham', 7443), ('63miles', 7444), ('40mph', 7445), ('meg', 7446), ('hmph', 7447), ('baller', 7448), ('tmorrow', 7449), ('accomodate', 7450), ('02072069400', 7451), ('bx', 7452), ('526', 7453), (\"'rencontre'\", 7454), ('mountains', 7455), ('swollen', 7456), ('glands', 7457), ('craving', 7458), ('digi', 7459), ('coupla', 7460), ('joanna', 7461), ('freaking', 7462), ('myspace', 7463), ('logged', 7464), ('arithmetic', 7465), ('percentages', 7466), ('downstem', 7467), ('such', 7468), ('oooooh', 7469), ('invention', 7470), ('data', 7471), ('analysis', 7472), ('audiitions', 7473), ('relocate', 7474), ('dent', 7475), ('conference', 7476), ('skateboarding', 7477), ('thrown', 7478), ('winds', 7479), ('bandages', 7480), ('09066368470', 7481), ('09066368753', 7482), ('97n7qp', 7483), ('txtstar', 7484), ('08707500020', 7485), (\"wherre's\", 7486), ('mandan', 7487), (\"derek's\", 7488), ('jot', 7489), ('wan2', 7490), ('westlife', 7491), ('m8', 7492), ('unbreakable', 7493), ('untamed', 7494), ('unkempt', 7495), ('83049', 7496), ('guesses', 7497), ('attach', 7498), ('rearrange', 7499), ('dormitory', 7500), ('astronomer', 7501), ('starer', 7502), ('election', 7503), ('recount', 7504), ('hitler', 7505), ('eleven', 7506), ('slippery', 7507), ('reaction', 7508), ('wasnåõt', 7509), ('spouse', 7510), ('pmt', 7511), ('4give', 7512), ('shldxxxx', 7513), ('harder', 7514), ('nbme', 7515), ('thankyou', 7516), ('grocers', 7517), ('82324', 7518), ('captain', 7519), ('forgive', 7520), ('67441233', 7521), ('irene', 7522), ('ere', 7523), ('bus8', 7524), ('65', 7525), ('61', 7526), ('66', 7527), ('382', 7528), ('cres', 7529), ('6ph', 7530), ('5wkg', 7531), ('ì¬n', 7532), ('stage', 7533), ('0808', 7534), ('145', 7535), ('4742', 7536), ('9am', 7537), ('11pm', 7538), ('front', 7539), ('pull', 7540), ('adventuring', 7541), ('tomorro', 7542), ('raping', 7543), ('dudes', 7544), ('stalking', 7545), ('predicte', 7546), ('astrology', 7547), ('5226', 7548), ('hava', 7549), ('1131', 7550), ('88888', 7551), ('08701213186', 7552), ('chloe', 7553), ('visionsms', 7554), ('goin2bed', 7555), ('only1more', 7556), ('minus', 7557), ('paragraphs', 7558), ('childporn', 7559), ('449071512431', 7560), (\"tyler's\", 7561), ('minor', 7562), ('reboot', 7563), ('squeezed', 7564), ('young', 7565), ('woah', 7566), ('realising', 7567), ('reasonable', 7568), ('iphone', 7569), ('amrita', 7570), ('pre', 7571), ('sacked', 7572), ('prominent', 7573), ('bite', 7574), ('cheek', 7575), (\"biola's\", 7576), ('fne', 7577), ('brolly', 7578), ('franxx', 7579), ('studies', 7580), ('anyones', 7581), ('begun', 7582), ('registration', 7583), ('permanent', 7584), ('residency', 7585), ('broadband', 7586), ('processed', 7587), ('installation', 7588), ('specify', 7589), ('domain', 7590), ('nusstu', 7591), ('scenery', 7592), ('browsin', 7593), ('compulsory', 7594), ('kickboxing', 7595), ('thus', 7596), ('disastrous', 7597), ('ccna', 7598), ('resolution', 7599), ('frank', 7600), ('thgt', 7601), (\"fren's\", 7602), ('jd', 7603), ('accounts', 7604), ('matric', 7605), ('dolls', 7606), ('patrick', 7607), ('swayze', 7608), ('wesley', 7609), (\"how've\", 7610), ('esaplanade', 7611), ('pdate', 7612), ('yhl', 7613), ('beside', 7614), ('asus', 7615), ('reformat', 7616), ('sweater', 7617), ('mango', 7618), ('beyond', 7619), ('biro', 7620), ('concentrate', 7621), ('papers', 7622), ('ffffuuuuuuu', 7623), ('miiiiiiissssssssss', 7624), ('coccooning', 7625), ('nor', 7626), ('cried', 7627), ('court', 7628), ('coveragd', 7629), ('vasai', 7630), (\"4'o\", 7631), ('smartcall', 7632), ('68866', 7633), ('subscriptn3gbp', 7634), ('08448714184', 7635), ('landlineonly', 7636), ('gopalettan', 7637), ('participate', 7638), ('hahaha', 7639), ('brain', 7640), ('lasting', 7641), ('defer', 7642), ('admission', 7643), ('andrews', 7644), ('heavily', 7645), ('linear', 7646), ('algebra', 7647), ('ou', 7648), ('explicitly', 7649), ('nora', 7650), ('i\\x89û÷ve', 7651), ('salt', 7652), ('wounds', 7653), ('083', 7654), ('6089', 7655), ('bcums', 7656), ('affection', 7657), ('kettoda', 7658), ('manda', 7659), ('printing', 7660), ('handing', 7661), ('fffff', 7662), ('lindsay', 7663), ('bars', 7664), ('heron', 7665), ('decorating', 7666), ('tats', 7667), ('nri', 7668), ('belligerent', 7669), ('07734396839', 7670), ('ibh', 7671), ('nokia6600', 7672), ('birthdate', 7673), (\"partner's\", 7674), ('method', 7675), ('narcotics', 7676), ('muhommad', 7677), ('penny', 7678), ('fumbling', 7679), ('08718726971', 7680), ('predicting', 7681), ('accumulation', 7682), (\"mummy's\", 7683), ('positive', 7684), ('negative', 7685), ('hmmmm', 7686), ('nasty', 7687), ('cough', 7688), ('sang', 7689), (\"'uptown\", 7690), (\"girl'\", 7691), (\"80's\", 7692), ('3650', 7693), ('09066382422', 7694), ('300603', 7695), ('bcm4284', 7696), ('69888nyt', 7697), ('sq825', 7698), ('arrival', 7699), ('olympics', 7700), ('expert', 7701), ('bags', 7702), ('blanket', 7703), ('turned', 7704), ('pocay', 7705), ('wocay', 7706), ('2morrowxxxx', 7707), ('hairdressers', 7708), ('beforehand', 7709), ('resizing', 7710), ('lunchtime', 7711), ('organise', 7712), ('remb', 7713), ('hen', 7714), ('slices', 7715), (\"world's\", 7716), ('happiest', 7717), ('characters', 7718), ('differences', 7719), ('xam', 7720), ('hall', 7721), ('hesitation', 7722), ('intha', 7723), ('ponnungale', 7724), ('ipaditan', 7725), ('natalja', 7726), ('nat27081980', 7727), ('auntie', 7728), ('huai', 7729), ('juan', 7730), ('hppnss', 7731), ('sorrow', 7732), ('forevr', 7733), ('goodfriend', 7734), ('evaporated', 7735), ('stealing', 7736), (\"employer's\", 7737), ('value', 7738), ('brisk', 7739), ('walks', 7740), ('spontaneously', 7741), ('goodevening', 7742), ('grab', 7743), (\"'doctors'\", 7744), ('reminds', 7745), ('oyster', 7746), ('sashimi', 7747), ('rumbling', 7748), ('sip', 7749), ('chiong', 7750), ('batsman', 7751), ('apart', 7752), ('wesleys', 7753), ('soo', 7754), ('correctly', 7755), ('punj', 7756), ('bhaji', 7757), ('cricketer', 7758), (\"it'll\", 7759), (\"1's\", 7760), ('thanks2', 7761), ('mega', 7762), ('asda', 7763), ('counts', 7764), ('opened', 7765), ('ft', 7766), ('combination', 7767), ('448712404000', 7768), ('08712404000', 7769), ('webadres', 7770), ('geting', 7771), ('prin', 7772), ('theoretically', 7773), ('tunde', 7774), ('deepest', 7775), ('darkest', 7776), ('09094646631', 7777), ('haircut', 7778), ('breezy', 7779), ('doesn\\x89û÷t', 7780), ('com1win150ppmx3age16subscription', 7781), ('protect', 7782), ('sib', 7783), ('sensitive', 7784), ('passwords', 7785), ('hanks', 7786), ('lotsly', 7787), ('browser', 7788), ('surf', 7789), (\"tm'ing\", 7790), ('laughs', 7791), ('sipix', 7792), ('09061221066', 7793), ('fromm', 7794), ('stalk', 7795), ('profiles', 7796), ('09094646899', 7797), ('vu', 7798), ('bcm1896wc1n3xx', 7799), ('dull', 7800), ('complaining', 7801), ('ibored', 7802), ('xclusive', 7803), ('clubsaisai', 7804), ('soiree', 7805), ('speciale', 7806), ('zouk', 7807), ('roses', 7808), ('07946746291', 7809), ('07880867867', 7810), ('memorable', 7811), ('grr', 7812), ('prescription', 7813), ('pharmacy', 7814), ('cheetos', 7815)])\n"
          ]
        }
      ]
    },
    {
      "cell_type": "markdown",
      "source": [
        "* 훈련 데이터에 단어 등장 빈도 확인"
      ],
      "metadata": {
        "id": "Zhst-uNCuMd7"
      }
    },
    {
      "cell_type": "code",
      "source": [
        "threshold = 2\n",
        "total_cnt = len( word_to_index )    # 단어 수\n",
        "rare_cnt = 0                        # 등장 빈도수가 threshold 보다 작은 단어 수\n",
        "total_freq = 0                      # 훈련 데이터 전체 단어 빈도 수\n",
        "rare_freq = 0                       # 등장 빈도수가 threshold 보다 작은 단어 수 합"
      ],
      "metadata": {
        "id": "lexGqFlBtgW8"
      },
      "execution_count": null,
      "outputs": []
    },
    {
      "cell_type": "code",
      "source": [
        "for key, value in tokenizer.word_counts.items():\n",
        "    total_freq += value\n",
        "\n",
        "    if ( value < threshold ):\n",
        "        rare_cnt += 1\n",
        "        rare_freq += value\n",
        "\n",
        "print( f'등장 빈도 {threshold + 1}번 이하인 희귀 단어 수 : {rare_cnt}' )\n",
        "print( f'단어 집합에서 희귀 단어 비율 : {rare_cnt / total_cnt * 100:.2f}%' )\n",
        "print( f'전체 등장 빈도에서 희귀 단어 비율 : {rare_freq / total_freq * 100:.2f}%' )"
      ],
      "metadata": {
        "colab": {
          "base_uri": "https://localhost:8080/"
        },
        "id": "Ujj_dH68uczK",
        "outputId": "ca71a7cc-7227-4f47-ee9b-d28c328503ac"
      },
      "execution_count": null,
      "outputs": [
        {
          "output_type": "stream",
          "name": "stdout",
          "text": [
            "등장 빈도 3번 이하인 희귀 단어 수 : 4329\n",
            "단어 집합에서 희귀 단어 비율 : 55.39%\n",
            "전체 등장 빈도에서 희귀 단어 비율 : 6.75%\n"
          ]
        }
      ]
    },
    {
      "cell_type": "code",
      "source": [
        "vocab_size = len( word_to_index ) + 1\n",
        "print( f'단어 집합 크기 : {vocab_size}' )"
      ],
      "metadata": {
        "colab": {
          "base_uri": "https://localhost:8080/"
        },
        "id": "ormXl_WavXRe",
        "outputId": "3db66619-e2c4-4134-ada9-e7079666e8c8"
      },
      "execution_count": null,
      "outputs": [
        {
          "output_type": "stream",
          "name": "stdout",
          "text": [
            "단어 집합 크기 : 7816\n"
          ]
        }
      ]
    },
    {
      "cell_type": "code",
      "source": [
        "print( f'메일 최대 길이 : {max( len( sample ) for sample in X_train_encoded)}' )\n",
        "print( f'메일 평균 길이 : {sum( map( len, X_train_encoded )) / len( X_train_encoded):.3f}' )\n",
        "\n",
        "plt.hist( [len( sample ) for sample in X_data ], bins = 50 )\n",
        "plt.xlabel( '샘플 길이' )\n",
        "plt.ylabel( '샘플 수' )\n",
        "plt.show()"
      ],
      "metadata": {
        "colab": {
          "base_uri": "https://localhost:8080/"
        },
        "id": "Oow4JYOXwvbA",
        "outputId": "d815dc6d-a4dd-42ee-91fd-2fa06855b8f7"
      },
      "execution_count": null,
      "outputs": [
        {
          "output_type": "stream",
          "name": "stdout",
          "text": [
            "메일 최대 길이 : 121\n",
            "메일 평균 길이 : 15.515\n"
          ]
        },
        {
          "output_type": "display_data",
          "data": {
            "text/plain": [
              "<Figure size 640x480 with 1 Axes>"
            ],
            "image/png": "[encoded data removed]"
          },
          "metadata": {}
        }
      ]
    },
    {
      "cell_type": "code",
      "source": [
        "max_len = 121\n",
        "X_train_encoded = pad_sequences( X_train_encoded, maxlen = max_len )\n",
        "\n",
        "print( f'훈련 데이터 크기 : {X_train_encoded.shape}' )"
      ],
      "metadata": {
        "colab": {
          "base_uri": "https://localhost:8080/"
        },
        "id": "PyPjLmX7xS84",
        "outputId": "39e0a418-18f1-48da-c89b-f1a3c2a78183"
      },
      "execution_count": null,
      "outputs": [
        {
          "output_type": "stream",
          "name": "stdout",
          "text": [
            "훈련 데이터 크기 : (4135, 121)\n"
          ]
        }
      ]
    },
    {
      "cell_type": "markdown",
      "source": [
        "## 스팸 메일 분류를 위한 RNN 신경망 모델링"
      ],
      "metadata": {
        "id": "7cInxlkTyLo1"
      }
    },
    {
      "cell_type": "code",
      "source": [
        "embedding_dim = 32\n",
        "hidden_units = 32\n",
        "\n",
        "model = Sequential()\n",
        "model.add( Embedding( vocab_size, embedding_dim ) )\n",
        "model.add( SimpleRNN( hidden_units ) )\n",
        "model.add( Dense( 1, activation = 'sigmoid' ) )"
      ],
      "metadata": {
        "id": "z7-qmKBAyDI2"
      },
      "execution_count": null,
      "outputs": []
    },
    {
      "cell_type": "code",
      "source": [
        "model.summary()"
      ],
      "metadata": {
        "colab": {
          "base_uri": "https://localhost:8080/"
        },
        "id": "MS5kUttGI8YC",
        "outputId": "084f7c4b-bfe8-4aea-81ea-76e4a93ac065"
      },
      "execution_count": null,
      "outputs": [
        {
          "output_type": "stream",
          "name": "stdout",
          "text": [
            "Model: \"sequential_7\"\n",
            "_________________________________________________________________\n",
            " Layer (type)                Output Shape              Param #   \n",
            "=================================================================\n",
            " embedding_6 (Embedding)     (None, None, 32)          250112    \n",
            "                                                                 \n",
            " simple_rnn_6 (SimpleRNN)    (None, 32)                2080      \n",
            "                                                                 \n",
            " dense_6 (Dense)             (None, 1)                 33        \n",
            "                                                                 \n",
            "=================================================================\n",
            "Total params: 252225 (985.25 KB)\n",
            "Trainable params: 252225 (985.25 KB)\n",
            "Non-trainable params: 0 (0.00 Byte)\n",
            "_________________________________________________________________\n"
          ]
        }
      ]
    },
    {
      "cell_type": "code",
      "source": [
        "model.compile( optimizer = 'adam', loss = 'binary_crossentropy',\n",
        "               metrics = [ 'accuracy' ] )\n",
        "history = model.fit( X_train_encoded, y_train, epochs = 4,\n",
        "                     batch_size = 64,\n",
        "                     validation_split = 0.2 )"
      ],
      "metadata": {
        "colab": {
          "base_uri": "https://localhost:8080/"
        },
        "id": "C9avABjjI92I",
        "outputId": "15b2b589-2e49-4bcf-c65c-0bf16483d672"
      },
      "execution_count": null,
      "outputs": [
        {
          "output_type": "stream",
          "name": "stdout",
          "text": [
            "Epoch 1/4\n",
            "52/52 [==============================] - 4s 40ms/step - loss: 0.4302 - accuracy: 0.8564 - val_loss: 0.3141 - val_accuracy: 0.8791\n",
            "Epoch 2/4\n",
            "52/52 [==============================] - 2s 36ms/step - loss: 0.2755 - accuracy: 0.9090 - val_loss: 0.1823 - val_accuracy: 0.9794\n",
            "Epoch 3/4\n",
            "52/52 [==============================] - 2s 33ms/step - loss: 0.1066 - accuracy: 0.9791 - val_loss: 0.0731 - val_accuracy: 0.9843\n",
            "Epoch 4/4\n",
            "52/52 [==============================] - 3s 54ms/step - loss: 0.0521 - accuracy: 0.9891 - val_loss: 0.0739 - val_accuracy: 0.9807\n"
          ]
        }
      ]
    },
    {
      "cell_type": "code",
      "source": [
        "disp_loss( history )"
      ],
      "metadata": {
        "colab": {
          "base_uri": "https://localhost:8080/",
          "height": 479
        },
        "id": "EdueO5FkKI14",
        "outputId": "fc83ad27-7de1-4df5-815c-e8f69b344024"
      },
      "execution_count": null,
      "outputs": [
        {
          "output_type": "display_data",
          "data": {
            "text/plain": [
              "<Figure size 640x480 with 1 Axes>"
            ],
            "image/png": "[encoded data removed]"
          },
          "metadata": {}
        }
      ]
    },
    {
      "cell_type": "markdown",
      "source": [
        "## 스팸 메일 분류를 위한 RNN 모델 평가"
      ],
      "metadata": {
        "id": "x5VvkVH1Kn9Z"
      }
    },
    {
      "cell_type": "code",
      "source": [
        "X_test_encoded = tokenizer.texts_to_sequences( X_test )\n",
        "X_test_encoded = pad_sequences( X_test_encoded )\n",
        "\n",
        "loss, accuracy = model.evaluate( X_test_encoded, y_test, verbose = 0 )\n",
        "print( f'accuracy : {accuracy:.3f}' )"
      ],
      "metadata": {
        "colab": {
          "base_uri": "https://localhost:8080/"
        },
        "id": "numvdYtNKS5f",
        "outputId": "c1f79d87-7b26-4738-b600-6c078071f040"
      },
      "execution_count": null,
      "outputs": [
        {
          "output_type": "stream",
          "name": "stdout",
          "text": [
            "accuracy : 0.976\n"
          ]
        }
      ]
    }
  ]
}